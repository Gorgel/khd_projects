{
 "metadata": {
  "name": "",
  "signature": "sha256:d190543ae0dcd26103561ebb89e3cea918ab542b3e303ac3c474067b17633df9"
 },
 "nbformat": 3,
 "nbformat_minor": 0,
 "worksheets": [
  {
   "cells": [
    {
     "cell_type": "code",
     "collapsed": false,
     "input": [
      "\n",
      "G = con.G.cgs.value\n",
      "k_B = con.k_B.cgs.value\n",
      "m_H = con.m_p.cgs.value\n",
      "s = 2*10**-4\n",
      "au = con.au.cgs.value\n",
      "r = 1*au\n",
      "r_0 = 1*au\n",
      "M_Sun = con.M_sun.cgs.value\n",
      "M_star = 1*M_Sun\n",
      "alpha = 7./2\n",
      "rho_0 = 2*10**-9\n",
      "rho_dust = 3*10**6\n",
      "mu = 2\n",
      "R = con.R.cgs.value\n",
      "T = 100\n",
      "year = 3600*24*365\n",
      "T_stop = (1/r)*np.sqrt(G*M_star/r - alpha*R*T/mu)* (s*rho_dust/rho_0 *(r_0/r)**alpha *np.sqrt(np.pi*mu*m_H/(8*k_B*T)))\n",
      "t_stop = (s*rho_dust/rho_0 *(r_0/r)**alpha *np.sqrt(np.pi*mu*m_H/(8*k_B*T)))\n",
      "v_gas = np.sqrt(G*M_star/r - alpha*R*T/mu)\n",
      "v_th = np.sqrt(8*k_B*T/(np.pi*mu*m_H))\n",
      "print('The gas orbital speed is:', v_gas)\n",
      "print('The thermal velocity is:', v_th)\n",
      "print('The stop time is:', t_stop)\n",
      "print('The dimensionless stopping time is %d', T_stop)"
     ],
     "language": "python",
     "metadata": {},
     "outputs": [
      {
       "output_type": "stream",
       "stream": "stdout",
       "text": [
        "('The gas orbital speed is:', 2976440.1123789004)\n",
        "('The thermal velocity is:', 102517.45016135478)\n",
        "('The stop time is:', 2926331.0736642638)\n",
        "('The dimensionless stopping time is %d', 0.5822308264816185)\n"
       ]
      }
     ],
     "prompt_number": 27
    },
    {
     "cell_type": "code",
     "collapsed": false,
     "input": [
      "v_gas"
     ],
     "language": "python",
     "metadata": {},
     "outputs": [
      {
       "metadata": {},
       "output_type": "pyout",
       "prompt_number": 28,
       "text": [
        "2976440.1123789004"
       ]
      }
     ],
     "prompt_number": 28
    },
    {
     "cell_type": "code",
     "collapsed": false,
     "input": [
      "cs = np.sqrt(R*T/mu)\n",
      "mach = v_gas/cs\n",
      "print('The mach number is:', mach)\n",
      "\n"
     ],
     "language": "python",
     "metadata": {},
     "outputs": [
      {
       "output_type": "stream",
       "stream": "stdout",
       "text": [
        "('The mach number is:', 46.16311086022742)\n"
       ]
      }
     ],
     "prompt_number": 23
    },
    {
     "cell_type": "code",
     "collapsed": false,
     "input": [
      "\n",
      "G = con.G.cgs.value\n",
      "k_B = con.k_B.cgs.value\n",
      "m_H = con.m_p.cgs.value\n",
      "s = 2*10**-4\n",
      "au = con.au.cgs.value\n",
      "r = 1*au\n",
      "r_0 = 1*au\n",
      "M_Sun = con.M_sun.cgs.value\n",
      "M_star = 1*M_Sun\n",
      "alpha = 7./2\n",
      "rho_0 = 5*10**-10\n",
      "rho_dust = 3\n",
      "mu = 2\n",
      "R = con.R.cgs.value\n",
      "T = 100\n",
      "year = 3600*24*365\n",
      "v_th = 2.4*10**5\n",
      "T_stop = (1/r)*np.sqrt(G*M_star/r - alpha*R*T/mu)* (s*rho_dust/rho_0 *(r_0/r)**alpha /v_th)\n",
      "t_stop = (s*rho_dust/rho_0 *(r_0/r)**alpha / v_th)\n",
      "v_gas = np.sqrt(G*M_star/r - alpha*R*T/mu)\n",
      "\n",
      "print('The gas orbital speed is:', v_gas)\n",
      "print('The thermal velocity is:', v_th)\n",
      "print('The stop time in is:', t_stop)\n",
      "print('The dimensionless stopping time is %d', T_stop)"
     ],
     "language": "python",
     "metadata": {},
     "outputs": [
      {
       "output_type": "stream",
       "stream": "stdout",
       "text": [
        "('The gas orbital speed is:', 2976440.1123789004)\n",
        "('The thermal velocity is:', 240000.0)\n",
        "('The stop time in is:', 5.0)\n",
        "('The dimensionless stopping time is %d', 9.9481366227056222e-07)\n"
       ]
      }
     ],
     "prompt_number": 26
    },
    {
     "cell_type": "code",
     "collapsed": false,
     "input": [
      "r = con.au\n",
      "t = u.year"
     ],
     "language": "python",
     "metadata": {},
     "outputs": [],
     "prompt_number": 1
    },
    {
     "cell_type": "code",
     "collapsed": false,
     "input": [
      "orbit = 2*np.pi*r"
     ],
     "language": "python",
     "metadata": {},
     "outputs": [],
     "prompt_number": 3
    },
    {
     "cell_type": "code",
     "collapsed": false,
     "input": [
      "(orbit / t).decompose()"
     ],
     "language": "python",
     "metadata": {},
     "outputs": [
      {
       "latex": [
        "$29785.3 \\; \\mathrm{\\frac{m}{s}}$"
       ],
       "metadata": {},
       "output_type": "pyout",
       "prompt_number": 6,
       "text": [
        "<Quantity 29785.254365591536 m / s>"
       ]
      }
     ],
     "prompt_number": 6
    },
    {
     "cell_type": "code",
     "collapsed": false,
     "input": [],
     "language": "python",
     "metadata": {},
     "outputs": []
    }
   ],
   "metadata": {}
  }
 ]
}