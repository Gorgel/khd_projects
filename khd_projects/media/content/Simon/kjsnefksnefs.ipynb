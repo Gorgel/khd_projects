<!DOCTYPE html>
<html>
<head>

<meta charset="utf-8" />
<title>ProblemSet1</title>

<script src="https://cdnjs.cloudflare.com/ajax/libs/require.js/2.1.10/require.min.js"></script>
<script src="https://cdnjs.cloudflare.com/ajax/libs/jquery/2.0.3/jquery.min.js"></script>

<style type="text/css">
    .clearfix{*zoom:1}.clearfix:before,.clearfix:after{display:table;content:"";line-height:0}
.clearfix:after{clear:both}
.hide-text{font:0/0 a;color:transparent;text-shadow:none;background-color:transparent;border:0}
.input-block-level{display:block;width:100%;min-height:30px;-webkit-box-sizing:border-box;-moz-box-sizing:border-box;box-sizing:border-box}
article,aside,details,figcaption,figure,footer,header,hgroup,nav,section{display:block}
audio,canvas,video{display:inline-block;*display:inline;*zoom:1}
audio:not([controls]){display:none}
html{font-size:100%;-webkit-text-size-adjust:100%;-ms-text-size-adjust:100%}
a:focus{outline:thin dotted #333;outline:5px auto -webkit-focus-ring-color;outline-offset:-2px}
a:hover,a:active{outline:0}
sub,sup{position:relative;font-size:75%;line-height:0;vertical-align:baseline}
sup{top:-0.5em}
sub{bottom:-0.25em}
img{max-width:100%;width:auto\9;height:auto;vertical-align:middle;border:0;-ms-interpolation-mode:bicubic}
#map_canvas img,.google-maps img{max-width:none}
button,input,select,textarea{margin:0;font-size:100%;vertical-align:middle}
button,input{*overflow:visible;line-height:normal}
button::-moz-focus-inner,input::-moz-focus-inner{padding:0;border:0}
button,html input[type="button"],input[type="reset"],input[type="submit"]{-webkit-appearance:button;cursor:pointer}
label,select,button,input[type="button"],input[type="reset"],input[type="submit"],input[type="radio"],input[type="checkbox"]{cursor:pointer}
input[type="search"]{-webkit-box-sizing:content-box;-moz-box-sizing:content-box;box-sizing:content-box;-webkit-appearance:textfield}
input[type="search"]::-webkit-search-decoration,input[type="search"]::-webkit-search-cancel-button{-webkit-appearance:none}
textarea{overflow:auto;vertical-align:top}
@media print{*{text-shadow:none !important;color:#000 !important;background:transparent !important;box-shadow:none !important} a,a:visited{text-decoration:underline} a[href]:after{content:" (" attr(href) ")"} abbr[title]:after{content:" (" attr(title) ")"} .ir a:after,a[href^="javascript:"]:after,a[href^="#"]:after{content:""} pre,blockquote{border:1px solid #999;page-break-inside:avoid} thead{display:table-header-group} tr,img{page-break-inside:avoid} img{max-width:100% !important} @page {margin:.5cm}p,h2,h3{orphans:3;widows:3} h2,h3{page-break-after:avoid}}body{margin:0;font-family:"Helvetica Neue",Helvetica,Arial,sans-serif;font-size:13px;line-height:20px;color:#000;background-color:#fff}
a{color:#08c;text-decoration:none}
a:hover,a:focus{color:#005580;text-decoration:underline}
.img-rounded{border-radius:6px;-webkit-border-radius:6px;-moz-border-radius:6px;border-radius:6px}
.img-polaroid{padding:4px;background-color:#fff;border:1px solid #ccc;border:1px solid rgba(0,0,0,0.2);-webkit-box-shadow:0 1px 3px rgba(0,0,0,0.1);-moz-box-shadow:0 1px 3px rgba(0,0,0,0.1);box-shadow:0 1px 3px rgba(0,0,0,0.1)}
.img-circle{border-radius:500px;-webkit-border-radius:500px;-moz-border-radius:500px;border-radius:500px}
.row{margin-left:-20px;*zoom:1}.row:before,.row:after{display:table;content:"";line-height:0}
.row:after{clear:both}
[class*="span"]{float:left;min-height:1px;margin-left:20px}
.container,.navbar-static-top .container,.navbar-fixed-top .container,.navbar-fixed-bottom .container{width:940px}
.span12{width:940px}
.span11{width:860px}
.span10{width:780px}
.span9{width:700px}
.span8{width:620px}
.span7{width:540px}
.span6{width:460px}
.span5{width:380px}
.span4{width:300px}
.span3{width:220px}
.span2{width:140px}
.span1{width:60px}
.offset12{margin-left:980px}
.offset11{margin-left:900px}
.offset10{margin-left:820px}
.offset9{margin-left:740px}
.offset8{margin-left:660px}
.offset7{margin-left:580px}
.offset6{margin-left:500px}
.offset5{margin-left:420px}
.offset4{margin-left:340px}
.offset3{margin-left:260px}
.offset2{margin-left:180px}
.offset1{margin-left:100px}
.row-fluid{width:100%;*zoom:1}.row-fluid:before,.row-fluid:after{display:table;content:"";line-height:0}
.row-fluid:after{clear:both}
.row-fluid [class*="span"]{display:block;width:100%;min-height:30px;-webkit-box-sizing:border-box;-moz-box-sizing:border-box;box-sizing:border-box;float:left;margin-left:2.127659574468085%;*margin-left:2.074468085106383%}
.row-fluid [class*="span"]:first-child{margin-left:0}
.row-fluid .controls-row [class*="span"]+[class*="span"]{margin-left:2.127659574468085%}
.row-fluid .span12{width:100%;*width:99.94680851063829%}
.row-fluid .span11{width:91.48936170212765%;*width:91.43617021276594%}
.row-fluid .span10{width:82.97872340425532%;*width:82.92553191489361%}
.row-fluid .span9{width:74.46808510638297%;*width:74.41489361702126%}
.row-fluid .span8{width:65.95744680851064%;*width:65.90425531914893%}
.row-fluid .span7{width:57.44680851063829%;*width:57.39361702127659%}
.row-fluid .span6{width:48.93617021276595%;*width:48.88297872340425%}
.row-fluid .span5{width:40.42553191489362%;*width:40.37234042553192%}
.row-fluid .span4{width:31.914893617021278%;*width:31.861702127659576%}
.row-fluid .span3{width:23.404255319148934%;*width:23.351063829787233%}
.row-fluid .span2{width:14.893617021276595%;*width:14.840425531914894%}
.row-fluid .span1{width:6.382978723404255%;*width:6.329787234042553%}
.row-fluid .offset12{margin-left:104.25531914893617%;*margin-left:104.14893617021275%}
.row-fluid .offset12:first-child{margin-left:102.12765957446808%;*margin-left:102.02127659574467%}
.row-fluid .offset11{margin-left:95.74468085106382%;*margin-left:95.6382978723404%}
.row-fluid .offset11:first-child{margin-left:93.61702127659574%;*margin-left:93.51063829787232%}
.row-fluid .offset10{margin-left:87.23404255319149%;*margin-left:87.12765957446807%}
.row-fluid .offset10:first-child{margin-left:85.1063829787234%;*margin-left:84.99999999999999%}
.row-fluid .offset9{margin-left:78.72340425531914%;*margin-left:78.61702127659572%}
.row-fluid .offset9:first-child{margin-left:76.59574468085106%;*margin-left:76.48936170212764%}
.row-fluid .offset8{margin-left:70.2127659574468%;*margin-left:70.10638297872339%}
.row-fluid .offset8:first-child{margin-left:68.08510638297872%;*margin-left:67.9787234042553%}
.row-fluid .offset7{margin-left:61.70212765957446%;*margin-left:61.59574468085106%}
.row-fluid .offset7:first-child{margin-left:59.574468085106375%;*margin-left:59.46808510638297%}
.row-fluid .offset6{margin-left:53.191489361702125%;*margin-left:53.085106382978715%}
.row-fluid .offset6:first-child{margin-left:51.063829787234035%;*margin-left:50.95744680851063%}
.row-fluid .offset5{margin-left:44.68085106382979%;*margin-left:44.57446808510638%}
.row-fluid .offset5:first-child{margin-left:42.5531914893617%;*margin-left:42.4468085106383%}
.row-fluid .offset4{margin-left:36.170212765957444%;*margin-left:36.06382978723405%}
.row-fluid .offset4:first-child{margin-left:34.04255319148936%;*margin-left:33.93617021276596%}
.row-fluid .offset3{margin-left:27.659574468085104%;*margin-left:27.5531914893617%}
.row-fluid .offset3:first-child{margin-left:25.53191489361702%;*margin-left:25.425531914893618%}
.row-fluid .offset2{margin-left:19.148936170212764%;*margin-left:19.04255319148936%}
.row-fluid .offset2:first-child{margin-left:17.02127659574468%;*margin-left:16.914893617021278%}
.row-fluid .offset1{margin-left:10.638297872340425%;*margin-left:10.53191489361702%}
.row-fluid .offset1:first-child{margin-left:8.51063829787234%;*margin-left:8.404255319148938%}
[class*="span"].hide,.row-fluid [class*="span"].hide{display:none}
[class*="span"].pull-right,.row-fluid [class*="span"].pull-right{float:right}
.container{margin-right:auto;margin-left:auto;*zoom:1}.container:before,.container:after{display:table;content:"";line-height:0}
.container:after{clear:both}
.container-fluid{padding-right:20px;padding-left:20px;*zoom:1}.container-fluid:before,.container-fluid:after{display:table;content:"";line-height:0}
.container-fluid:after{clear:both}
p{margin:0 0 10px}
.lead{margin-bottom:20px;font-size:19.5px;font-weight:200;line-height:30px}
small{font-size:85%}
strong{font-weight:bold}
em{font-style:italic}
cite{font-style:normal}
.muted{color:#999}
a.muted:hover,a.muted:focus{color:#808080}
.text-warning{color:#c09853}
a.text-warning:hover,a.text-warning:focus{color:#a47e3c}
.text-error{color:#b94a48}
a.text-error:hover,a.text-error:focus{color:#953b39}
.text-info{color:#3a87ad}
a.text-info:hover,a.text-info:focus{color:#2d6987}
.text-success{color:#468847}
a.text-success:hover,a.text-success:focus{color:#356635}
.text-left{text-align:left}
.text-right{text-align:right}
.text-center{text-align:center}
h1,h2,h3,h4,h5,h6{margin:10px 0;font-family:inherit;font-weight:bold;line-height:20px;color:inherit;text-rendering:optimizelegibility}h1 small,h2 small,h3 small,h4 small,h5 small,h6 small{font-weight:normal;line-height:1;color:#999}
h1,h2,h3{line-height:40px}
h1{font-size:35.75px}
h2{font-size:29.25px}
h3{font-size:22.75px}
h4{font-size:16.25px}
h5{font-size:13px}
h6{font-size:11.049999999999999px}
h1 small{font-size:22.75px}
h2 small{font-size:16.25px}
h3 small{font-size:13px}
h4 small{font-size:13px}
.page-header{padding-bottom:9px;margin:20px 0 30px;border-bottom:1px solid #eee}
ul,ol{padding:0;margin:0 0 10px 25px}
ul ul,ul ol,ol ol,ol ul{margin-bottom:0}
li{line-height:20px}
ul.unstyled,ol.unstyled{margin-left:0;list-style:none}
ul.inline,ol.inline{margin-left:0;list-style:none}ul.inline>li,ol.inline>li{display:inline-block;*display:inline;*zoom:1;padding-left:5px;padding-right:5px}
dl{margin-bottom:20px}
dt,dd{line-height:20px}
dt{font-weight:bold}
dd{margin-left:10px}
.dl-horizontal{*zoom:1}.dl-horizontal:before,.dl-horizontal:after{display:table;content:"";line-height:0}
.dl-horizontal:after{clear:both}
.dl-horizontal dt{float:left;width:160px;clear:left;text-align:right;overflow:hidden;text-overflow:ellipsis;white-space:nowrap}
.dl-horizontal dd{margin-left:180px}
hr{margin:20px 0;border:0;border-top:1px solid #eee;border-bottom:1px solid #fff}
abbr[title],abbr[data-original-title]{cursor:help;border-bottom:1px dotted #999}
abbr.initialism{font-size:90%;text-transform:uppercase}
blockquote{padding:0 0 0 15px;margin:0 0 20px;border-left:5px solid #eee}blockquote p{margin-bottom:0;font-size:16.25px;font-weight:300;line-height:1.25}
blockquote small{display:block;line-height:20px;color:#999}blockquote small:before{content:'\2014 \00A0'}
blockquote.pull-right{float:right;padding-right:15px;padding-left:0;border-right:5px solid #eee;border-left:0}blockquote.pull-right p,blockquote.pull-right small{text-align:right}
blockquote.pull-right small:before{content:''}
blockquote.pull-right small:after{content:'\00A0 \2014'}
q:before,q:after,blockquote:before,blockquote:after{content:""}
address{display:block;margin-bottom:20px;font-style:normal;line-height:20px}
code,pre{padding:0 3px 2px;font-family:monospace;font-size:11px;color:#333;border-radius:3px;-webkit-border-radius:3px;-moz-border-radius:3px;border-radius:3px}
code{padding:2px 4px;color:#d14;background-color:#f7f7f9;border:1px solid #e1e1e8;white-space:nowrap}
pre{display:block;padding:9.5px;margin:0 0 10px;font-size:12px;line-height:20px;word-break:break-all;word-wrap:break-word;white-space:pre;white-space:pre-wrap;background-color:#f5f5f5;border:1px solid #ccc;border:1px solid rgba(0,0,0,0.15);border-radius:4px;-webkit-border-radius:4px;-moz-border-radius:4px;border-radius:4px}pre.prettyprint{margin-bottom:20px}
pre code{padding:0;color:inherit;white-space:pre;white-space:pre-wrap;background-color:transparent;border:0}
.pre-scrollable{max-height:340px;overflow-y:scroll}
form{margin:0 0 20px}
fieldset{padding:0;margin:0;border:0}
legend{display:block;width:100%;padding:0;margin-bottom:20px;font-size:19.5px;line-height:40px;color:#333;border:0;border-bottom:1px solid #e5e5e5}legend small{font-size:15px;color:#999}
label,input,button,select,textarea{font-size:13px;font-weight:normal;line-height:20px}
input,button,select,textarea{font-family:"Helvetica Neue",Helvetica,Arial,sans-serif}
label{display:block;margin-bottom:5px}
select,textarea,input[type="text"],input[type="password"],input[type="datetime"],input[type="datetime-local"],input[type="date"],input[type="month"],input[type="time"],input[type="week"],input[type="number"],input[type="email"],input[type="url"],input[type="search"],input[type="tel"],input[type="color"],.uneditable-input{display:inline-block;height:20px;padding:4px 6px;margin-bottom:10px;font-size:13px;line-height:20px;color:#555;-webkit-border-radius:4px;-moz-border-radius:4px;border-radius:4px;vertical-align:middle}
input,textarea,.uneditable-input{width:206px}
textarea{height:auto}
textarea,input[type="text"],input[type="password"],input[type="datetime"],input[type="datetime-local"],input[type="date"],input[type="month"],input[type="time"],input[type="week"],input[type="number"],input[type="email"],input[type="url"],input[type="search"],input[type="tel"],input[type="color"],.uneditable-input{background-color:#fff;border:1px solid #ccc;-webkit-box-shadow:inset 0 1px 1px rgba(0,0,0,0.075);-moz-box-shadow:inset 0 1px 1px rgba(0,0,0,0.075);box-shadow:inset 0 1px 1px rgba(0,0,0,0.075);-webkit-transition:border linear .2s, box-shadow linear .2s;-moz-transition:border linear .2s, box-shadow linear .2s;-o-transition:border linear .2s, box-shadow linear .2s;transition:border linear .2s, box-shadow linear .2s}textarea:focus,input[type="text"]:focus,input[type="password"]:focus,input[type="datetime"]:focus,input[type="datetime-local"]:focus,input[type="date"]:focus,input[type="month"]:focus,input[type="time"]:focus,input[type="week"]:focus,input[type="number"]:focus,input[type="email"]:focus,input[type="url"]:focus,input[type="search"]:focus,input[type="tel"]:focus,input[type="color"]:focus,.uneditable-input:focus{border-color:rgba(82,168,236,0.8);outline:0;outline:thin dotted \9;-webkit-box-shadow:inset 0 1px 1px rgba(0,0,0,.075), 0 0 8px rgba(82,168,236,.6);-moz-box-shadow:inset 0 1px 1px rgba(0,0,0,.075), 0 0 8px rgba(82,168,236,.6);box-shadow:inset 0 1px 1px rgba(0,0,0,.075), 0 0 8px rgba(82,168,236,.6)}
input[type="radio"],input[type="checkbox"]{margin:4px 0 0;*margin-top:0;margin-top:1px \9;line-height:normal}
input[type="file"],input[type="image"],input[type="submit"],input[type="reset"],input[type="button"],input[type="radio"],input[type="checkbox"]{width:auto}
select,input[type="file"]{height:30px;*margin-top:4px;line-height:30px}
select{width:220px;border:1px solid #ccc;background-color:#fff}
select[multiple],select[size]{height:auto}
select:focus,input[type="file"]:focus,input[type="radio"]:focus,input[type="checkbox"]:focus{outline:thin dotted #333;outline:5px auto -webkit-focus-ring-color;outline-offset:-2px}
.uneditable-input,.uneditable-textarea{color:#999;background-color:#fcfcfc;border-color:#ccc;-webkit-box-shadow:inset 0 1px 2px rgba(0,0,0,0.025);-moz-box-shadow:inset 0 1px 2px rgba(0,0,0,0.025);box-shadow:inset 0 1px 2px rgba(0,0,0,0.025);cursor:not-allowed}
.uneditable-input{overflow:hidden;white-space:nowrap}
.uneditable-textarea{width:auto;height:auto}
input:-moz-placeholder,textarea:-moz-placeholder{color:#999}
input:-ms-input-placeholder,textarea:-ms-input-placeholder{color:#999}
input::-webkit-input-placeholder,textarea::-webkit-input-placeholder{color:#999}
.radio,.checkbox{min-height:20px;padding-left:20px}
.radio input[type="radio"],.checkbox input[type="checkbox"]{float:left;margin-left:-20px}
.controls>.radio:first-child,.controls>.checkbox:first-child{padding-top:5px}
.radio.inline,.checkbox.inline{display:inline-block;padding-top:5px;margin-bottom:0;vertical-align:middle}
.radio.inline+.radio.inline,.checkbox.inline+.checkbox.inline{margin-left:10px}
.input-mini{width:60px}
.input-small{width:90px}
.input-medium{width:150px}
.input-large{width:210px}
.input-xlarge{width:270px}
.input-xxlarge{width:530px}
input[class*="span"],select[class*="span"],textarea[class*="span"],.uneditable-input[class*="span"],.row-fluid input[class*="span"],.row-fluid select[class*="span"],.row-fluid textarea[class*="span"],.row-fluid .uneditable-input[class*="span"]{float:none;margin-left:0}
.input-append input[class*="span"],.input-append .uneditable-input[class*="span"],.input-prepend input[class*="span"],.input-prepend .uneditable-input[class*="span"],.row-fluid input[class*="span"],.row-fluid select[class*="span"],.row-fluid textarea[class*="span"],.row-fluid .uneditable-input[class*="span"],.row-fluid .input-prepend [class*="span"],.row-fluid .input-append [class*="span"]{display:inline-block}
input,textarea,.uneditable-input{margin-left:0}
.controls-row [class*="span"]+[class*="span"]{margin-left:20px}
input.span12,textarea.span12,.uneditable-input.span12{width:926px}
input.span11,textarea.span11,.uneditable-input.span11{width:846px}
input.span10,textarea.span10,.uneditable-input.span10{width:766px}
input.span9,textarea.span9,.uneditable-input.span9{width:686px}
input.span8,textarea.span8,.uneditable-input.span8{width:606px}
input.span7,textarea.span7,.uneditable-input.span7{width:526px}
input.span6,textarea.span6,.uneditable-input.span6{width:446px}
input.span5,textarea.span5,.uneditable-input.span5{width:366px}
input.span4,textarea.span4,.uneditable-input.span4{width:286px}
input.span3,textarea.span3,.uneditable-input.span3{width:206px}
input.span2,textarea.span2,.uneditable-input.span2{width:126px}
input.span1,textarea.span1,.uneditable-input.span1{width:46px}
.controls-row{*zoom:1}.controls-row:before,.controls-row:after{display:table;content:"";line-height:0}
.controls-row:after{clear:both}
.controls-row [class*="span"],.row-fluid .controls-row [class*="span"]{float:left}
.controls-row .checkbox[class*="span"],.controls-row .radio[class*="span"]{padding-top:5px}
input[disabled],select[disabled],textarea[disabled],input[readonly],select[readonly],textarea[readonly]{cursor:not-allowed;background-color:#eee}
input[type="radio"][disabled],input[type="checkbox"][disabled],input[type="radio"][readonly],input[type="checkbox"][readonly]{background-color:transparent}
.control-group.warning .control-label,.control-group.warning .help-block,.control-group.warning .help-inline{color:#c09853}
.control-group.warning .checkbox,.control-group.warning .radio,.control-group.warning input,.control-group.warning select,.control-group.warning textarea{color:#c09853}
.control-group.warning input,.control-group.warning select,.control-group.warning textarea{border-color:#c09853;-webkit-box-shadow:inset 0 1px 1px rgba(0,0,0,0.075);-moz-box-shadow:inset 0 1px 1px rgba(0,0,0,0.075);box-shadow:inset 0 1px 1px rgba(0,0,0,0.075)}.control-group.warning input:focus,.control-group.warning select:focus,.control-group.warning textarea:focus{border-color:#a47e3c;-webkit-box-shadow:inset 0 1px 1px rgba(0,0,0,0.075),0 0 6px #dbc59e;-moz-box-shadow:inset 0 1px 1px rgba(0,0,0,0.075),0 0 6px #dbc59e;box-shadow:inset 0 1px 1px rgba(0,0,0,0.075),0 0 6px #dbc59e}
.control-group.warning .input-prepend .add-on,.control-group.warning .input-append .add-on{color:#c09853;background-color:#fcf8e3;border-color:#c09853}
.control-group.error .control-label,.control-group.error .help-block,.control-group.error .help-inline{color:#b94a48}
.control-group.error .checkbox,.control-group.error .radio,.control-group.error input,.control-group.error select,.control-group.error textarea{color:#b94a48}
.control-group.error input,.control-group.error select,.control-group.error textarea{border-color:#b94a48;-webkit-box-shadow:inset 0 1px 1px rgba(0,0,0,0.075);-moz-box-shadow:inset 0 1px 1px rgba(0,0,0,0.075);box-shadow:inset 0 1px 1px rgba(0,0,0,0.075)}.control-group.error input:focus,.control-group.error select:focus,.control-group.error textarea:focus{border-color:#953b39;-webkit-box-shadow:inset 0 1px 1px rgba(0,0,0,0.075),0 0 6px #d59392;-moz-box-shadow:inset 0 1px 1px rgba(0,0,0,0.075),0 0 6px #d59392;box-shadow:inset 0 1px 1px rgba(0,0,0,0.075),0 0 6px #d59392}
.control-group.error .input-prepend .add-on,.control-group.error .input-append .add-on{color:#b94a48;background-color:#f2dede;border-color:#b94a48}
.control-group.success .control-label,.control-group.success .help-block,.control-group.success .help-inline{color:#468847}
.control-group.success .checkbox,.control-group.success .radio,.control-group.success input,.control-group.success select,.control-group.success textarea{color:#468847}
.control-group.success input,.control-group.success select,.control-group.success textarea{border-color:#468847;-webkit-box-shadow:inset 0 1px 1px rgba(0,0,0,0.075);-moz-box-shadow:inset 0 1px 1px rgba(0,0,0,0.075);box-shadow:inset 0 1px 1px rgba(0,0,0,0.075)}.control-group.success input:focus,.control-group.success select:focus,.control-group.success textarea:focus{border-color:#356635;-webkit-box-shadow:inset 0 1px 1px rgba(0,0,0,0.075),0 0 6px #7aba7b;-moz-box-shadow:inset 0 1px 1px rgba(0,0,0,0.075),0 0 6px #7aba7b;box-shadow:inset 0 1px 1px rgba(0,0,0,0.075),0 0 6px #7aba7b}
.control-group.success .input-prepend .add-on,.control-group.success .input-append .add-on{color:#468847;background-color:#dff0d8;border-color:#468847}
.control-group.info .control-label,.control-group.info .help-block,.control-group.info .help-inline{color:#3a87ad}
.control-group.info .checkbox,.control-group.info .radio,.control-group.info input,.control-group.info select,.control-group.info textarea{color:#3a87ad}
.control-group.info input,.control-group.info select,.control-group.info textarea{border-color:#3a87ad;-webkit-box-shadow:inset 0 1px 1px rgba(0,0,0,0.075);-moz-box-shadow:inset 0 1px 1px rgba(0,0,0,0.075);box-shadow:inset 0 1px 1px rgba(0,0,0,0.075)}.control-group.info input:focus,.control-group.info select:focus,.control-group.info textarea:focus{border-color:#2d6987;-webkit-box-shadow:inset 0 1px 1px rgba(0,0,0,0.075),0 0 6px #7ab5d3;-moz-box-shadow:inset 0 1px 1px rgba(0,0,0,0.075),0 0 6px #7ab5d3;box-shadow:inset 0 1px 1px rgba(0,0,0,0.075),0 0 6px #7ab5d3}
.control-group.info .input-prepend .add-on,.control-group.info .input-append .add-on{color:#3a87ad;background-color:#d9edf7;border-color:#3a87ad}
input:focus:invalid,textarea:focus:invalid,select:focus:invalid{color:#b94a48;border-color:#ee5f5b}input:focus:invalid:focus,textarea:focus:invalid:focus,select:focus:invalid:focus{border-color:#e9322d;-webkit-box-shadow:0 0 6px #f8b9b7;-moz-box-shadow:0 0 6px #f8b9b7;box-shadow:0 0 6px #f8b9b7}
.form-actions{padding:19px 20px 20px;margin-top:20px;margin-bottom:20px;background-color:#f5f5f5;border-top:1px solid #e5e5e5;*zoom:1}.form-actions:before,.form-actions:after{display:table;content:"";line-height:0}
.form-actions:after{clear:both}
.help-block,.help-inline{color:#262626}
.help-block{display:block;margin-bottom:10px}
.help-inline{display:inline-block;*display:inline;*zoom:1;vertical-align:middle;padding-left:5px}
.input-append,.input-prepend{display:inline-block;margin-bottom:10px;vertical-align:middle;font-size:0;white-space:nowrap}.input-append input,.input-prepend input,.input-append select,.input-prepend select,.input-append .uneditable-input,.input-prepend .uneditable-input,.input-append .dropdown-menu,.input-prepend .dropdown-menu,.input-append .popover,.input-prepend .popover{font-size:13px}
.input-append input,.input-prepend input,.input-append select,.input-prepend select,.input-append .uneditable-input,.input-prepend .uneditable-input{position:relative;margin-bottom:0;*margin-left:0;vertical-align:top;border-radius:0 4px 4px 0;-webkit-border-radius:0 4px 4px 0;-moz-border-radius:0 4px 4px 0;border-radius:0 4px 4px 0}.input-append input:focus,.input-prepend input:focus,.input-append select:focus,.input-prepend select:focus,.input-append .uneditable-input:focus,.input-prepend .uneditable-input:focus{z-index:2}
.input-append .add-on,.input-prepend .add-on{display:inline-block;width:auto;height:20px;min-width:16px;padding:4px 5px;font-size:13px;font-weight:normal;line-height:20px;text-align:center;text-shadow:0 1px 0 #fff;background-color:#eee;border:1px solid #ccc}
.input-append .add-on,.input-prepend .add-on,.input-append .btn,.input-prepend .btn,.input-append .btn-group>.dropdown-toggle,.input-prepend .btn-group>.dropdown-toggle{vertical-align:top;border-radius:0;-webkit-border-radius:0;-moz-border-radius:0;border-radius:0}
.input-append .active,.input-prepend .active{background-color:#a9dba9;border-color:#46a546}
.input-prepend .add-on,.input-prepend .btn{margin-right:-1px}
.input-prepend .add-on:first-child,.input-prepend .btn:first-child{border-radius:4px 0 0 4px;-webkit-border-radius:4px 0 0 4px;-moz-border-radius:4px 0 0 4px;border-radius:4px 0 0 4px}
.input-append input,.input-append select,.input-append .uneditable-input{border-radius:4px 0 0 4px;-webkit-border-radius:4px 0 0 4px;-moz-border-radius:4px 0 0 4px;border-radius:4px 0 0 4px}.input-append input+.btn-group .btn:last-child,.input-append select+.btn-group .btn:last-child,.input-append .uneditable-input+.btn-group .btn:last-child{border-radius:0 4px 4px 0;-webkit-border-radius:0 4px 4px 0;-moz-border-radius:0 4px 4px 0;border-radius:0 4px 4px 0}
.input-append .add-on,.input-append .btn,.input-append .btn-group{margin-left:-1px}
.input-append .add-on:last-child,.input-append .btn:last-child,.input-append .btn-group:last-child>.dropdown-toggle{border-radius:0 4px 4px 0;-webkit-border-radius:0 4px 4px 0;-moz-border-radius:0 4px 4px 0;border-radius:0 4px 4px 0}
.input-prepend.input-append input,.input-prepend.input-append select,.input-prepend.input-append .uneditable-input{border-radius:0;-webkit-border-radius:0;-moz-border-radius:0;border-radius:0}.input-prepend.input-append input+.btn-group .btn,.input-prepend.input-append select+.btn-group .btn,.input-prepend.input-append .uneditable-input+.btn-group .btn{border-radius:0 4px 4px 0;-webkit-border-radius:0 4px 4px 0;-moz-border-radius:0 4px 4px 0;border-radius:0 4px 4px 0}
.input-prepend.input-append .add-on:first-child,.input-prepend.input-append .btn:first-child{margin-right:-1px;border-radius:4px 0 0 4px;-webkit-border-radius:4px 0 0 4px;-moz-border-radius:4px 0 0 4px;border-radius:4px 0 0 4px}
.input-prepend.input-append .add-on:last-child,.input-prepend.input-append .btn:last-child{margin-left:-1px;border-radius:0 4px 4px 0;-webkit-border-radius:0 4px 4px 0;-moz-border-radius:0 4px 4px 0;border-radius:0 4px 4px 0}
.input-prepend.input-append .btn-group:first-child{margin-left:0}
input.search-query{padding-right:14px;padding-right:4px \9;padding-left:14px;padding-left:4px \9;margin-bottom:0;border-radius:15px;-webkit-border-radius:15px;-moz-border-radius:15px;border-radius:15px}
.form-search .input-append .search-query,.form-search .input-prepend .search-query{border-radius:0;-webkit-border-radius:0;-moz-border-radius:0;border-radius:0}
.form-search .input-append .search-query{border-radius:14px 0 0 14px;-webkit-border-radius:14px 0 0 14px;-moz-border-radius:14px 0 0 14px;border-radius:14px 0 0 14px}
.form-search .input-append .btn{border-radius:0 14px 14px 0;-webkit-border-radius:0 14px 14px 0;-moz-border-radius:0 14px 14px 0;border-radius:0 14px 14px 0}
.form-search .input-prepend .search-query{border-radius:0 14px 14px 0;-webkit-border-radius:0 14px 14px 0;-moz-border-radius:0 14px 14px 0;border-radius:0 14px 14px 0}
.form-search .input-prepend .btn{border-radius:14px 0 0 14px;-webkit-border-radius:14px 0 0 14px;-moz-border-radius:14px 0 0 14px;border-radius:14px 0 0 14px}
.form-search input,.form-inline input,.form-horizontal input,.form-search textarea,.form-inline textarea,.form-horizontal textarea,.form-search select,.form-inline select,.form-horizontal select,.form-search .help-inline,.form-inline .help-inline,.form-horizontal .help-inline,.form-search .uneditable-input,.form-inline .uneditable-input,.form-horizontal .uneditable-input,.form-search .input-prepend,.form-inline .input-prepend,.form-horizontal .input-prepend,.form-search .input-append,.form-inline .input-append,.form-horizontal .input-append{display:inline-block;*display:inline;*zoom:1;margin-bottom:0;vertical-align:middle}
.form-search .hide,.form-inline .hide,.form-horizontal .hide{display:none}
.form-search label,.form-inline label,.form-search .btn-group,.form-inline .btn-group{display:inline-block}
.form-search .input-append,.form-inline .input-append,.form-search .input-prepend,.form-inline .input-prepend{margin-bottom:0}
.form-search .radio,.form-search .checkbox,.form-inline .radio,.form-inline .checkbox{padding-left:0;margin-bottom:0;vertical-align:middle}
.form-search .radio input[type="radio"],.form-search .checkbox input[type="checkbox"],.form-inline .radio input[type="radio"],.form-inline .checkbox input[type="checkbox"]{float:left;margin-right:3px;margin-left:0}
.control-group{margin-bottom:10px}
legend+.control-group{margin-top:20px;-webkit-margin-top-collapse:separate}
.form-horizontal .control-group{margin-bottom:20px;*zoom:1}.form-horizontal .control-group:before,.form-horizontal .control-group:after{display:table;content:"";line-height:0}
.form-horizontal .control-group:after{clear:both}
.form-horizontal .control-label{float:left;width:160px;padding-top:5px;text-align:right}
.form-horizontal .controls{*display:inline-block;*padding-left:20px;margin-left:180px;*margin-left:0}.form-horizontal .controls:first-child{*padding-left:180px}
.form-horizontal .help-block{margin-bottom:0}
.form-horizontal input+.help-block,.form-horizontal select+.help-block,.form-horizontal textarea+.help-block,.form-horizontal .uneditable-input+.help-block,.form-horizontal .input-prepend+.help-block,.form-horizontal .input-append+.help-block{margin-top:10px}
.form-horizontal .form-actions{padding-left:180px}
table{max-width:100%;background-color:transparent;border-collapse:collapse;border-spacing:0}
.table{width:100%;margin-bottom:20px}.table th,.table td{padding:8px;line-height:20px;text-align:left;vertical-align:top;border-top:1px solid #ddd}
.table th{font-weight:bold}
.table thead th{vertical-align:bottom}
.table caption+thead tr:first-child th,.table caption+thead tr:first-child td,.table colgroup+thead tr:first-child th,.table colgroup+thead tr:first-child td,.table thead:first-child tr:first-child th,.table thead:first-child tr:first-child td{border-top:0}
.table tbody+tbody{border-top:2px solid #ddd}
.table .table{background-color:#fff}
.table-condensed th,.table-condensed td{padding:4px 5px}
.table-bordered{border:1px solid #ddd;border-collapse:separate;*border-collapse:collapse;border-left:0;border-radius:4px;-webkit-border-radius:4px;-moz-border-radius:4px;border-radius:4px}.table-bordered th,.table-bordered td{border-left:1px solid #ddd}
.table-bordered caption+thead tr:first-child th,.table-bordered caption+tbody tr:first-child th,.table-bordered caption+tbody tr:first-child td,.table-bordered colgroup+thead tr:first-child th,.table-bordered colgroup+tbody tr:first-child th,.table-bordered colgroup+tbody tr:first-child td,.table-bordered thead:first-child tr:first-child th,.table-bordered tbody:first-child tr:first-child th,.table-bordered tbody:first-child tr:first-child td{border-top:0}
.table-bordered thead:first-child tr:first-child>th:first-child,.table-bordered tbody:first-child tr:first-child>td:first-child,.table-bordered tbody:first-child tr:first-child>th:first-child{-webkit-border-top-left-radius:4px;-moz-border-radius-topleft:4px;border-top-left-radius:4px}
.table-bordered thead:first-child tr:first-child>th:last-child,.table-bordered tbody:first-child tr:first-child>td:last-child,.table-bordered tbody:first-child tr:first-child>th:last-child{-webkit-border-top-right-radius:4px;-moz-border-radius-topright:4px;border-top-right-radius:4px}
.table-bordered thead:last-child tr:last-child>th:first-child,.table-bordered tbody:last-child tr:last-child>td:first-child,.table-bordered tbody:last-child tr:last-child>th:first-child,.table-bordered tfoot:last-child tr:last-child>td:first-child,.table-bordered tfoot:last-child tr:last-child>th:first-child{-webkit-border-bottom-left-radius:4px;-moz-border-radius-bottomleft:4px;border-bottom-left-radius:4px}
.table-bordered thead:last-child tr:last-child>th:last-child,.table-bordered tbody:last-child tr:last-child>td:last-child,.table-bordered tbody:last-child tr:last-child>th:last-child,.table-bordered tfoot:last-child tr:last-child>td:last-child,.table-bordered tfoot:last-child tr:last-child>th:last-child{-webkit-border-bottom-right-radius:4px;-moz-border-radius-bottomright:4px;border-bottom-right-radius:4px}
.table-bordered tfoot+tbody:last-child tr:last-child td:first-child{-webkit-border-bottom-left-radius:0;-moz-border-radius-bottomleft:0;border-bottom-left-radius:0}
.table-bordered tfoot+tbody:last-child tr:last-child td:last-child{-webkit-border-bottom-right-radius:0;-moz-border-radius-bottomright:0;border-bottom-right-radius:0}
.table-bordered caption+thead tr:first-child th:first-child,.table-bordered caption+tbody tr:first-child td:first-child,.table-bordered colgroup+thead tr:first-child th:first-child,.table-bordered colgroup+tbody tr:first-child td:first-child{-webkit-border-top-left-radius:4px;-moz-border-radius-topleft:4px;border-top-left-radius:4px}
.table-bordered caption+thead tr:first-child th:last-child,.table-bordered caption+tbody tr:first-child td:last-child,.table-bordered colgroup+thead tr:first-child th:last-child,.table-bordered colgroup+tbody tr:first-child td:last-child{-webkit-border-top-right-radius:4px;-moz-border-radius-topright:4px;border-top-right-radius:4px}
.table-striped tbody>tr:nth-child(odd)>td,.table-striped tbody>tr:nth-child(odd)>th{background-color:#f9f9f9}
.table-hover tbody tr:hover>td,.table-hover tbody tr:hover>th{background-color:#f5f5f5}
table td[class*="span"],table th[class*="span"],.row-fluid table td[class*="span"],.row-fluid table th[class*="span"]{display:table-cell;float:none;margin-left:0}
.table td.span1,.table th.span1{float:none;width:44px;margin-left:0}
.table td.span2,.table th.span2{float:none;width:124px;margin-left:0}
.table td.span3,.table th.span3{float:none;width:204px;margin-left:0}
.table td.span4,.table th.span4{float:none;width:284px;margin-left:0}
.table td.span5,.table th.span5{float:none;width:364px;margin-left:0}
.table td.span6,.table th.span6{float:none;width:444px;margin-left:0}
.table td.span7,.table th.span7{float:none;width:524px;margin-left:0}
.table td.span8,.table th.span8{float:none;width:604px;margin-left:0}
.table td.span9,.table th.span9{float:none;width:684px;margin-left:0}
.table td.span10,.table th.span10{float:none;width:764px;margin-left:0}
.table td.span11,.table th.span11{float:none;width:844px;margin-left:0}
.table td.span12,.table th.span12{float:none;width:924px;margin-left:0}
.table tbody tr.success>td{background-color:#dff0d8}
.table tbody tr.error>td{background-color:#f2dede}
.table tbody tr.warning>td{background-color:#fcf8e3}
.table tbody tr.info>td{background-color:#d9edf7}
.table-hover tbody tr.success:hover>td{background-color:#d0e9c6}
.table-hover tbody tr.error:hover>td{background-color:#ebcccc}
.table-hover tbody tr.warning:hover>td{background-color:#faf2cc}
.table-hover tbody tr.info:hover>td{background-color:#c4e3f3}
[class^="icon-"],[class*=" icon-"]{display:inline-block;width:14px;height:14px;*margin-right:.3em;line-height:14px;vertical-align:text-top;background-image:url("../img/glyphicons-halflings.png");background-position:14px 14px;background-repeat:no-repeat;margin-top:1px}
.icon-white,.nav-pills>.active>a>[class^="icon-"],.nav-pills>.active>a>[class*=" icon-"],.nav-list>.active>a>[class^="icon-"],.nav-list>.active>a>[class*=" icon-"],.navbar-inverse .nav>.active>a>[class^="icon-"],.navbar-inverse .nav>.active>a>[class*=" icon-"],.dropdown-menu>li>a:hover>[class^="icon-"],.dropdown-menu>li>a:focus>[class^="icon-"],.dropdown-menu>li>a:hover>[class*=" icon-"],.dropdown-menu>li>a:focus>[class*=" icon-"],.dropdown-menu>.active>a>[class^="icon-"],.dropdown-menu>.active>a>[class*=" icon-"],.dropdown-submenu:hover>a>[class^="icon-"],.dropdown-submenu:focus>a>[class^="icon-"],.dropdown-submenu:hover>a>[class*=" icon-"],.dropdown-submenu:focus>a>[class*=" icon-"]{background-image:url("../img/glyphicons-halflings-white.png")}
.icon-glass{background-position:0 0}
.icon-music{background-position:-24px 0}
.icon-search{background-position:-48px 0}
.icon-envelope{background-position:-72px 0}
.icon-heart{background-position:-96px 0}
.icon-star{background-position:-120px 0}
.icon-star-empty{background-position:-144px 0}
.icon-user{background-position:-168px 0}
.icon-film{background-position:-192px 0}
.icon-th-large{background-position:-216px 0}
.icon-th{background-position:-240px 0}
.icon-th-list{background-position:-264px 0}
.icon-ok{background-position:-288px 0}
.icon-remove{background-position:-312px 0}
.icon-zoom-in{background-position:-336px 0}
.icon-zoom-out{background-position:-360px 0}
.icon-off{background-position:-384px 0}
.icon-signal{background-position:-408px 0}
.icon-cog{background-position:-432px 0}
.icon-trash{background-position:-456px 0}
.icon-home{background-position:0 -24px}
.icon-file{background-position:-24px -24px}
.icon-time{background-position:-48px -24px}
.icon-road{background-position:-72px -24px}
.icon-download-alt{background-position:-96px -24px}
.icon-download{background-position:-120px -24px}
.icon-upload{background-position:-144px -24px}
.icon-inbox{background-position:-168px -24px}
.icon-play-circle{background-position:-192px -24px}
.icon-repeat{background-position:-216px -24px}
.icon-refresh{background-position:-240px -24px}
.icon-list-alt{background-position:-264px -24px}
.icon-lock{background-position:-287px -24px}
.icon-flag{background-position:-312px -24px}
.icon-headphones{background-position:-336px -24px}
.icon-volume-off{background-position:-360px -24px}
.icon-volume-down{background-position:-384px -24px}
.icon-volume-up{background-position:-408px -24px}
.icon-qrcode{background-position:-432px -24px}
.icon-barcode{background-position:-456px -24px}
.icon-tag{background-position:0 -48px}
.icon-tags{background-position:-25px -48px}
.icon-book{background-position:-48px -48px}
.icon-bookmark{background-position:-72px -48px}
.icon-print{background-position:-96px -48px}
.icon-camera{background-position:-120px -48px}
.icon-font{background-position:-144px -48px}
.icon-bold{background-position:-167px -48px}
.icon-italic{background-position:-192px -48px}
.icon-text-height{background-position:-216px -48px}
.icon-text-width{background-position:-240px -48px}
.icon-align-left{background-position:-264px -48px}
.icon-align-center{background-position:-288px -48px}
.icon-align-right{background-position:-312px -48px}
.icon-align-justify{background-position:-336px -48px}
.icon-list{background-position:-360px -48px}
.icon-indent-left{background-position:-384px -48px}
.icon-indent-right{background-position:-408px -48px}
.icon-facetime-video{background-position:-432px -48px}
.icon-picture{background-position:-456px -48px}
.icon-pencil{background-position:0 -72px}
.icon-map-marker{background-position:-24px -72px}
.icon-adjust{background-position:-48px -72px}
.icon-tint{background-position:-72px -72px}
.icon-edit{background-position:-96px -72px}
.icon-share{background-position:-120px -72px}
.icon-check{background-position:-144px -72px}
.icon-move{background-position:-168px -72px}
.icon-step-backward{background-position:-192px -72px}
.icon-fast-backward{background-position:-216px -72px}
.icon-backward{background-position:-240px -72px}
.icon-play{background-position:-264px -72px}
.icon-pause{background-position:-288px -72px}
.icon-stop{background-position:-312px -72px}
.icon-forward{background-position:-336px -72px}
.icon-fast-forward{background-position:-360px -72px}
.icon-step-forward{background-position:-384px -72px}
.icon-eject{background-position:-408px -72px}
.icon-chevron-left{background-position:-432px -72px}
.icon-chevron-right{background-position:-456px -72px}
.icon-plus-sign{background-position:0 -96px}
.icon-minus-sign{background-position:-24px -96px}
.icon-remove-sign{background-position:-48px -96px}
.icon-ok-sign{background-position:-72px -96px}
.icon-question-sign{background-position:-96px -96px}
.icon-info-sign{background-position:-120px -96px}
.icon-screenshot{background-position:-144px -96px}
.icon-remove-circle{background-position:-168px -96px}
.icon-ok-circle{background-position:-192px -96px}
.icon-ban-circle{background-position:-216px -96px}
.icon-arrow-left{background-position:-240px -96px}
.icon-arrow-right{background-position:-264px -96px}
.icon-arrow-up{background-position:-289px -96px}
.icon-arrow-down{background-position:-312px -96px}
.icon-share-alt{background-position:-336px -96px}
.icon-resize-full{background-position:-360px -96px}
.icon-resize-small{background-position:-384px -96px}
.icon-plus{background-position:-408px -96px}
.icon-minus{background-position:-433px -96px}
.icon-asterisk{background-position:-456px -96px}
.icon-exclamation-sign{background-position:0 -120px}
.icon-gift{background-position:-24px -120px}
.icon-leaf{background-position:-48px -120px}
.icon-fire{background-position:-72px -120px}
.icon-eye-open{background-position:-96px -120px}
.icon-eye-close{background-position:-120px -120px}
.icon-warning-sign{background-position:-144px -120px}
.icon-plane{background-position:-168px -120px}
.icon-calendar{background-position:-192px -120px}
.icon-random{background-position:-216px -120px;width:16px}
.icon-comment{background-position:-240px -120px}
.icon-magnet{background-position:-264px -120px}
.icon-chevron-up{background-position:-288px -120px}
.icon-chevron-down{background-position:-313px -119px}
.icon-retweet{background-position:-336px -120px}
.icon-shopping-cart{background-position:-360px -120px}
.icon-folder-close{background-position:-384px -120px;width:16px}
.icon-folder-open{background-position:-408px -120px;width:16px}
.icon-resize-vertical{background-position:-432px -119px}
.icon-resize-horizontal{background-position:-456px -118px}
.icon-hdd{background-position:0 -144px}
.icon-bullhorn{background-position:-24px -144px}
.icon-bell{background-position:-48px -144px}
.icon-certificate{background-position:-72px -144px}
.icon-thumbs-up{background-position:-96px -144px}
.icon-thumbs-down{background-position:-120px -144px}
.icon-hand-right{background-position:-144px -144px}
.icon-hand-left{background-position:-168px -144px}
.icon-hand-up{background-position:-192px -144px}
.icon-hand-down{background-position:-216px -144px}
.icon-circle-arrow-right{background-position:-240px -144px}
.icon-circle-arrow-left{background-position:-264px -144px}
.icon-circle-arrow-up{background-position:-288px -144px}
.icon-circle-arrow-down{background-position:-312px -144px}
.icon-globe{background-position:-336px -144px}
.icon-wrench{background-position:-360px -144px}
.icon-tasks{background-position:-384px -144px}
.icon-filter{background-position:-408px -144px}
.icon-briefcase{background-position:-432px -144px}
.icon-fullscreen{background-position:-456px -144px}
.dropup,.dropdown{position:relative}
.dropdown-toggle{*margin-bottom:-3px}
.dropdown-toggle:active,.open .dropdown-toggle{outline:0}
.caret{display:inline-block;width:0;height:0;vertical-align:top;border-top:4px solid #000;border-right:4px solid transparent;border-left:4px solid transparent;content:""}
.dropdown .caret{margin-top:8px;margin-left:2px}
.dropdown-menu{position:absolute;top:100%;left:0;z-index:1000;display:none;float:left;min-width:160px;padding:5px 0;margin:2px 0 0;list-style:none;background-color:#fff;border:1px solid #ccc;border:1px solid rgba(0,0,0,0.2);*border-right-width:2px;*border-bottom-width:2px;-webkit-border-radius:6px;-moz-border-radius:6px;border-radius:6px;-webkit-box-shadow:0 5px 10px rgba(0,0,0,0.2);-moz-box-shadow:0 5px 10px rgba(0,0,0,0.2);box-shadow:0 5px 10px rgba(0,0,0,0.2);-webkit-background-clip:padding-box;-moz-background-clip:padding;background-clip:padding-box}.dropdown-menu.pull-right{right:0;left:auto}
.dropdown-menu .divider{*width:100%;height:1px;margin:9px 1px;*margin:-5px 0 5px;overflow:hidden;background-color:#e5e5e5;border-bottom:1px solid #fff}
.dropdown-menu>li>a{display:block;padding:3px 20px;clear:both;font-weight:normal;line-height:20px;color:#333;white-space:nowrap}
.dropdown-menu>li>a:hover,.dropdown-menu>li>a:focus,.dropdown-submenu:hover>a,.dropdown-submenu:focus>a{text-decoration:none;color:#fff;background-color:#0081c2;background-image:-moz-linear-gradient(top, #08c, #0077b3);background-image:-webkit-gradient(linear, 0 0, 0 100%, from(#08c), to(#0077b3));background-image:-webkit-linear-gradient(top, #08c, #0077b3);background-image:-o-linear-gradient(top, #08c, #0077b3);background-image:linear-gradient(to bottom, #08c, #0077b3);background-repeat:repeat-x;filter:progid:DXImageTransform.Microsoft.gradient(startColorstr='#ff0088cc', endColorstr='#ff0077b3', GradientType=0)}
.dropdown-menu>.active>a,.dropdown-menu>.active>a:hover,.dropdown-menu>.active>a:focus{color:#fff;text-decoration:none;outline:0;background-color:#0081c2;background-image:-moz-linear-gradient(top, #08c, #0077b3);background-image:-webkit-gradient(linear, 0 0, 0 100%, from(#08c), to(#0077b3));background-image:-webkit-linear-gradient(top, #08c, #0077b3);background-image:-o-linear-gradient(top, #08c, #0077b3);background-image:linear-gradient(to bottom, #08c, #0077b3);background-repeat:repeat-x;filter:progid:DXImageTransform.Microsoft.gradient(startColorstr='#ff0088cc', endColorstr='#ff0077b3', GradientType=0)}
.dropdown-menu>.disabled>a,.dropdown-menu>.disabled>a:hover,.dropdown-menu>.disabled>a:focus{color:#999}
.dropdown-menu>.disabled>a:hover,.dropdown-menu>.disabled>a:focus{text-decoration:none;background-color:transparent;background-image:none;filter:progid:DXImageTransform.Microsoft.gradient(enabled = false);cursor:default}
.open{*z-index:1000}.open>.dropdown-menu{display:block}
.dropdown-backdrop{position:fixed;left:0;right:0;bottom:0;top:0;z-index:990}
.pull-right>.dropdown-menu{right:0;left:auto}
.dropup .caret,.navbar-fixed-bottom .dropdown .caret{border-top:0;border-bottom:4px solid #000;content:""}
.dropup .dropdown-menu,.navbar-fixed-bottom .dropdown .dropdown-menu{top:auto;bottom:100%;margin-bottom:1px}
.dropdown-submenu{position:relative}
.dropdown-submenu>.dropdown-menu{top:0;left:100%;margin-top:-6px;margin-left:-1px;border-radius:0 6px 6px 6px;-webkit-border-radius:0 6px 6px 6px;-moz-border-radius:0 6px 6px 6px;border-radius:0 6px 6px 6px}
.dropdown-submenu:hover>.dropdown-menu{display:block}
.dropup .dropdown-submenu>.dropdown-menu{top:auto;bottom:0;margin-top:0;margin-bottom:-2px;border-radius:5px 5px 5px 0;-webkit-border-radius:5px 5px 5px 0;-moz-border-radius:5px 5px 5px 0;border-radius:5px 5px 5px 0}
.dropdown-submenu>a:after{display:block;content:" ";float:right;width:0;height:0;border-color:transparent;border-style:solid;border-width:5px 0 5px 5px;border-left-color:#ccc;margin-top:5px;margin-right:-10px}
.dropdown-submenu:hover>a:after{border-left-color:#fff}
.dropdown-submenu.pull-left{float:none}.dropdown-submenu.pull-left>.dropdown-menu{left:-100%;margin-left:10px;border-radius:6px 0 6px 6px;-webkit-border-radius:6px 0 6px 6px;-moz-border-radius:6px 0 6px 6px;border-radius:6px 0 6px 6px}
.dropdown .dropdown-menu .nav-header{padding-left:20px;padding-right:20px}
.typeahead{z-index:1051;margin-top:2px;border-radius:4px;-webkit-border-radius:4px;-moz-border-radius:4px;border-radius:4px}
.well{min-height:20px;padding:19px;margin-bottom:20px;background-color:#f5f5f5;border:1px solid #e3e3e3;-webkit-border-radius:4px;-moz-border-radius:4px;border-radius:4px;-webkit-box-shadow:inset 0 1px 1px rgba(0,0,0,0.05);-moz-box-shadow:inset 0 1px 1px rgba(0,0,0,0.05);box-shadow:inset 0 1px 1px rgba(0,0,0,0.05)}.well blockquote{border-color:#ddd;border-color:rgba(0,0,0,0.15)}
.well-large{padding:24px;border-radius:6px;-webkit-border-radius:6px;-moz-border-radius:6px;border-radius:6px}
.well-small{padding:9px;border-radius:3px;-webkit-border-radius:3px;-moz-border-radius:3px;border-radius:3px}
.fade{opacity:0;-webkit-transition:opacity .15s linear;-moz-transition:opacity .15s linear;-o-transition:opacity .15s linear;transition:opacity .15s linear}.fade.in{opacity:1}
.collapse{position:relative;height:0;overflow:hidden;-webkit-transition:height .35s ease;-moz-transition:height .35s ease;-o-transition:height .35s ease;transition:height .35s ease}.collapse.in{height:auto}
.close{float:right;font-size:20px;font-weight:bold;line-height:20px;color:#000;text-shadow:0 1px 0 #fff;opacity:.2;filter:alpha(opacity=20)}.close:hover,.close:focus{color:#000;text-decoration:none;cursor:pointer;opacity:.4;filter:alpha(opacity=40)}
button.close{padding:0;cursor:pointer;background:transparent;border:0;-webkit-appearance:none}
.btn{display:inline-block;*display:inline;*zoom:1;padding:4px 12px;margin-bottom:0;font-size:13px;line-height:20px;text-align:center;vertical-align:middle;cursor:pointer;color:#333;text-shadow:0 1px 1px rgba(255,255,255,0.75);background-color:#f5f5f5;background-image:-moz-linear-gradient(top, #fff, #e6e6e6);background-image:-webkit-gradient(linear, 0 0, 0 100%, from(#fff), to(#e6e6e6));background-image:-webkit-linear-gradient(top, #fff, #e6e6e6);background-image:-o-linear-gradient(top, #fff, #e6e6e6);background-image:linear-gradient(to bottom, #fff, #e6e6e6);background-repeat:repeat-x;filter:progid:DXImageTransform.Microsoft.gradient(startColorstr='#ffffffff', endColorstr='#ffe6e6e6', GradientType=0);border-color:#e6e6e6 #e6e6e6 #bfbfbf;border-color:rgba(0,0,0,0.1) rgba(0,0,0,0.1) rgba(0,0,0,0.25);*background-color:#e6e6e6;filter:progid:DXImageTransform.Microsoft.gradient(enabled = false);border:1px solid #ccc;*border:0;border-bottom-color:#b3b3b3;-webkit-border-radius:4px;-moz-border-radius:4px;border-radius:4px;*margin-left:.3em;-webkit-box-shadow:inset 0 1px 0 rgba(255,255,255,.2), 0 1px 2px rgba(0,0,0,.05);-moz-box-shadow:inset 0 1px 0 rgba(255,255,255,.2), 0 1px 2px rgba(0,0,0,.05);box-shadow:inset 0 1px 0 rgba(255,255,255,.2), 0 1px 2px rgba(0,0,0,.05)}.btn:hover,.btn:focus,.btn:active,.btn.active,.btn.disabled,.btn[disabled]{color:#333;background-color:#e6e6e6;*background-color:#d9d9d9}
.btn:active,.btn.active{background-color:#ccc \9}
.btn:first-child{*margin-left:0}
.btn:hover,.btn:focus{color:#333;text-decoration:none;background-position:0 -15px;-webkit-transition:background-position .1s linear;-moz-transition:background-position .1s linear;-o-transition:background-position .1s linear;transition:background-position .1s linear}
.btn:focus{outline:thin dotted #333;outline:5px auto -webkit-focus-ring-color;outline-offset:-2px}
.btn.active,.btn:active{background-image:none;outline:0;-webkit-box-shadow:inset 0 2px 4px rgba(0,0,0,.15), 0 1px 2px rgba(0,0,0,.05);-moz-box-shadow:inset 0 2px 4px rgba(0,0,0,.15), 0 1px 2px rgba(0,0,0,.05);box-shadow:inset 0 2px 4px rgba(0,0,0,.15), 0 1px 2px rgba(0,0,0,.05)}
.btn.disabled,.btn[disabled]{cursor:default;background-image:none;opacity:.65;filter:alpha(opacity=65);-webkit-box-shadow:none;-moz-box-shadow:none;box-shadow:none}
.btn-large{padding:11px 19px;font-size:16.25px;border-radius:6px;-webkit-border-radius:6px;-moz-border-radius:6px;border-radius:6px}
.btn-large [class^="icon-"],.btn-large [class*=" icon-"]{margin-top:4px}
.btn-small{padding:2px 10px;font-size:11.049999999999999px;border-radius:3px;-webkit-border-radius:3px;-moz-border-radius:3px;border-radius:3px}
.btn-small [class^="icon-"],.btn-small [class*=" icon-"]{margin-top:0}
.btn-mini [class^="icon-"],.btn-mini [class*=" icon-"]{margin-top:-1px}
.btn-mini{padding:0 6px;font-size:9.75px;border-radius:3px;-webkit-border-radius:3px;-moz-border-radius:3px;border-radius:3px}
.btn-block{display:block;width:100%;padding-left:0;padding-right:0;-webkit-box-sizing:border-box;-moz-box-sizing:border-box;box-sizing:border-box}
.btn-block+.btn-block{margin-top:5px}
input[type="submit"].btn-block,input[type="reset"].btn-block,input[type="button"].btn-block{width:100%}
.btn-primary.active,.btn-warning.active,.btn-danger.active,.btn-success.active,.btn-info.active,.btn-inverse.active{color:rgba(255,255,255,0.75)}
.btn-primary{color:#fff;text-shadow:0 -1px 0 rgba(0,0,0,0.25);background-color:#006dcc;background-image:-moz-linear-gradient(top, #08c, #04c);background-image:-webkit-gradient(linear, 0 0, 0 100%, from(#08c), to(#04c));background-image:-webkit-linear-gradient(top, #08c, #04c);background-image:-o-linear-gradient(top, #08c, #04c);background-image:linear-gradient(to bottom, #08c, #04c);background-repeat:repeat-x;filter:progid:DXImageTransform.Microsoft.gradient(startColorstr='#ff0088cc', endColorstr='#ff0044cc', GradientType=0);border-color:#04c #04c #002a80;border-color:rgba(0,0,0,0.1) rgba(0,0,0,0.1) rgba(0,0,0,0.25);*background-color:#04c;filter:progid:DXImageTransform.Microsoft.gradient(enabled = false)}.btn-primary:hover,.btn-primary:focus,.btn-primary:active,.btn-primary.active,.btn-primary.disabled,.btn-primary[disabled]{color:#fff;background-color:#04c;*background-color:#003bb3}
.btn-primary:active,.btn-primary.active{background-color:#039 \9}
.btn-warning{color:#fff;text-shadow:0 -1px 0 rgba(0,0,0,0.25);background-color:#faa732;background-image:-moz-linear-gradient(top, #fbb450, #f89406);background-image:-webkit-gradient(linear, 0 0, 0 100%, from(#fbb450), to(#f89406));background-image:-webkit-linear-gradient(top, #fbb450, #f89406);background-image:-o-linear-gradient(top, #fbb450, #f89406);background-image:linear-gradient(to bottom, #fbb450, #f89406);background-repeat:repeat-x;filter:progid:DXImageTransform.Microsoft.gradient(startColorstr='#fffbb450', endColorstr='#fff89406', GradientType=0);border-color:#f89406 #f89406 #ad6704;border-color:rgba(0,0,0,0.1) rgba(0,0,0,0.1) rgba(0,0,0,0.25);*background-color:#f89406;filter:progid:DXImageTransform.Microsoft.gradient(enabled = false)}.btn-warning:hover,.btn-warning:focus,.btn-warning:active,.btn-warning.active,.btn-warning.disabled,.btn-warning[disabled]{color:#fff;background-color:#f89406;*background-color:#df8505}
.btn-warning:active,.btn-warning.active{background-color:#c67605 \9}
.btn-danger{color:#fff;text-shadow:0 -1px 0 rgba(0,0,0,0.25);background-color:#da4f49;background-image:-moz-linear-gradient(top, #ee5f5b, #bd362f);background-image:-webkit-gradient(linear, 0 0, 0 100%, from(#ee5f5b), to(#bd362f));background-image:-webkit-linear-gradient(top, #ee5f5b, #bd362f);background-image:-o-linear-gradient(top, #ee5f5b, #bd362f);background-image:linear-gradient(to bottom, #ee5f5b, #bd362f);background-repeat:repeat-x;filter:progid:DXImageTransform.Microsoft.gradient(startColorstr='#ffee5f5b', endColorstr='#ffbd362f', GradientType=0);border-color:#bd362f #bd362f #802420;border-color:rgba(0,0,0,0.1) rgba(0,0,0,0.1) rgba(0,0,0,0.25);*background-color:#bd362f;filter:progid:DXImageTransform.Microsoft.gradient(enabled = false)}.btn-danger:hover,.btn-danger:focus,.btn-danger:active,.btn-danger.active,.btn-danger.disabled,.btn-danger[disabled]{color:#fff;background-color:#bd362f;*background-color:#a9302a}
.btn-danger:active,.btn-danger.active{background-color:#942a25 \9}
.btn-success{color:#fff;text-shadow:0 -1px 0 rgba(0,0,0,0.25);background-color:#5bb75b;background-image:-moz-linear-gradient(top, #62c462, #51a351);background-image:-webkit-gradient(linear, 0 0, 0 100%, from(#62c462), to(#51a351));background-image:-webkit-linear-gradient(top, #62c462, #51a351);background-image:-o-linear-gradient(top, #62c462, #51a351);background-image:linear-gradient(to bottom, #62c462, #51a351);background-repeat:repeat-x;filter:progid:DXImageTransform.Microsoft.gradient(startColorstr='#ff62c462', endColorstr='#ff51a351', GradientType=0);border-color:#51a351 #51a351 #387038;border-color:rgba(0,0,0,0.1) rgba(0,0,0,0.1) rgba(0,0,0,0.25);*background-color:#51a351;filter:progid:DXImageTransform.Microsoft.gradient(enabled = false)}.btn-success:hover,.btn-success:focus,.btn-success:active,.btn-success.active,.btn-success.disabled,.btn-success[disabled]{color:#fff;background-color:#51a351;*background-color:#499249}
.btn-success:active,.btn-success.active{background-color:#408140 \9}
.btn-info{color:#fff;text-shadow:0 -1px 0 rgba(0,0,0,0.25);background-color:#49afcd;background-image:-moz-linear-gradient(top, #5bc0de, #2f96b4);background-image:-webkit-gradient(linear, 0 0, 0 100%, from(#5bc0de), to(#2f96b4));background-image:-webkit-linear-gradient(top, #5bc0de, #2f96b4);background-image:-o-linear-gradient(top, #5bc0de, #2f96b4);background-image:linear-gradient(to bottom, #5bc0de, #2f96b4);background-repeat:repeat-x;filter:progid:DXImageTransform.Microsoft.gradient(startColorstr='#ff5bc0de', endColorstr='#ff2f96b4', GradientType=0);border-color:#2f96b4 #2f96b4 #1f6377;border-color:rgba(0,0,0,0.1) rgba(0,0,0,0.1) rgba(0,0,0,0.25);*background-color:#2f96b4;filter:progid:DXImageTransform.Microsoft.gradient(enabled = false)}.btn-info:hover,.btn-info:focus,.btn-info:active,.btn-info.active,.btn-info.disabled,.btn-info[disabled]{color:#fff;background-color:#2f96b4;*background-color:#2a85a0}
.btn-info:active,.btn-info.active{background-color:#24748c \9}
.btn-inverse{color:#fff;text-shadow:0 -1px 0 rgba(0,0,0,0.25);background-color:#363636;background-image:-moz-linear-gradient(top, #444, #222);background-image:-webkit-gradient(linear, 0 0, 0 100%, from(#444), to(#222));background-image:-webkit-linear-gradient(top, #444, #222);background-image:-o-linear-gradient(top, #444, #222);background-image:linear-gradient(to bottom, #444, #222);background-repeat:repeat-x;filter:progid:DXImageTransform.Microsoft.gradient(startColorstr='#ff444444', endColorstr='#ff222222', GradientType=0);border-color:#222 #222 #000;border-color:rgba(0,0,0,0.1) rgba(0,0,0,0.1) rgba(0,0,0,0.25);*background-color:#222;filter:progid:DXImageTransform.Microsoft.gradient(enabled = false)}.btn-inverse:hover,.btn-inverse:focus,.btn-inverse:active,.btn-inverse.active,.btn-inverse.disabled,.btn-inverse[disabled]{color:#fff;background-color:#222;*background-color:#151515}
.btn-inverse:active,.btn-inverse.active{background-color:#080808 \9}
button.btn,input[type="submit"].btn{*padding-top:3px;*padding-bottom:3px}button.btn::-moz-focus-inner,input[type="submit"].btn::-moz-focus-inner{padding:0;border:0}
button.btn.btn-large,input[type="submit"].btn.btn-large{*padding-top:7px;*padding-bottom:7px}
button.btn.btn-small,input[type="submit"].btn.btn-small{*padding-top:3px;*padding-bottom:3px}
button.btn.btn-mini,input[type="submit"].btn.btn-mini{*padding-top:1px;*padding-bottom:1px}
.btn-link,.btn-link:active,.btn-link[disabled]{background-color:transparent;background-image:none;-webkit-box-shadow:none;-moz-box-shadow:none;box-shadow:none}
.btn-link{border-color:transparent;cursor:pointer;color:#08c;border-radius:0;-webkit-border-radius:0;-moz-border-radius:0;border-radius:0}
.btn-link:hover,.btn-link:focus{color:#005580;text-decoration:underline;background-color:transparent}
.btn-link[disabled]:hover,.btn-link[disabled]:focus{color:#333;text-decoration:none}
.btn-group{position:relative;display:inline-block;*display:inline;*zoom:1;font-size:0;vertical-align:middle;white-space:nowrap;*margin-left:.3em}.btn-group:first-child{*margin-left:0}
.btn-group+.btn-group{margin-left:5px}
.btn-toolbar{font-size:0;margin-top:10px;margin-bottom:10px}.btn-toolbar>.btn+.btn,.btn-toolbar>.btn-group+.btn,.btn-toolbar>.btn+.btn-group{margin-left:5px}
.btn-group>.btn{position:relative;border-radius:0;-webkit-border-radius:0;-moz-border-radius:0;border-radius:0}
.btn-group>.btn+.btn{margin-left:-1px}
.btn-group>.btn,.btn-group>.dropdown-menu,.btn-group>.popover{font-size:13px}
.btn-group>.btn-mini{font-size:9.75px}
.btn-group>.btn-small{font-size:11.049999999999999px}
.btn-group>.btn-large{font-size:16.25px}
.btn-group>.btn:first-child{margin-left:0;-webkit-border-top-left-radius:4px;-moz-border-radius-topleft:4px;border-top-left-radius:4px;-webkit-border-bottom-left-radius:4px;-moz-border-radius-bottomleft:4px;border-bottom-left-radius:4px}
.btn-group>.btn:last-child,.btn-group>.dropdown-toggle{-webkit-border-top-right-radius:4px;-moz-border-radius-topright:4px;border-top-right-radius:4px;-webkit-border-bottom-right-radius:4px;-moz-border-radius-bottomright:4px;border-bottom-right-radius:4px}
.btn-group>.btn.large:first-child{margin-left:0;-webkit-border-top-left-radius:6px;-moz-border-radius-topleft:6px;border-top-left-radius:6px;-webkit-border-bottom-left-radius:6px;-moz-border-radius-bottomleft:6px;border-bottom-left-radius:6px}
.btn-group>.btn.large:last-child,.btn-group>.large.dropdown-toggle{-webkit-border-top-right-radius:6px;-moz-border-radius-topright:6px;border-top-right-radius:6px;-webkit-border-bottom-right-radius:6px;-moz-border-radius-bottomright:6px;border-bottom-right-radius:6px}
.btn-group>.btn:hover,.btn-group>.btn:focus,.btn-group>.btn:active,.btn-group>.btn.active{z-index:2}
.btn-group .dropdown-toggle:active,.btn-group.open .dropdown-toggle{outline:0}
.btn-group>.btn+.dropdown-toggle{padding-left:8px;padding-right:8px;-webkit-box-shadow:inset 1px 0 0 rgba(255,255,255,.125), inset 0 1px 0 rgba(255,255,255,.2), 0 1px 2px rgba(0,0,0,.05);-moz-box-shadow:inset 1px 0 0 rgba(255,255,255,.125), inset 0 1px 0 rgba(255,255,255,.2), 0 1px 2px rgba(0,0,0,.05);box-shadow:inset 1px 0 0 rgba(255,255,255,.125), inset 0 1px 0 rgba(255,255,255,.2), 0 1px 2px rgba(0,0,0,.05);*padding-top:5px;*padding-bottom:5px}
.btn-group>.btn-mini+.dropdown-toggle{padding-left:5px;padding-right:5px;*padding-top:2px;*padding-bottom:2px}
.btn-group>.btn-small+.dropdown-toggle{*padding-top:5px;*padding-bottom:4px}
.btn-group>.btn-large+.dropdown-toggle{padding-left:12px;padding-right:12px;*padding-top:7px;*padding-bottom:7px}
.btn-group.open .dropdown-toggle{background-image:none;-webkit-box-shadow:inset 0 2px 4px rgba(0,0,0,.15), 0 1px 2px rgba(0,0,0,.05);-moz-box-shadow:inset 0 2px 4px rgba(0,0,0,.15), 0 1px 2px rgba(0,0,0,.05);box-shadow:inset 0 2px 4px rgba(0,0,0,.15), 0 1px 2px rgba(0,0,0,.05)}
.btn-group.open .btn.dropdown-toggle{background-color:#e6e6e6}
.btn-group.open .btn-primary.dropdown-toggle{background-color:#04c}
.btn-group.open .btn-warning.dropdown-toggle{background-color:#f89406}
.btn-group.open .btn-danger.dropdown-toggle{background-color:#bd362f}
.btn-group.open .btn-success.dropdown-toggle{background-color:#51a351}
.btn-group.open .btn-info.dropdown-toggle{background-color:#2f96b4}
.btn-group.open .btn-inverse.dropdown-toggle{background-color:#222}
.btn .caret{margin-top:8px;margin-left:0}
.btn-large .caret{margin-top:6px}
.btn-large .caret{border-left-width:5px;border-right-width:5px;border-top-width:5px}
.btn-mini .caret,.btn-small .caret{margin-top:8px}
.dropup .btn-large .caret{border-bottom-width:5px}
.btn-primary .caret,.btn-warning .caret,.btn-danger .caret,.btn-info .caret,.btn-success .caret,.btn-inverse .caret{border-top-color:#fff;border-bottom-color:#fff}
.btn-group-vertical{display:inline-block;*display:inline;*zoom:1}
.btn-group-vertical>.btn{display:block;float:none;max-width:100%;border-radius:0;-webkit-border-radius:0;-moz-border-radius:0;border-radius:0}
.btn-group-vertical>.btn+.btn{margin-left:0;margin-top:-1px}
.btn-group-vertical>.btn:first-child{border-radius:4px 4px 0 0;-webkit-border-radius:4px 4px 0 0;-moz-border-radius:4px 4px 0 0;border-radius:4px 4px 0 0}
.btn-group-vertical>.btn:last-child{border-radius:0 0 4px 4px;-webkit-border-radius:0 0 4px 4px;-moz-border-radius:0 0 4px 4px;border-radius:0 0 4px 4px}
.btn-group-vertical>.btn-large:first-child{border-radius:6px 6px 0 0;-webkit-border-radius:6px 6px 0 0;-moz-border-radius:6px 6px 0 0;border-radius:6px 6px 0 0}
.btn-group-vertical>.btn-large:last-child{border-radius:0 0 6px 6px;-webkit-border-radius:0 0 6px 6px;-moz-border-radius:0 0 6px 6px;border-radius:0 0 6px 6px}
.alert{padding:8px 35px 8px 14px;margin-bottom:20px;text-shadow:0 1px 0 rgba(255,255,255,0.5);background-color:#fcf8e3;border:1px solid #fbeed5;border-radius:4px;-webkit-border-radius:4px;-moz-border-radius:4px;border-radius:4px}
.alert,.alert h4{color:#c09853}
.alert h4{margin:0}
.alert .close{position:relative;top:-2px;right:-21px;line-height:20px}
.alert-success{background-color:#dff0d8;border-color:#d6e9c6;color:#468847}
.alert-success h4{color:#468847}
.alert-danger,.alert-error{background-color:#f2dede;border-color:#eed3d7;color:#b94a48}
.alert-danger h4,.alert-error h4{color:#b94a48}
.alert-info{background-color:#d9edf7;border-color:#bce8f1;color:#3a87ad}
.alert-info h4{color:#3a87ad}
.alert-block{padding-top:14px;padding-bottom:14px}
.alert-block>p,.alert-block>ul{margin-bottom:0}
.alert-block p+p{margin-top:5px}
.nav{margin-left:0;margin-bottom:20px;list-style:none}
.nav>li>a{display:block}
.nav>li>a:hover,.nav>li>a:focus{text-decoration:none;background-color:#eee}
.nav>li>a>img{max-width:none}
.nav>.pull-right{float:right}
.nav-header{display:block;padding:3px 15px;font-size:11px;font-weight:bold;line-height:20px;color:#999;text-shadow:0 1px 0 rgba(255,255,255,0.5);text-transform:uppercase}
.nav li+.nav-header{margin-top:9px}
.nav-list{padding-left:15px;padding-right:15px;margin-bottom:0}
.nav-list>li>a,.nav-list .nav-header{margin-left:-15px;margin-right:-15px;text-shadow:0 1px 0 rgba(255,255,255,0.5)}
.nav-list>li>a{padding:3px 15px}
.nav-list>.active>a,.nav-list>.active>a:hover,.nav-list>.active>a:focus{color:#fff;text-shadow:0 -1px 0 rgba(0,0,0,0.2);background-color:#08c}
.nav-list [class^="icon-"],.nav-list [class*=" icon-"]{margin-right:2px}
.nav-list .divider{*width:100%;height:1px;margin:9px 1px;*margin:-5px 0 5px;overflow:hidden;background-color:#e5e5e5;border-bottom:1px solid #fff}
.nav-tabs,.nav-pills{*zoom:1}.nav-tabs:before,.nav-pills:before,.nav-tabs:after,.nav-pills:after{display:table;content:"";line-height:0}
.nav-tabs:after,.nav-pills:after{clear:both}
.nav-tabs>li,.nav-pills>li{float:left}
.nav-tabs>li>a,.nav-pills>li>a{padding-right:12px;padding-left:12px;margin-right:2px;line-height:14px}
.nav-tabs{border-bottom:1px solid #ddd}
.nav-tabs>li{margin-bottom:-1px}
.nav-tabs>li>a{padding-top:8px;padding-bottom:8px;line-height:20px;border:1px solid transparent;border-radius:4px 4px 0 0;-webkit-border-radius:4px 4px 0 0;-moz-border-radius:4px 4px 0 0;border-radius:4px 4px 0 0}.nav-tabs>li>a:hover,.nav-tabs>li>a:focus{border-color:#eee #eee #ddd}
.nav-tabs>.active>a,.nav-tabs>.active>a:hover,.nav-tabs>.active>a:focus{color:#555;background-color:#fff;border:1px solid #ddd;border-bottom-color:transparent;cursor:default}
.nav-pills>li>a{padding-top:8px;padding-bottom:8px;margin-top:2px;margin-bottom:2px;border-radius:5px;-webkit-border-radius:5px;-moz-border-radius:5px;border-radius:5px}
.nav-pills>.active>a,.nav-pills>.active>a:hover,.nav-pills>.active>a:focus{color:#fff;background-color:#08c}
.nav-stacked>li{float:none}
.nav-stacked>li>a{margin-right:0}
.nav-tabs.nav-stacked{border-bottom:0}
.nav-tabs.nav-stacked>li>a{border:1px solid #ddd;border-radius:0;-webkit-border-radius:0;-moz-border-radius:0;border-radius:0}
.nav-tabs.nav-stacked>li:first-child>a{-webkit-border-top-right-radius:4px;-moz-border-radius-topright:4px;border-top-right-radius:4px;-webkit-border-top-left-radius:4px;-moz-border-radius-topleft:4px;border-top-left-radius:4px}
.nav-tabs.nav-stacked>li:last-child>a{-webkit-border-bottom-right-radius:4px;-moz-border-radius-bottomright:4px;border-bottom-right-radius:4px;-webkit-border-bottom-left-radius:4px;-moz-border-radius-bottomleft:4px;border-bottom-left-radius:4px}
.nav-tabs.nav-stacked>li>a:hover,.nav-tabs.nav-stacked>li>a:focus{border-color:#ddd;z-index:2}
.nav-pills.nav-stacked>li>a{margin-bottom:3px}
.nav-pills.nav-stacked>li:last-child>a{margin-bottom:1px}
.nav-tabs .dropdown-menu{border-radius:0 0 6px 6px;-webkit-border-radius:0 0 6px 6px;-moz-border-radius:0 0 6px 6px;border-radius:0 0 6px 6px}
.nav-pills .dropdown-menu{border-radius:6px;-webkit-border-radius:6px;-moz-border-radius:6px;border-radius:6px}
.nav .dropdown-toggle .caret{border-top-color:#08c;border-bottom-color:#08c;margin-top:6px}
.nav .dropdown-toggle:hover .caret,.nav .dropdown-toggle:focus .caret{border-top-color:#005580;border-bottom-color:#005580}
.nav-tabs .dropdown-toggle .caret{margin-top:8px}
.nav .active .dropdown-toggle .caret{border-top-color:#fff;border-bottom-color:#fff}
.nav-tabs .active .dropdown-toggle .caret{border-top-color:#555;border-bottom-color:#555}
.nav>.dropdown.active>a:hover,.nav>.dropdown.active>a:focus{cursor:pointer}
.nav-tabs .open .dropdown-toggle,.nav-pills .open .dropdown-toggle,.nav>li.dropdown.open.active>a:hover,.nav>li.dropdown.open.active>a:focus{color:#fff;background-color:#999;border-color:#999}
.nav li.dropdown.open .caret,.nav li.dropdown.open.active .caret,.nav li.dropdown.open a:hover .caret,.nav li.dropdown.open a:focus .caret{border-top-color:#fff;border-bottom-color:#fff;opacity:1;filter:alpha(opacity=100)}
.tabs-stacked .open>a:hover,.tabs-stacked .open>a:focus{border-color:#999}
.tabbable{*zoom:1}.tabbable:before,.tabbable:after{display:table;content:"";line-height:0}
.tabbable:after{clear:both}
.tab-content{overflow:auto}
.tabs-below>.nav-tabs,.tabs-right>.nav-tabs,.tabs-left>.nav-tabs{border-bottom:0}
.tab-content>.tab-pane,.pill-content>.pill-pane{display:none}
.tab-content>.active,.pill-content>.active{display:block}
.tabs-below>.nav-tabs{border-top:1px solid #ddd}
.tabs-below>.nav-tabs>li{margin-top:-1px;margin-bottom:0}
.tabs-below>.nav-tabs>li>a{border-radius:0 0 4px 4px;-webkit-border-radius:0 0 4px 4px;-moz-border-radius:0 0 4px 4px;border-radius:0 0 4px 4px}.tabs-below>.nav-tabs>li>a:hover,.tabs-below>.nav-tabs>li>a:focus{border-bottom-color:transparent;border-top-color:#ddd}
.tabs-below>.nav-tabs>.active>a,.tabs-below>.nav-tabs>.active>a:hover,.tabs-below>.nav-tabs>.active>a:focus{border-color:transparent #ddd #ddd #ddd}
.tabs-left>.nav-tabs>li,.tabs-right>.nav-tabs>li{float:none}
.tabs-left>.nav-tabs>li>a,.tabs-right>.nav-tabs>li>a{min-width:74px;margin-right:0;margin-bottom:3px}
.tabs-left>.nav-tabs{float:left;margin-right:19px;border-right:1px solid #ddd}
.tabs-left>.nav-tabs>li>a{margin-right:-1px;border-radius:4px 0 0 4px;-webkit-border-radius:4px 0 0 4px;-moz-border-radius:4px 0 0 4px;border-radius:4px 0 0 4px}
.tabs-left>.nav-tabs>li>a:hover,.tabs-left>.nav-tabs>li>a:focus{border-color:#eee #ddd #eee #eee}
.tabs-left>.nav-tabs .active>a,.tabs-left>.nav-tabs .active>a:hover,.tabs-left>.nav-tabs .active>a:focus{border-color:#ddd transparent #ddd #ddd;*border-right-color:#fff}
.tabs-right>.nav-tabs{float:right;margin-left:19px;border-left:1px solid #ddd}
.tabs-right>.nav-tabs>li>a{margin-left:-1px;border-radius:0 4px 4px 0;-webkit-border-radius:0 4px 4px 0;-moz-border-radius:0 4px 4px 0;border-radius:0 4px 4px 0}
.tabs-right>.nav-tabs>li>a:hover,.tabs-right>.nav-tabs>li>a:focus{border-color:#eee #eee #eee #ddd}
.tabs-right>.nav-tabs .active>a,.tabs-right>.nav-tabs .active>a:hover,.tabs-right>.nav-tabs .active>a:focus{border-color:#ddd #ddd #ddd transparent;*border-left-color:#fff}
.nav>.disabled>a{color:#999}
.nav>.disabled>a:hover,.nav>.disabled>a:focus{text-decoration:none;background-color:transparent;cursor:default}
.navbar{overflow:visible;margin-bottom:20px;*position:relative;*z-index:2}
.navbar-inner{min-height:36px;padding-left:20px;padding-right:20px;background-color:#fafafa;background-image:-moz-linear-gradient(top, #fff, #f2f2f2);background-image:-webkit-gradient(linear, 0 0, 0 100%, from(#fff), to(#f2f2f2));background-image:-webkit-linear-gradient(top, #fff, #f2f2f2);background-image:-o-linear-gradient(top, #fff, #f2f2f2);background-image:linear-gradient(to bottom, #fff, #f2f2f2);background-repeat:repeat-x;filter:progid:DXImageTransform.Microsoft.gradient(startColorstr='#ffffffff', endColorstr='#fff2f2f2', GradientType=0);border:1px solid #d4d4d4;-webkit-border-radius:4px;-moz-border-radius:4px;border-radius:4px;-webkit-box-shadow:0 1px 4px rgba(0,0,0,0.065);-moz-box-shadow:0 1px 4px rgba(0,0,0,0.065);box-shadow:0 1px 4px rgba(0,0,0,0.065);*zoom:1}.navbar-inner:before,.navbar-inner:after{display:table;content:"";line-height:0}
.navbar-inner:after{clear:both}
.navbar .container{width:auto}
.nav-collapse.collapse{height:auto;overflow:visible}
.navbar .brand{float:left;display:block;padding:8px 20px 8px;margin-left:-20px;font-size:20px;font-weight:200;color:#777;text-shadow:0 1px 0 #fff}.navbar .brand:hover,.navbar .brand:focus{text-decoration:none}
.navbar-text{margin-bottom:0;line-height:36px;color:#777}
.navbar-link{color:#777}.navbar-link:hover,.navbar-link:focus{color:#333}
.navbar .divider-vertical{height:36px;margin:0 9px;border-left:1px solid #f2f2f2;border-right:1px solid #fff}
.navbar .btn,.navbar .btn-group{margin-top:3px}
.navbar .btn-group .btn,.navbar .input-prepend .btn,.navbar .input-append .btn,.navbar .input-prepend .btn-group,.navbar .input-append .btn-group{margin-top:0}
.navbar-form{margin-bottom:0;*zoom:1}.navbar-form:before,.navbar-form:after{display:table;content:"";line-height:0}
.navbar-form:after{clear:both}
.navbar-form input,.navbar-form select,.navbar-form .radio,.navbar-form .checkbox{margin-top:3px}
.navbar-form input,.navbar-form select,.navbar-form .btn{display:inline-block;margin-bottom:0}
.navbar-form input[type="image"],.navbar-form input[type="checkbox"],.navbar-form input[type="radio"]{margin-top:3px}
.navbar-form .input-append,.navbar-form .input-prepend{margin-top:5px;white-space:nowrap}.navbar-form .input-append input,.navbar-form .input-prepend input{margin-top:0}
.navbar-search{position:relative;float:left;margin-top:3px;margin-bottom:0}.navbar-search .search-query{margin-bottom:0;padding:4px 14px;font-family:"Helvetica Neue",Helvetica,Arial,sans-serif;font-size:13px;font-weight:normal;line-height:1;border-radius:15px;-webkit-border-radius:15px;-moz-border-radius:15px;border-radius:15px}
.navbar-static-top{position:static;margin-bottom:0}.navbar-static-top .navbar-inner{border-radius:0;-webkit-border-radius:0;-moz-border-radius:0;border-radius:0}
.navbar-fixed-top,.navbar-fixed-bottom{position:fixed;right:0;left:0;z-index:1030;margin-bottom:0}
.navbar-fixed-top .navbar-inner,.navbar-static-top .navbar-inner{border-width:0 0 1px}
.navbar-fixed-bottom .navbar-inner{border-width:1px 0 0}
.navbar-fixed-top .navbar-inner,.navbar-fixed-bottom .navbar-inner{padding-left:0;padding-right:0;border-radius:0;-webkit-border-radius:0;-moz-border-radius:0;border-radius:0}
.navbar-static-top .container,.navbar-fixed-top .container,.navbar-fixed-bottom .container{width:940px}
.navbar-fixed-top{top:0}
.navbar-fixed-top .navbar-inner,.navbar-static-top .navbar-inner{-webkit-box-shadow:0 1px 10px rgba(0,0,0,.1);-moz-box-shadow:0 1px 10px rgba(0,0,0,.1);box-shadow:0 1px 10px rgba(0,0,0,.1)}
.navbar-fixed-bottom{bottom:0}.navbar-fixed-bottom .navbar-inner{-webkit-box-shadow:0 -1px 10px rgba(0,0,0,.1);-moz-box-shadow:0 -1px 10px rgba(0,0,0,.1);box-shadow:0 -1px 10px rgba(0,0,0,.1)}
.navbar .nav{position:relative;left:0;display:block;float:left;margin:0 10px 0 0}
.navbar .nav.pull-right{float:right;margin-right:0}
.navbar .nav>li{float:left}
.navbar .nav>li>a{float:none;padding:8px 15px 8px;color:#777;text-decoration:none;text-shadow:0 1px 0 #fff}
.navbar .nav .dropdown-toggle .caret{margin-top:8px}
.navbar .nav>li>a:focus,.navbar .nav>li>a:hover{background-color:transparent;color:#333;text-decoration:none}
.navbar .nav>.active>a,.navbar .nav>.active>a:hover,.navbar .nav>.active>a:focus{color:#555;text-decoration:none;background-color:#e5e5e5;-webkit-box-shadow:inset 0 3px 8px rgba(0,0,0,0.125);-moz-box-shadow:inset 0 3px 8px rgba(0,0,0,0.125);box-shadow:inset 0 3px 8px rgba(0,0,0,0.125)}
.navbar .btn-navbar{display:none;float:right;padding:7px 10px;margin-left:5px;margin-right:5px;color:#fff;text-shadow:0 -1px 0 rgba(0,0,0,0.25);background-color:#ededed;background-image:-moz-linear-gradient(top, #f2f2f2, #e5e5e5);background-image:-webkit-gradient(linear, 0 0, 0 100%, from(#f2f2f2), to(#e5e5e5));background-image:-webkit-linear-gradient(top, #f2f2f2, #e5e5e5);background-image:-o-linear-gradient(top, #f2f2f2, #e5e5e5);background-image:linear-gradient(to bottom, #f2f2f2, #e5e5e5);background-repeat:repeat-x;filter:progid:DXImageTransform.Microsoft.gradient(startColorstr='#fff2f2f2', endColorstr='#ffe5e5e5', GradientType=0);border-color:#e5e5e5 #e5e5e5 #bfbfbf;border-color:rgba(0,0,0,0.1) rgba(0,0,0,0.1) rgba(0,0,0,0.25);*background-color:#e5e5e5;filter:progid:DXImageTransform.Microsoft.gradient(enabled = false);-webkit-box-shadow:inset 0 1px 0 rgba(255,255,255,.1), 0 1px 0 rgba(255,255,255,.075);-moz-box-shadow:inset 0 1px 0 rgba(255,255,255,.1), 0 1px 0 rgba(255,255,255,.075);box-shadow:inset 0 1px 0 rgba(255,255,255,.1), 0 1px 0 rgba(255,255,255,.075)}.navbar .btn-navbar:hover,.navbar .btn-navbar:focus,.navbar .btn-navbar:active,.navbar .btn-navbar.active,.navbar .btn-navbar.disabled,.navbar .btn-navbar[disabled]{color:#fff;background-color:#e5e5e5;*background-color:#d9d9d9}
.navbar .btn-navbar:active,.navbar .btn-navbar.active{background-color:#ccc \9}
.navbar .btn-navbar .icon-bar{display:block;width:18px;height:2px;background-color:#f5f5f5;-webkit-border-radius:1px;-moz-border-radius:1px;border-radius:1px;-webkit-box-shadow:0 1px 0 rgba(0,0,0,0.25);-moz-box-shadow:0 1px 0 rgba(0,0,0,0.25);box-shadow:0 1px 0 rgba(0,0,0,0.25)}
.btn-navbar .icon-bar+.icon-bar{margin-top:3px}
.navbar .nav>li>.dropdown-menu:before{content:'';display:inline-block;border-left:7px solid transparent;border-right:7px solid transparent;border-bottom:7px solid #ccc;border-bottom-color:rgba(0,0,0,0.2);position:absolute;top:-7px;left:9px}
.navbar .nav>li>.dropdown-menu:after{content:'';display:inline-block;border-left:6px solid transparent;border-right:6px solid transparent;border-bottom:6px solid #fff;position:absolute;top:-6px;left:10px}
.navbar-fixed-bottom .nav>li>.dropdown-menu:before{border-top:7px solid #ccc;border-top-color:rgba(0,0,0,0.2);border-bottom:0;bottom:-7px;top:auto}
.navbar-fixed-bottom .nav>li>.dropdown-menu:after{border-top:6px solid #fff;border-bottom:0;bottom:-6px;top:auto}
.navbar .nav li.dropdown>a:hover .caret,.navbar .nav li.dropdown>a:focus .caret{border-top-color:#333;border-bottom-color:#333}
.navbar .nav li.dropdown.open>.dropdown-toggle,.navbar .nav li.dropdown.active>.dropdown-toggle,.navbar .nav li.dropdown.open.active>.dropdown-toggle{background-color:#e5e5e5;color:#555}
.navbar .nav li.dropdown>.dropdown-toggle .caret{border-top-color:#777;border-bottom-color:#777}
.navbar .nav li.dropdown.open>.dropdown-toggle .caret,.navbar .nav li.dropdown.active>.dropdown-toggle .caret,.navbar .nav li.dropdown.open.active>.dropdown-toggle .caret{border-top-color:#555;border-bottom-color:#555}
.navbar .pull-right>li>.dropdown-menu,.navbar .nav>li>.dropdown-menu.pull-right{left:auto;right:0}.navbar .pull-right>li>.dropdown-menu:before,.navbar .nav>li>.dropdown-menu.pull-right:before{left:auto;right:12px}
.navbar .pull-right>li>.dropdown-menu:after,.navbar .nav>li>.dropdown-menu.pull-right:after{left:auto;right:13px}
.navbar .pull-right>li>.dropdown-menu .dropdown-menu,.navbar .nav>li>.dropdown-menu.pull-right .dropdown-menu{left:auto;right:100%;margin-left:0;margin-right:-1px;border-radius:6px 0 6px 6px;-webkit-border-radius:6px 0 6px 6px;-moz-border-radius:6px 0 6px 6px;border-radius:6px 0 6px 6px}
.navbar-inverse .navbar-inner{background-color:#1b1b1b;background-image:-moz-linear-gradient(top, #222, #111);background-image:-webkit-gradient(linear, 0 0, 0 100%, from(#222), to(#111));background-image:-webkit-linear-gradient(top, #222, #111);background-image:-o-linear-gradient(top, #222, #111);background-image:linear-gradient(to bottom, #222, #111);background-repeat:repeat-x;filter:progid:DXImageTransform.Microsoft.gradient(startColorstr='#ff222222', endColorstr='#ff111111', GradientType=0);border-color:#252525}
.navbar-inverse .brand,.navbar-inverse .nav>li>a{color:#999;text-shadow:0 -1px 0 rgba(0,0,0,0.25)}.navbar-inverse .brand:hover,.navbar-inverse .nav>li>a:hover,.navbar-inverse .brand:focus,.navbar-inverse .nav>li>a:focus{color:#fff}
.navbar-inverse .brand{color:#999}
.navbar-inverse .navbar-text{color:#999}
.navbar-inverse .nav>li>a:focus,.navbar-inverse .nav>li>a:hover{background-color:transparent;color:#fff}
.navbar-inverse .nav .active>a,.navbar-inverse .nav .active>a:hover,.navbar-inverse .nav .active>a:focus{color:#fff;background-color:#111}
.navbar-inverse .navbar-link{color:#999}.navbar-inverse .navbar-link:hover,.navbar-inverse .navbar-link:focus{color:#fff}
.navbar-inverse .divider-vertical{border-left-color:#111;border-right-color:#222}
.navbar-inverse .nav li.dropdown.open>.dropdown-toggle,.navbar-inverse .nav li.dropdown.active>.dropdown-toggle,.navbar-inverse .nav li.dropdown.open.active>.dropdown-toggle{background-color:#111;color:#fff}
.navbar-inverse .nav li.dropdown>a:hover .caret,.navbar-inverse .nav li.dropdown>a:focus .caret{border-top-color:#fff;border-bottom-color:#fff}
.navbar-inverse .nav li.dropdown>.dropdown-toggle .caret{border-top-color:#999;border-bottom-color:#999}
.navbar-inverse .nav li.dropdown.open>.dropdown-toggle .caret,.navbar-inverse .nav li.dropdown.active>.dropdown-toggle .caret,.navbar-inverse .nav li.dropdown.open.active>.dropdown-toggle .caret{border-top-color:#fff;border-bottom-color:#fff}
.navbar-inverse .navbar-search .search-query{color:#fff;background-color:#515151;border-color:#111;-webkit-box-shadow:inset 0 1px 2px rgba(0,0,0,.1), 0 1px 0 rgba(255,255,255,.15);-moz-box-shadow:inset 0 1px 2px rgba(0,0,0,.1), 0 1px 0 rgba(255,255,255,.15);box-shadow:inset 0 1px 2px rgba(0,0,0,.1), 0 1px 0 rgba(255,255,255,.15);-webkit-transition:none;-moz-transition:none;-o-transition:none;transition:none}.navbar-inverse .navbar-search .search-query:-moz-placeholder{color:#ccc}
.navbar-inverse .navbar-search .search-query:-ms-input-placeholder{color:#ccc}
.navbar-inverse .navbar-search .search-query::-webkit-input-placeholder{color:#ccc}
.navbar-inverse .navbar-search .search-query:focus,.navbar-inverse .navbar-search .search-query.focused{padding:5px 15px;color:#333;text-shadow:0 1px 0 #fff;background-color:#fff;border:0;-webkit-box-shadow:0 0 3px rgba(0,0,0,0.15);-moz-box-shadow:0 0 3px rgba(0,0,0,0.15);box-shadow:0 0 3px rgba(0,0,0,0.15);outline:0}
.navbar-inverse .btn-navbar{color:#fff;text-shadow:0 -1px 0 rgba(0,0,0,0.25);background-color:#0e0e0e;background-image:-moz-linear-gradient(top, #151515, #040404);background-image:-webkit-gradient(linear, 0 0, 0 100%, from(#151515), to(#040404));background-image:-webkit-linear-gradient(top, #151515, #040404);background-image:-o-linear-gradient(top, #151515, #040404);background-image:linear-gradient(to bottom, #151515, #040404);background-repeat:repeat-x;filter:progid:DXImageTransform.Microsoft.gradient(startColorstr='#ff151515', endColorstr='#ff040404', GradientType=0);border-color:#040404 #040404 #000;border-color:rgba(0,0,0,0.1) rgba(0,0,0,0.1) rgba(0,0,0,0.25);*background-color:#040404;filter:progid:DXImageTransform.Microsoft.gradient(enabled = false)}.navbar-inverse .btn-navbar:hover,.navbar-inverse .btn-navbar:focus,.navbar-inverse .btn-navbar:active,.navbar-inverse .btn-navbar.active,.navbar-inverse .btn-navbar.disabled,.navbar-inverse .btn-navbar[disabled]{color:#fff;background-color:#040404;*background-color:#000}
.navbar-inverse .btn-navbar:active,.navbar-inverse .btn-navbar.active{background-color:#000 \9}
.breadcrumb{padding:8px 15px;margin:0 0 20px;list-style:none;background-color:#f5f5f5;border-radius:4px;-webkit-border-radius:4px;-moz-border-radius:4px;border-radius:4px}.breadcrumb>li{display:inline-block;*display:inline;*zoom:1;text-shadow:0 1px 0 #fff}.breadcrumb>li>.divider{padding:0 5px;color:#ccc}
.breadcrumb>.active{color:#999}
.pagination{margin:20px 0}
.pagination ul{display:inline-block;*display:inline;*zoom:1;margin-left:0;margin-bottom:0;-webkit-border-radius:4px;-moz-border-radius:4px;border-radius:4px;-webkit-box-shadow:0 1px 2px rgba(0,0,0,0.05);-moz-box-shadow:0 1px 2px rgba(0,0,0,0.05);box-shadow:0 1px 2px rgba(0,0,0,0.05)}
.pagination ul>li{display:inline}
.pagination ul>li>a,.pagination ul>li>span{float:left;padding:4px 12px;line-height:20px;text-decoration:none;background-color:#fff;border:1px solid #ddd;border-left-width:0}
.pagination ul>li>a:hover,.pagination ul>li>a:focus,.pagination ul>.active>a,.pagination ul>.active>span{background-color:#f5f5f5}
.pagination ul>.active>a,.pagination ul>.active>span{color:#999;cursor:default}
.pagination ul>.disabled>span,.pagination ul>.disabled>a,.pagination ul>.disabled>a:hover,.pagination ul>.disabled>a:focus{color:#999;background-color:transparent;cursor:default}
.pagination ul>li:first-child>a,.pagination ul>li:first-child>span{border-left-width:1px;-webkit-border-top-left-radius:4px;-moz-border-radius-topleft:4px;border-top-left-radius:4px;-webkit-border-bottom-left-radius:4px;-moz-border-radius-bottomleft:4px;border-bottom-left-radius:4px}
.pagination ul>li:last-child>a,.pagination ul>li:last-child>span{-webkit-border-top-right-radius:4px;-moz-border-radius-topright:4px;border-top-right-radius:4px;-webkit-border-bottom-right-radius:4px;-moz-border-radius-bottomright:4px;border-bottom-right-radius:4px}
.pagination-centered{text-align:center}
.pagination-right{text-align:right}
.pagination-large ul>li>a,.pagination-large ul>li>span{padding:11px 19px;font-size:16.25px}
.pagination-large ul>li:first-child>a,.pagination-large ul>li:first-child>span{-webkit-border-top-left-radius:6px;-moz-border-radius-topleft:6px;border-top-left-radius:6px;-webkit-border-bottom-left-radius:6px;-moz-border-radius-bottomleft:6px;border-bottom-left-radius:6px}
.pagination-large ul>li:last-child>a,.pagination-large ul>li:last-child>span{-webkit-border-top-right-radius:6px;-moz-border-radius-topright:6px;border-top-right-radius:6px;-webkit-border-bottom-right-radius:6px;-moz-border-radius-bottomright:6px;border-bottom-right-radius:6px}
.pagination-mini ul>li:first-child>a,.pagination-small ul>li:first-child>a,.pagination-mini ul>li:first-child>span,.pagination-small ul>li:first-child>span{-webkit-border-top-left-radius:3px;-moz-border-radius-topleft:3px;border-top-left-radius:3px;-webkit-border-bottom-left-radius:3px;-moz-border-radius-bottomleft:3px;border-bottom-left-radius:3px}
.pagination-mini ul>li:last-child>a,.pagination-small ul>li:last-child>a,.pagination-mini ul>li:last-child>span,.pagination-small ul>li:last-child>span{-webkit-border-top-right-radius:3px;-moz-border-radius-topright:3px;border-top-right-radius:3px;-webkit-border-bottom-right-radius:3px;-moz-border-radius-bottomright:3px;border-bottom-right-radius:3px}
.pagination-small ul>li>a,.pagination-small ul>li>span{padding:2px 10px;font-size:11.049999999999999px}
.pagination-mini ul>li>a,.pagination-mini ul>li>span{padding:0 6px;font-size:9.75px}
.pager{margin:20px 0;list-style:none;text-align:center;*zoom:1}.pager:before,.pager:after{display:table;content:"";line-height:0}
.pager:after{clear:both}
.pager li{display:inline}
.pager li>a,.pager li>span{display:inline-block;padding:5px 14px;background-color:#fff;border:1px solid #ddd;border-radius:15px;-webkit-border-radius:15px;-moz-border-radius:15px;border-radius:15px}
.pager li>a:hover,.pager li>a:focus{text-decoration:none;background-color:#f5f5f5}
.pager .next>a,.pager .next>span{float:right}
.pager .previous>a,.pager .previous>span{float:left}
.pager .disabled>a,.pager .disabled>a:hover,.pager .disabled>a:focus,.pager .disabled>span{color:#999;background-color:#fff;cursor:default}
.modal-backdrop{position:fixed;top:0;right:0;bottom:0;left:0;z-index:1040;background-color:#000}.modal-backdrop.fade{opacity:0}
.modal-backdrop,.modal-backdrop.fade.in{opacity:.8;filter:alpha(opacity=80)}
.modal{position:fixed;top:10%;left:50%;z-index:1050;width:560px;margin-left:-280px;background-color:#fff;border:1px solid #999;border:1px solid rgba(0,0,0,0.3);*border:1px solid #999;-webkit-border-radius:6px;-moz-border-radius:6px;border-radius:6px;-webkit-box-shadow:0 3px 7px rgba(0,0,0,0.3);-moz-box-shadow:0 3px 7px rgba(0,0,0,0.3);box-shadow:0 3px 7px rgba(0,0,0,0.3);-webkit-background-clip:padding-box;-moz-background-clip:padding-box;background-clip:padding-box;outline:none}.modal.fade{-webkit-transition:opacity .3s linear, top .3s ease-out;-moz-transition:opacity .3s linear, top .3s ease-out;-o-transition:opacity .3s linear, top .3s ease-out;transition:opacity .3s linear, top .3s ease-out;top:-25%}
.modal.fade.in{top:10%}
.modal-header{padding:9px 15px;border-bottom:1px solid #eee}.modal-header .close{margin-top:2px}
.modal-header h3{margin:0;line-height:30px}
.modal-body{position:relative;overflow-y:auto;max-height:400px;padding:15px}
.modal-form{margin-bottom:0}
.modal-footer{padding:14px 15px 15px;margin-bottom:0;text-align:right;background-color:#f5f5f5;border-top:1px solid #ddd;-webkit-border-radius:0 0 6px 6px;-moz-border-radius:0 0 6px 6px;border-radius:0 0 6px 6px;-webkit-box-shadow:inset 0 1px 0 #fff;-moz-box-shadow:inset 0 1px 0 #fff;box-shadow:inset 0 1px 0 #fff;*zoom:1}.modal-footer:before,.modal-footer:after{display:table;content:"";line-height:0}
.modal-footer:after{clear:both}
.modal-footer .btn+.btn{margin-left:5px;margin-bottom:0}
.modal-footer .btn-group .btn+.btn{margin-left:-1px}
.modal-footer .btn-block+.btn-block{margin-left:0}
.tooltip{position:absolute;z-index:1030;display:block;visibility:visible;font-size:11px;line-height:1.4;opacity:0;filter:alpha(opacity=0)}.tooltip.in{opacity:.8;filter:alpha(opacity=80)}
.tooltip.top{margin-top:-3px;padding:5px 0}
.tooltip.right{margin-left:3px;padding:0 5px}
.tooltip.bottom{margin-top:3px;padding:5px 0}
.tooltip.left{margin-left:-3px;padding:0 5px}
.tooltip-inner{max-width:200px;padding:8px;color:#fff;text-align:center;text-decoration:none;background-color:#000;border-radius:4px;-webkit-border-radius:4px;-moz-border-radius:4px;border-radius:4px}
.tooltip-arrow{position:absolute;width:0;height:0;border-color:transparent;border-style:solid}
.tooltip.top .tooltip-arrow{bottom:0;left:50%;margin-left:-5px;border-width:5px 5px 0;border-top-color:#000}
.tooltip.right .tooltip-arrow{top:50%;left:0;margin-top:-5px;border-width:5px 5px 5px 0;border-right-color:#000}
.tooltip.left .tooltip-arrow{top:50%;right:0;margin-top:-5px;border-width:5px 0 5px 5px;border-left-color:#000}
.tooltip.bottom .tooltip-arrow{top:0;left:50%;margin-left:-5px;border-width:0 5px 5px;border-bottom-color:#000}
.popover{position:absolute;top:0;left:0;z-index:1010;display:none;max-width:276px;padding:1px;text-align:left;background-color:#fff;-webkit-background-clip:padding-box;-moz-background-clip:padding;background-clip:padding-box;border:1px solid #ccc;border:1px solid rgba(0,0,0,0.2);-webkit-border-radius:6px;-moz-border-radius:6px;border-radius:6px;-webkit-box-shadow:0 5px 10px rgba(0,0,0,0.2);-moz-box-shadow:0 5px 10px rgba(0,0,0,0.2);box-shadow:0 5px 10px rgba(0,0,0,0.2);white-space:normal}.popover.top{margin-top:-10px}
.popover.right{margin-left:10px}
.popover.bottom{margin-top:10px}
.popover.left{margin-left:-10px}
.popover-title{margin:0;padding:8px 14px;font-size:14px;font-weight:normal;line-height:18px;background-color:#f7f7f7;border-bottom:1px solid #ebebeb;border-radius:5px 5px 0 0;-webkit-border-radius:5px 5px 0 0;-moz-border-radius:5px 5px 0 0;border-radius:5px 5px 0 0}.popover-title:empty{display:none}
.popover-content{padding:9px 14px}
.popover .arrow,.popover .arrow:after{position:absolute;display:block;width:0;height:0;border-color:transparent;border-style:solid}
.popover .arrow{border-width:11px}
.popover .arrow:after{border-width:10px;content:""}
.popover.top .arrow{left:50%;margin-left:-11px;border-bottom-width:0;border-top-color:#999;border-top-color:rgba(0,0,0,0.25);bottom:-11px}.popover.top .arrow:after{bottom:1px;margin-left:-10px;border-bottom-width:0;border-top-color:#fff}
.popover.right .arrow{top:50%;left:-11px;margin-top:-11px;border-left-width:0;border-right-color:#999;border-right-color:rgba(0,0,0,0.25)}.popover.right .arrow:after{left:1px;bottom:-10px;border-left-width:0;border-right-color:#fff}
.popover.bottom .arrow{left:50%;margin-left:-11px;border-top-width:0;border-bottom-color:#999;border-bottom-color:rgba(0,0,0,0.25);top:-11px}.popover.bottom .arrow:after{top:1px;margin-left:-10px;border-top-width:0;border-bottom-color:#fff}
.popover.left .arrow{top:50%;right:-11px;margin-top:-11px;border-right-width:0;border-left-color:#999;border-left-color:rgba(0,0,0,0.25)}.popover.left .arrow:after{right:1px;border-right-width:0;border-left-color:#fff;bottom:-10px}
.thumbnails{margin-left:-20px;list-style:none;*zoom:1}.thumbnails:before,.thumbnails:after{display:table;content:"";line-height:0}
.thumbnails:after{clear:both}
.row-fluid .thumbnails{margin-left:0}
.thumbnails>li{float:left;margin-bottom:20px;margin-left:20px}
.thumbnail{display:block;padding:4px;line-height:20px;border:1px solid #ddd;-webkit-border-radius:4px;-moz-border-radius:4px;border-radius:4px;-webkit-box-shadow:0 1px 3px rgba(0,0,0,0.055);-moz-box-shadow:0 1px 3px rgba(0,0,0,0.055);box-shadow:0 1px 3px rgba(0,0,0,0.055);-webkit-transition:all .2s ease-in-out;-moz-transition:all .2s ease-in-out;-o-transition:all .2s ease-in-out;transition:all .2s ease-in-out}
a.thumbnail:hover,a.thumbnail:focus{border-color:#08c;-webkit-box-shadow:0 1px 4px rgba(0,105,214,0.25);-moz-box-shadow:0 1px 4px rgba(0,105,214,0.25);box-shadow:0 1px 4px rgba(0,105,214,0.25)}
.thumbnail>img{display:block;max-width:100%;margin-left:auto;margin-right:auto}
.thumbnail .caption{padding:9px;color:#555}
.media,.media-body{overflow:hidden;*overflow:visible;zoom:1}
.media,.media .media{margin-top:15px}
.media:first-child{margin-top:0}
.media-object{display:block}
.media-heading{margin:0 0 5px}
.media>.pull-left{margin-right:10px}
.media>.pull-right{margin-left:10px}
.media-list{margin-left:0;list-style:none}
.label,.badge{display:inline-block;padding:2px 4px;font-size:10.998px;font-weight:bold;line-height:14px;color:#fff;vertical-align:baseline;white-space:nowrap;text-shadow:0 -1px 0 rgba(0,0,0,0.25);background-color:#999}
.label{border-radius:3px;-webkit-border-radius:3px;-moz-border-radius:3px;border-radius:3px}
.badge{padding-left:9px;padding-right:9px;border-radius:9px;-webkit-border-radius:9px;-moz-border-radius:9px;border-radius:9px}
.label:empty,.badge:empty{display:none}
a.label:hover,a.label:focus,a.badge:hover,a.badge:focus{color:#fff;text-decoration:none;cursor:pointer}
.label-important,.badge-important{background-color:#b94a48}
.label-important[href],.badge-important[href]{background-color:#953b39}
.label-warning,.badge-warning{background-color:#f89406}
.label-warning[href],.badge-warning[href]{background-color:#c67605}
.label-success,.badge-success{background-color:#468847}
.label-success[href],.badge-success[href]{background-color:#356635}
.label-info,.badge-info{background-color:#3a87ad}
.label-info[href],.badge-info[href]{background-color:#2d6987}
.label-inverse,.badge-inverse{background-color:#333}
.label-inverse[href],.badge-inverse[href]{background-color:#1a1a1a}
.btn .label,.btn .badge{position:relative;top:-1px}
.btn-mini .label,.btn-mini .badge{top:0}
@-webkit-keyframes progress-bar-stripes{from{background-position:40px 0} to{background-position:0 0}}@-moz-keyframes progress-bar-stripes{from{background-position:40px 0} to{background-position:0 0}}@-ms-keyframes progress-bar-stripes{from{background-position:40px 0} to{background-position:0 0}}@-o-keyframes progress-bar-stripes{from{background-position:0 0} to{background-position:40px 0}}@keyframes progress-bar-stripes{from{background-position:40px 0} to{background-position:0 0}}.progress{overflow:hidden;height:20px;margin-bottom:20px;background-color:#f7f7f7;background-image:-moz-linear-gradient(top, #f5f5f5, #f9f9f9);background-image:-webkit-gradient(linear, 0 0, 0 100%, from(#f5f5f5), to(#f9f9f9));background-image:-webkit-linear-gradient(top, #f5f5f5, #f9f9f9);background-image:-o-linear-gradient(top, #f5f5f5, #f9f9f9);background-image:linear-gradient(to bottom, #f5f5f5, #f9f9f9);background-repeat:repeat-x;filter:progid:DXImageTransform.Microsoft.gradient(startColorstr='#fff5f5f5', endColorstr='#fff9f9f9', GradientType=0);-webkit-box-shadow:inset 0 1px 2px rgba(0,0,0,0.1);-moz-box-shadow:inset 0 1px 2px rgba(0,0,0,0.1);box-shadow:inset 0 1px 2px rgba(0,0,0,0.1);border-radius:4px;-webkit-border-radius:4px;-moz-border-radius:4px;border-radius:4px}
.progress .bar{width:0;height:100%;color:#fff;float:left;font-size:12px;text-align:center;text-shadow:0 -1px 0 rgba(0,0,0,0.25);background-color:#0e90d2;background-image:-moz-linear-gradient(top, #149bdf, #0480be);background-image:-webkit-gradient(linear, 0 0, 0 100%, from(#149bdf), to(#0480be));background-image:-webkit-linear-gradient(top, #149bdf, #0480be);background-image:-o-linear-gradient(top, #149bdf, #0480be);background-image:linear-gradient(to bottom, #149bdf, #0480be);background-repeat:repeat-x;filter:progid:DXImageTransform.Microsoft.gradient(startColorstr='#ff149bdf', endColorstr='#ff0480be', GradientType=0);-webkit-box-shadow:inset 0 -1px 0 rgba(0,0,0,0.15);-moz-box-shadow:inset 0 -1px 0 rgba(0,0,0,0.15);box-shadow:inset 0 -1px 0 rgba(0,0,0,0.15);-webkit-box-sizing:border-box;-moz-box-sizing:border-box;box-sizing:border-box;-webkit-transition:width .6s ease;-moz-transition:width .6s ease;-o-transition:width .6s ease;transition:width .6s ease}
.progress .bar+.bar{-webkit-box-shadow:inset 1px 0 0 rgba(0,0,0,.15), inset 0 -1px 0 rgba(0,0,0,.15);-moz-box-shadow:inset 1px 0 0 rgba(0,0,0,.15), inset 0 -1px 0 rgba(0,0,0,.15);box-shadow:inset 1px 0 0 rgba(0,0,0,.15), inset 0 -1px 0 rgba(0,0,0,.15)}
.progress-striped .bar{background-color:#149bdf;background-image:-webkit-gradient(linear, 0 100%, 100% 0, color-stop(.25, rgba(255,255,255,0.15)), color-stop(.25, transparent), color-stop(.5, transparent), color-stop(.5, rgba(255,255,255,0.15)), color-stop(.75, rgba(255,255,255,0.15)), color-stop(.75, transparent), to(transparent));background-image:-webkit-linear-gradient(45deg, rgba(255,255,255,0.15) 25%, transparent 25%, transparent 50%, rgba(255,255,255,0.15) 50%, rgba(255,255,255,0.15) 75%, transparent 75%, transparent);background-image:-moz-linear-gradient(45deg, rgba(255,255,255,0.15) 25%, transparent 25%, transparent 50%, rgba(255,255,255,0.15) 50%, rgba(255,255,255,0.15) 75%, transparent 75%, transparent);background-image:-o-linear-gradient(45deg, rgba(255,255,255,0.15) 25%, transparent 25%, transparent 50%, rgba(255,255,255,0.15) 50%, rgba(255,255,255,0.15) 75%, transparent 75%, transparent);background-image:linear-gradient(45deg, rgba(255,255,255,0.15) 25%, transparent 25%, transparent 50%, rgba(255,255,255,0.15) 50%, rgba(255,255,255,0.15) 75%, transparent 75%, transparent);-webkit-background-size:40px 40px;-moz-background-size:40px 40px;-o-background-size:40px 40px;background-size:40px 40px}
.progress.active .bar{-webkit-animation:progress-bar-stripes 2s linear infinite;-moz-animation:progress-bar-stripes 2s linear infinite;-ms-animation:progress-bar-stripes 2s linear infinite;-o-animation:progress-bar-stripes 2s linear infinite;animation:progress-bar-stripes 2s linear infinite}
.progress-danger .bar,.progress .bar-danger{background-color:#dd514c;background-image:-moz-linear-gradient(top, #ee5f5b, #c43c35);background-image:-webkit-gradient(linear, 0 0, 0 100%, from(#ee5f5b), to(#c43c35));background-image:-webkit-linear-gradient(top, #ee5f5b, #c43c35);background-image:-o-linear-gradient(top, #ee5f5b, #c43c35);background-image:linear-gradient(to bottom, #ee5f5b, #c43c35);background-repeat:repeat-x;filter:progid:DXImageTransform.Microsoft.gradient(startColorstr='#ffee5f5b', endColorstr='#ffc43c35', GradientType=0)}
.progress-danger.progress-striped .bar,.progress-striped .bar-danger{background-color:#ee5f5b;background-image:-webkit-gradient(linear, 0 100%, 100% 0, color-stop(.25, rgba(255,255,255,0.15)), color-stop(.25, transparent), color-stop(.5, transparent), color-stop(.5, rgba(255,255,255,0.15)), color-stop(.75, rgba(255,255,255,0.15)), color-stop(.75, transparent), to(transparent));background-image:-webkit-linear-gradient(45deg, rgba(255,255,255,0.15) 25%, transparent 25%, transparent 50%, rgba(255,255,255,0.15) 50%, rgba(255,255,255,0.15) 75%, transparent 75%, transparent);background-image:-moz-linear-gradient(45deg, rgba(255,255,255,0.15) 25%, transparent 25%, transparent 50%, rgba(255,255,255,0.15) 50%, rgba(255,255,255,0.15) 75%, transparent 75%, transparent);background-image:-o-linear-gradient(45deg, rgba(255,255,255,0.15) 25%, transparent 25%, transparent 50%, rgba(255,255,255,0.15) 50%, rgba(255,255,255,0.15) 75%, transparent 75%, transparent);background-image:linear-gradient(45deg, rgba(255,255,255,0.15) 25%, transparent 25%, transparent 50%, rgba(255,255,255,0.15) 50%, rgba(255,255,255,0.15) 75%, transparent 75%, transparent)}
.progress-success .bar,.progress .bar-success{background-color:#5eb95e;background-image:-moz-linear-gradient(top, #62c462, #57a957);background-image:-webkit-gradient(linear, 0 0, 0 100%, from(#62c462), to(#57a957));background-image:-webkit-linear-gradient(top, #62c462, #57a957);background-image:-o-linear-gradient(top, #62c462, #57a957);background-image:linear-gradient(to bottom, #62c462, #57a957);background-repeat:repeat-x;filter:progid:DXImageTransform.Microsoft.gradient(startColorstr='#ff62c462', endColorstr='#ff57a957', GradientType=0)}
.progress-success.progress-striped .bar,.progress-striped .bar-success{background-color:#62c462;background-image:-webkit-gradient(linear, 0 100%, 100% 0, color-stop(.25, rgba(255,255,255,0.15)), color-stop(.25, transparent), color-stop(.5, transparent), color-stop(.5, rgba(255,255,255,0.15)), color-stop(.75, rgba(255,255,255,0.15)), color-stop(.75, transparent), to(transparent));background-image:-webkit-linear-gradient(45deg, rgba(255,255,255,0.15) 25%, transparent 25%, transparent 50%, rgba(255,255,255,0.15) 50%, rgba(255,255,255,0.15) 75%, transparent 75%, transparent);background-image:-moz-linear-gradient(45deg, rgba(255,255,255,0.15) 25%, transparent 25%, transparent 50%, rgba(255,255,255,0.15) 50%, rgba(255,255,255,0.15) 75%, transparent 75%, transparent);background-image:-o-linear-gradient(45deg, rgba(255,255,255,0.15) 25%, transparent 25%, transparent 50%, rgba(255,255,255,0.15) 50%, rgba(255,255,255,0.15) 75%, transparent 75%, transparent);background-image:linear-gradient(45deg, rgba(255,255,255,0.15) 25%, transparent 25%, transparent 50%, rgba(255,255,255,0.15) 50%, rgba(255,255,255,0.15) 75%, transparent 75%, transparent)}
.progress-info .bar,.progress .bar-info{background-color:#4bb1cf;background-image:-moz-linear-gradient(top, #5bc0de, #339bb9);background-image:-webkit-gradient(linear, 0 0, 0 100%, from(#5bc0de), to(#339bb9));background-image:-webkit-linear-gradient(top, #5bc0de, #339bb9);background-image:-o-linear-gradient(top, #5bc0de, #339bb9);background-image:linear-gradient(to bottom, #5bc0de, #339bb9);background-repeat:repeat-x;filter:progid:DXImageTransform.Microsoft.gradient(startColorstr='#ff5bc0de', endColorstr='#ff339bb9', GradientType=0)}
.progress-info.progress-striped .bar,.progress-striped .bar-info{background-color:#5bc0de;background-image:-webkit-gradient(linear, 0 100%, 100% 0, color-stop(.25, rgba(255,255,255,0.15)), color-stop(.25, transparent), color-stop(.5, transparent), color-stop(.5, rgba(255,255,255,0.15)), color-stop(.75, rgba(255,255,255,0.15)), color-stop(.75, transparent), to(transparent));background-image:-webkit-linear-gradient(45deg, rgba(255,255,255,0.15) 25%, transparent 25%, transparent 50%, rgba(255,255,255,0.15) 50%, rgba(255,255,255,0.15) 75%, transparent 75%, transparent);background-image:-moz-linear-gradient(45deg, rgba(255,255,255,0.15) 25%, transparent 25%, transparent 50%, rgba(255,255,255,0.15) 50%, rgba(255,255,255,0.15) 75%, transparent 75%, transparent);background-image:-o-linear-gradient(45deg, rgba(255,255,255,0.15) 25%, transparent 25%, transparent 50%, rgba(255,255,255,0.15) 50%, rgba(255,255,255,0.15) 75%, transparent 75%, transparent);background-image:linear-gradient(45deg, rgba(255,255,255,0.15) 25%, transparent 25%, transparent 50%, rgba(255,255,255,0.15) 50%, rgba(255,255,255,0.15) 75%, transparent 75%, transparent)}
.progress-warning .bar,.progress .bar-warning{background-color:#faa732;background-image:-moz-linear-gradient(top, #fbb450, #f89406);background-image:-webkit-gradient(linear, 0 0, 0 100%, from(#fbb450), to(#f89406));background-image:-webkit-linear-gradient(top, #fbb450, #f89406);background-image:-o-linear-gradient(top, #fbb450, #f89406);background-image:linear-gradient(to bottom, #fbb450, #f89406);background-repeat:repeat-x;filter:progid:DXImageTransform.Microsoft.gradient(startColorstr='#fffbb450', endColorstr='#fff89406', GradientType=0)}
.progress-warning.progress-striped .bar,.progress-striped .bar-warning{background-color:#fbb450;background-image:-webkit-gradient(linear, 0 100%, 100% 0, color-stop(.25, rgba(255,255,255,0.15)), color-stop(.25, transparent), color-stop(.5, transparent), color-stop(.5, rgba(255,255,255,0.15)), color-stop(.75, rgba(255,255,255,0.15)), color-stop(.75, transparent), to(transparent));background-image:-webkit-linear-gradient(45deg, rgba(255,255,255,0.15) 25%, transparent 25%, transparent 50%, rgba(255,255,255,0.15) 50%, rgba(255,255,255,0.15) 75%, transparent 75%, transparent);background-image:-moz-linear-gradient(45deg, rgba(255,255,255,0.15) 25%, transparent 25%, transparent 50%, rgba(255,255,255,0.15) 50%, rgba(255,255,255,0.15) 75%, transparent 75%, transparent);background-image:-o-linear-gradient(45deg, rgba(255,255,255,0.15) 25%, transparent 25%, transparent 50%, rgba(255,255,255,0.15) 50%, rgba(255,255,255,0.15) 75%, transparent 75%, transparent);background-image:linear-gradient(45deg, rgba(255,255,255,0.15) 25%, transparent 25%, transparent 50%, rgba(255,255,255,0.15) 50%, rgba(255,255,255,0.15) 75%, transparent 75%, transparent)}
.accordion{margin-bottom:20px}
.accordion-group{margin-bottom:2px;border:1px solid #e5e5e5;border-radius:4px;-webkit-border-radius:4px;-moz-border-radius:4px;border-radius:4px}
.accordion-heading{border-bottom:0}
.accordion-heading .accordion-toggle{display:block;padding:8px 15px}
.accordion-toggle{cursor:pointer}
.accordion-inner{padding:9px 15px;border-top:1px solid #e5e5e5}
.carousel{position:relative;margin-bottom:20px;line-height:1}
.carousel-inner{overflow:hidden;width:100%;position:relative}
.carousel-inner>.item{display:none;position:relative;-webkit-transition:.6s ease-in-out left;-moz-transition:.6s ease-in-out left;-o-transition:.6s ease-in-out left;transition:.6s ease-in-out left}.carousel-inner>.item>img,.carousel-inner>.item>a>img{display:block;line-height:1}
.carousel-inner>.active,.carousel-inner>.next,.carousel-inner>.prev{display:block}
.carousel-inner>.active{left:0}
.carousel-inner>.next,.carousel-inner>.prev{position:absolute;top:0;width:100%}
.carousel-inner>.next{left:100%}
.carousel-inner>.prev{left:-100%}
.carousel-inner>.next.left,.carousel-inner>.prev.right{left:0}
.carousel-inner>.active.left{left:-100%}
.carousel-inner>.active.right{left:100%}
.carousel-control{position:absolute;top:40%;left:15px;width:40px;height:40px;margin-top:-20px;font-size:60px;font-weight:100;line-height:30px;color:#fff;text-align:center;background:#222;border:3px solid #fff;-webkit-border-radius:23px;-moz-border-radius:23px;border-radius:23px;opacity:.5;filter:alpha(opacity=50)}.carousel-control.right{left:auto;right:15px}
.carousel-control:hover,.carousel-control:focus{color:#fff;text-decoration:none;opacity:.9;filter:alpha(opacity=90)}
.carousel-indicators{position:absolute;top:15px;right:15px;z-index:5;margin:0;list-style:none}.carousel-indicators li{display:block;float:left;width:10px;height:10px;margin-left:5px;text-indent:-999px;background-color:#ccc;background-color:rgba(255,255,255,0.25);border-radius:5px}
.carousel-indicators .active{background-color:#fff}
.carousel-caption{position:absolute;left:0;right:0;bottom:0;padding:15px;background:#333;background:rgba(0,0,0,0.75)}
.carousel-caption h4,.carousel-caption p{color:#fff;line-height:20px}
.carousel-caption h4{margin:0 0 5px}
.carousel-caption p{margin-bottom:0}
.hero-unit{padding:60px;margin-bottom:30px;font-size:18px;font-weight:200;line-height:30px;color:inherit;background-color:#eee;border-radius:6px;-webkit-border-radius:6px;-moz-border-radius:6px;border-radius:6px}.hero-unit h1{margin-bottom:0;font-size:60px;line-height:1;color:inherit;letter-spacing:-1px}
.hero-unit li{line-height:30px}
.pull-right{float:right}
.pull-left{float:left}
.hide{display:none}
.show{display:block}
.invisible{visibility:hidden}
.affix{position:fixed}
@-ms-viewport{width:device-width}.hidden{display:none;visibility:hidden}
.visible-phone{display:none !important}
.visible-tablet{display:none !important}
.hidden-desktop{display:none !important}
.visible-desktop{display:inherit !important}
@media (min-width:768px) and (max-width:979px){.hidden-desktop{display:inherit !important} .visible-desktop{display:none !important} .visible-tablet{display:inherit !important} .hidden-tablet{display:none !important}}@media (max-width:767px){.hidden-desktop{display:inherit !important} .visible-desktop{display:none !important} .visible-phone{display:inherit !important} .hidden-phone{display:none !important}}.visible-print{display:none !important}
@media print{.visible-print{display:inherit !important} .hidden-print{display:none !important}}@media (min-width:1200px){.row{margin-left:-30px;*zoom:1}.row:before,.row:after{display:table;content:"";line-height:0} .row:after{clear:both} [class*="span"]{float:left;min-height:1px;margin-left:30px} .container,.navbar-static-top .container,.navbar-fixed-top .container,.navbar-fixed-bottom .container{width:1170px} .span12{width:1170px} .span11{width:1070px} .span10{width:970px} .span9{width:870px} .span8{width:770px} .span7{width:670px} .span6{width:570px} .span5{width:470px} .span4{width:370px} .span3{width:270px} .span2{width:170px} .span1{width:70px} .offset12{margin-left:1230px} .offset11{margin-left:1130px} .offset10{margin-left:1030px} .offset9{margin-left:930px} .offset8{margin-left:830px} .offset7{margin-left:730px} .offset6{margin-left:630px} .offset5{margin-left:530px} .offset4{margin-left:430px} .offset3{margin-left:330px} .offset2{margin-left:230px} .offset1{margin-left:130px} .row-fluid{width:100%;*zoom:1}.row-fluid:before,.row-fluid:after{display:table;content:"";line-height:0} .row-fluid:after{clear:both} .row-fluid [class*="span"]{display:block;width:100%;min-height:30px;-webkit-box-sizing:border-box;-moz-box-sizing:border-box;box-sizing:border-box;float:left;margin-left:2.564102564102564%;*margin-left:2.5109110747408616%} .row-fluid [class*="span"]:first-child{margin-left:0} .row-fluid .controls-row [class*="span"]+[class*="span"]{margin-left:2.564102564102564%} .row-fluid .span12{width:100%;*width:99.94680851063829%} .row-fluid .span11{width:91.45299145299145%;*width:91.39979996362975%} .row-fluid .span10{width:82.90598290598291%;*width:82.8527914166212%} .row-fluid .span9{width:74.35897435897436%;*width:74.30578286961266%} .row-fluid .span8{width:65.81196581196582%;*width:65.75877432260411%} .row-fluid .span7{width:57.26495726495726%;*width:57.21176577559556%} .row-fluid .span6{width:48.717948717948715%;*width:48.664757228587014%} .row-fluid .span5{width:40.17094017094017%;*width:40.11774868157847%} .row-fluid .span4{width:31.623931623931625%;*width:31.570740134569924%} .row-fluid .span3{width:23.076923076923077%;*width:23.023731587561375%} .row-fluid .span2{width:14.52991452991453%;*width:14.476723040552828%} .row-fluid .span1{width:5.982905982905983%;*width:5.929714493544281%} .row-fluid .offset12{margin-left:105.12820512820512%;*margin-left:105.02182214948171%} .row-fluid .offset12:first-child{margin-left:102.56410256410257%;*margin-left:102.45771958537915%} .row-fluid .offset11{margin-left:96.58119658119658%;*margin-left:96.47481360247316%} .row-fluid .offset11:first-child{margin-left:94.01709401709402%;*margin-left:93.91071103837061%} .row-fluid .offset10{margin-left:88.03418803418803%;*margin-left:87.92780505546462%} .row-fluid .offset10:first-child{margin-left:85.47008547008548%;*margin-left:85.36370249136206%} .row-fluid .offset9{margin-left:79.48717948717949%;*margin-left:79.38079650845607%} .row-fluid .offset9:first-child{margin-left:76.92307692307693%;*margin-left:76.81669394435352%} .row-fluid .offset8{margin-left:70.94017094017094%;*margin-left:70.83378796144753%} .row-fluid .offset8:first-child{margin-left:68.37606837606839%;*margin-left:68.26968539734497%} .row-fluid .offset7{margin-left:62.393162393162385%;*margin-left:62.28677941443899%} .row-fluid .offset7:first-child{margin-left:59.82905982905982%;*margin-left:59.72267685033642%} .row-fluid .offset6{margin-left:53.84615384615384%;*margin-left:53.739770867430444%} .row-fluid .offset6:first-child{margin-left:51.28205128205128%;*margin-left:51.175668303327875%} .row-fluid .offset5{margin-left:45.299145299145295%;*margin-left:45.1927623204219%} .row-fluid .offset5:first-child{margin-left:42.73504273504273%;*margin-left:42.62865975631933%} .row-fluid .offset4{margin-left:36.75213675213675%;*margin-left:36.645753773413354%} .row-fluid .offset4:first-child{margin-left:34.18803418803419%;*margin-left:34.081651209310785%} .row-fluid .offset3{margin-left:28.205128205128204%;*margin-left:28.0987452264048%} .row-fluid .offset3:first-child{margin-left:25.641025641025642%;*margin-left:25.53464266230224%} .row-fluid .offset2{margin-left:19.65811965811966%;*margin-left:19.551736679396257%} .row-fluid .offset2:first-child{margin-left:17.094017094017094%;*margin-left:16.98763411529369%} .row-fluid .offset1{margin-left:11.11111111111111%;*margin-left:11.004728132387708%} .row-fluid .offset1:first-child{margin-left:8.547008547008547%;*margin-left:8.440625568285142%} input,textarea,.uneditable-input{margin-left:0} .controls-row [class*="span"]+[class*="span"]{margin-left:30px} input.span12,textarea.span12,.uneditable-input.span12{width:1156px} input.span11,textarea.span11,.uneditable-input.span11{width:1056px} input.span10,textarea.span10,.uneditable-input.span10{width:956px} input.span9,textarea.span9,.uneditable-input.span9{width:856px} input.span8,textarea.span8,.uneditable-input.span8{width:756px} input.span7,textarea.span7,.uneditable-input.span7{width:656px} input.span6,textarea.span6,.uneditable-input.span6{width:556px} input.span5,textarea.span5,.uneditable-input.span5{width:456px} input.span4,textarea.span4,.uneditable-input.span4{width:356px} input.span3,textarea.span3,.uneditable-input.span3{width:256px} input.span2,textarea.span2,.uneditable-input.span2{width:156px} input.span1,textarea.span1,.uneditable-input.span1{width:56px} .thumbnails{margin-left:-30px} .thumbnails>li{margin-left:30px} .row-fluid .thumbnails{margin-left:0}}@media (min-width:768px) and (max-width:979px){.row{margin-left:-20px;*zoom:1}.row:before,.row:after{display:table;content:"";line-height:0} .row:after{clear:both} [class*="span"]{float:left;min-height:1px;margin-left:20px} .container,.navbar-static-top .container,.navbar-fixed-top .container,.navbar-fixed-bottom .container{width:724px} .span12{width:724px} .span11{width:662px} .span10{width:600px} .span9{width:538px} .span8{width:476px} .span7{width:414px} .span6{width:352px} .span5{width:290px} .span4{width:228px} .span3{width:166px} .span2{width:104px} .span1{width:42px} .offset12{margin-left:764px} .offset11{margin-left:702px} .offset10{margin-left:640px} .offset9{margin-left:578px} .offset8{margin-left:516px} .offset7{margin-left:454px} .offset6{margin-left:392px} .offset5{margin-left:330px} .offset4{margin-left:268px} .offset3{margin-left:206px} .offset2{margin-left:144px} .offset1{margin-left:82px} .row-fluid{width:100%;*zoom:1}.row-fluid:before,.row-fluid:after{display:table;content:"";line-height:0} .row-fluid:after{clear:both} .row-fluid [class*="span"]{display:block;width:100%;min-height:30px;-webkit-box-sizing:border-box;-moz-box-sizing:border-box;box-sizing:border-box;float:left;margin-left:2.7624309392265194%;*margin-left:2.709239449864817%} .row-fluid [class*="span"]:first-child{margin-left:0} .row-fluid .controls-row [class*="span"]+[class*="span"]{margin-left:2.7624309392265194%} .row-fluid .span12{width:100%;*width:99.94680851063829%} .row-fluid .span11{width:91.43646408839778%;*width:91.38327259903608%} .row-fluid .span10{width:82.87292817679558%;*width:82.81973668743387%} .row-fluid .span9{width:74.30939226519337%;*width:74.25620077583166%} .row-fluid .span8{width:65.74585635359117%;*width:65.69266486422946%} .row-fluid .span7{width:57.18232044198895%;*width:57.12912895262725%} .row-fluid .span6{width:48.61878453038674%;*width:48.56559304102504%} .row-fluid .span5{width:40.05524861878453%;*width:40.00205712942283%} .row-fluid .span4{width:31.491712707182323%;*width:31.43852121782062%} .row-fluid .span3{width:22.92817679558011%;*width:22.87498530621841%} .row-fluid .span2{width:14.3646408839779%;*width:14.311449394616199%} .row-fluid .span1{width:5.801104972375691%;*width:5.747913483013988%} .row-fluid .offset12{margin-left:105.52486187845304%;*margin-left:105.41847889972962%} .row-fluid .offset12:first-child{margin-left:102.76243093922652%;*margin-left:102.6560479605031%} .row-fluid .offset11{margin-left:96.96132596685082%;*margin-left:96.8549429881274%} .row-fluid .offset11:first-child{margin-left:94.1988950276243%;*margin-left:94.09251204890089%} .row-fluid .offset10{margin-left:88.39779005524862%;*margin-left:88.2914070765252%} .row-fluid .offset10:first-child{margin-left:85.6353591160221%;*margin-left:85.52897613729868%} .row-fluid .offset9{margin-left:79.8342541436464%;*margin-left:79.72787116492299%} .row-fluid .offset9:first-child{margin-left:77.07182320441989%;*margin-left:76.96544022569647%} .row-fluid .offset8{margin-left:71.2707182320442%;*margin-left:71.16433525332079%} .row-fluid .offset8:first-child{margin-left:68.50828729281768%;*margin-left:68.40190431409427%} .row-fluid .offset7{margin-left:62.70718232044199%;*margin-left:62.600799341718584%} .row-fluid .offset7:first-child{margin-left:59.94475138121547%;*margin-left:59.838368402492065%} .row-fluid .offset6{margin-left:54.14364640883978%;*margin-left:54.037263430116376%} .row-fluid .offset6:first-child{margin-left:51.38121546961326%;*margin-left:51.27483249088986%} .row-fluid .offset5{margin-left:45.58011049723757%;*margin-left:45.47372751851417%} .row-fluid .offset5:first-child{margin-left:42.81767955801105%;*margin-left:42.71129657928765%} .row-fluid .offset4{margin-left:37.01657458563536%;*margin-left:36.91019160691196%} .row-fluid .offset4:first-child{margin-left:34.25414364640884%;*margin-left:34.14776066768544%} .row-fluid .offset3{margin-left:28.45303867403315%;*margin-left:28.346655695309746%} .row-fluid .offset3:first-child{margin-left:25.69060773480663%;*margin-left:25.584224756083227%} .row-fluid .offset2{margin-left:19.88950276243094%;*margin-left:19.783119783707537%} .row-fluid .offset2:first-child{margin-left:17.12707182320442%;*margin-left:17.02068884448102%} .row-fluid .offset1{margin-left:11.32596685082873%;*margin-left:11.219583872105325%} .row-fluid .offset1:first-child{margin-left:8.56353591160221%;*margin-left:8.457152932878806%} input,textarea,.uneditable-input{margin-left:0} .controls-row [class*="span"]+[class*="span"]{margin-left:20px} input.span12,textarea.span12,.uneditable-input.span12{width:710px} input.span11,textarea.span11,.uneditable-input.span11{width:648px} input.span10,textarea.span10,.uneditable-input.span10{width:586px} input.span9,textarea.span9,.uneditable-input.span9{width:524px} input.span8,textarea.span8,.uneditable-input.span8{width:462px} input.span7,textarea.span7,.uneditable-input.span7{width:400px} input.span6,textarea.span6,.uneditable-input.span6{width:338px} input.span5,textarea.span5,.uneditable-input.span5{width:276px} input.span4,textarea.span4,.uneditable-input.span4{width:214px} input.span3,textarea.span3,.uneditable-input.span3{width:152px} input.span2,textarea.span2,.uneditable-input.span2{width:90px} input.span1,textarea.span1,.uneditable-input.span1{width:28px}}@media (max-width:767px){body{padding-left:20px;padding-right:20px} .navbar-fixed-top,.navbar-fixed-bottom,.navbar-static-top{margin-left:-20px;margin-right:-20px} .container-fluid{padding:0} .dl-horizontal dt{float:none;clear:none;width:auto;text-align:left} .dl-horizontal dd{margin-left:0} .container{width:auto} .row-fluid{width:100%} .row,.thumbnails{margin-left:0} .thumbnails>li{float:none;margin-left:0} [class*="span"],.uneditable-input[class*="span"],.row-fluid [class*="span"]{float:none;display:block;width:100%;margin-left:0;-webkit-box-sizing:border-box;-moz-box-sizing:border-box;box-sizing:border-box} .span12,.row-fluid .span12{width:100%;-webkit-box-sizing:border-box;-moz-box-sizing:border-box;box-sizing:border-box} .row-fluid [class*="offset"]:first-child{margin-left:0} .input-large,.input-xlarge,.input-xxlarge,input[class*="span"],select[class*="span"],textarea[class*="span"],.uneditable-input{display:block;width:100%;min-height:30px;-webkit-box-sizing:border-box;-moz-box-sizing:border-box;box-sizing:border-box} .input-prepend input,.input-append input,.input-prepend input[class*="span"],.input-append input[class*="span"]{display:inline-block;width:auto} .controls-row [class*="span"]+[class*="span"]{margin-left:0} .modal{position:fixed;top:20px;left:20px;right:20px;width:auto;margin:0}.modal.fade{top:-100px} .modal.fade.in{top:20px}}@media (max-width:480px){.nav-collapse{-webkit-transform:translate3d(0, 0, 0)} .page-header h1 small{display:block;line-height:20px} input[type="checkbox"],input[type="radio"]{border:1px solid #ccc} .form-horizontal .control-label{float:none;width:auto;padding-top:0;text-align:left} .form-horizontal .controls{margin-left:0} .form-horizontal .control-list{padding-top:0} .form-horizontal .form-actions{padding-left:10px;padding-right:10px} .media .pull-left,.media .pull-right{float:none;display:block;margin-bottom:10px} .media-object{margin-right:0;margin-left:0} .modal{top:10px;left:10px;right:10px} .modal-header .close{padding:10px;margin:-10px} .carousel-caption{position:static}}@media (max-width:979px){body{padding-top:0} .navbar-fixed-top,.navbar-fixed-bottom{position:static} .navbar-fixed-top{margin-bottom:20px} .navbar-fixed-bottom{margin-top:20px} .navbar-fixed-top .navbar-inner,.navbar-fixed-bottom .navbar-inner{padding:5px} .navbar .container{width:auto;padding:0} .navbar .brand{padding-left:10px;padding-right:10px;margin:0 0 0 -5px} .nav-collapse{clear:both} .nav-collapse .nav{float:none;margin:0 0 10px} .nav-collapse .nav>li{float:none} .nav-collapse .nav>li>a{margin-bottom:2px} .nav-collapse .nav>.divider-vertical{display:none} .nav-collapse .nav .nav-header{color:#777;text-shadow:none} .nav-collapse .nav>li>a,.nav-collapse .dropdown-menu a{padding:9px 15px;font-weight:bold;color:#777;border-radius:3px;-webkit-border-radius:3px;-moz-border-radius:3px;border-radius:3px} .nav-collapse .btn{padding:4px 10px 4px;font-weight:normal;border-radius:4px;-webkit-border-radius:4px;-moz-border-radius:4px;border-radius:4px} .nav-collapse .dropdown-menu li+li a{margin-bottom:2px} .nav-collapse .nav>li>a:hover,.nav-collapse .nav>li>a:focus,.nav-collapse .dropdown-menu a:hover,.nav-collapse .dropdown-menu a:focus{background-color:#f2f2f2} .navbar-inverse .nav-collapse .nav>li>a,.navbar-inverse .nav-collapse .dropdown-menu a{color:#999} .navbar-inverse .nav-collapse .nav>li>a:hover,.navbar-inverse .nav-collapse .nav>li>a:focus,.navbar-inverse .nav-collapse .dropdown-menu a:hover,.navbar-inverse .nav-collapse .dropdown-menu a:focus{background-color:#111} .nav-collapse.in .btn-group{margin-top:5px;padding:0} .nav-collapse .dropdown-menu{position:static;top:auto;left:auto;float:none;display:none;max-width:none;margin:0 15px;padding:0;background-color:transparent;border:none;-webkit-border-radius:0;-moz-border-radius:0;border-radius:0;-webkit-box-shadow:none;-moz-box-shadow:none;box-shadow:none} .nav-collapse .open>.dropdown-menu{display:block} .nav-collapse .dropdown-menu:before,.nav-collapse .dropdown-menu:after{display:none} .nav-collapse .dropdown-menu .divider{display:none} .nav-collapse .nav>li>.dropdown-menu:before,.nav-collapse .nav>li>.dropdown-menu:after{display:none} .nav-collapse .navbar-form,.nav-collapse .navbar-search{float:none;padding:10px 15px;margin:10px 0;border-top:1px solid #f2f2f2;border-bottom:1px solid #f2f2f2;-webkit-box-shadow:inset 0 1px 0 rgba(255,255,255,.1), 0 1px 0 rgba(255,255,255,.1);-moz-box-shadow:inset 0 1px 0 rgba(255,255,255,.1), 0 1px 0 rgba(255,255,255,.1);box-shadow:inset 0 1px 0 rgba(255,255,255,.1), 0 1px 0 rgba(255,255,255,.1)} .navbar-inverse .nav-collapse .navbar-form,.navbar-inverse .nav-collapse .navbar-search{border-top-color:#111;border-bottom-color:#111} .navbar .nav-collapse .nav.pull-right{float:none;margin-left:0} .nav-collapse,.nav-collapse.collapse{overflow:hidden;height:0} .navbar .btn-navbar{display:block} .navbar-static .navbar-inner{padding-left:10px;padding-right:10px}}@media (min-width:979px + 1){.nav-collapse.collapse{height:auto !important;overflow:visible !important}}@font-face{font-family:'FontAwesome';src:url('../components/font-awesome/font/fontawesome-webfont.eot?v=3.2.1');src:url('../components/font-awesome/font/fontawesome-webfont.eot?#iefix&v=3.2.1') format('embedded-opentype'),url('../components/font-awesome/font/fontawesome-webfont.woff?v=3.2.1') format('woff'),url('../components/font-awesome/font/fontawesome-webfont.ttf?v=3.2.1') format('truetype'),url('../components/font-awesome/font/fontawesome-webfont.svg#fontawesomeregular?v=3.2.1') format('svg');font-weight:normal;font-style:normal}[class^="icon-"],[class*=" icon-"]{font-family:FontAwesome;font-weight:normal;font-style:normal;text-decoration:inherit;-webkit-font-smoothing:antialiased;*margin-right:.3em}
[class^="icon-"]:before,[class*=" icon-"]:before{text-decoration:inherit;display:inline-block;speak:none}
.icon-large:before{vertical-align:-10%;font-size:1.3333333333333333em}
a [class^="icon-"],a [class*=" icon-"]{display:inline}
[class^="icon-"].icon-fixed-width,[class*=" icon-"].icon-fixed-width{display:inline-block;width:1.1428571428571428em;text-align:right;padding-right:.2857142857142857em}[class^="icon-"].icon-fixed-width.icon-large,[class*=" icon-"].icon-fixed-width.icon-large{width:1.4285714285714286em}
.icons-ul{margin-left:2.142857142857143em;list-style-type:none}.icons-ul>li{position:relative}
.icons-ul .icon-li{position:absolute;left:-2.142857142857143em;width:2.142857142857143em;text-align:center;line-height:inherit}
[class^="icon-"].hide,[class*=" icon-"].hide{display:none}
.icon-muted{color:#eee}
.icon-light{color:#fff}
.icon-dark{color:#333}
.icon-border{border:solid 1px #eee;padding:.2em .25em .15em;border-radius:3px;-webkit-border-radius:3px;-moz-border-radius:3px;border-radius:3px}
.icon-2x{font-size:2em}.icon-2x.icon-border{border-width:2px;border-radius:4px;-webkit-border-radius:4px;-moz-border-radius:4px;border-radius:4px}
.icon-3x{font-size:3em}.icon-3x.icon-border{border-width:3px;border-radius:5px;-webkit-border-radius:5px;-moz-border-radius:5px;border-radius:5px}
.icon-4x{font-size:4em}.icon-4x.icon-border{border-width:4px;border-radius:6px;-webkit-border-radius:6px;-moz-border-radius:6px;border-radius:6px}
.icon-5x{font-size:5em}.icon-5x.icon-border{border-width:5px;border-radius:7px;-webkit-border-radius:7px;-moz-border-radius:7px;border-radius:7px}
.pull-right{float:right}
.pull-left{float:left}
[class^="icon-"].pull-left,[class*=" icon-"].pull-left{margin-right:.3em}
[class^="icon-"].pull-right,[class*=" icon-"].pull-right{margin-left:.3em}
[class^="icon-"],[class*=" icon-"]{display:inline;width:auto;height:auto;line-height:normal;vertical-align:baseline;background-image:none;background-position:0 0;background-repeat:repeat;margin-top:0}
.icon-white,.nav-pills>.active>a>[class^="icon-"],.nav-pills>.active>a>[class*=" icon-"],.nav-list>.active>a>[class^="icon-"],.nav-list>.active>a>[class*=" icon-"],.navbar-inverse .nav>.active>a>[class^="icon-"],.navbar-inverse .nav>.active>a>[class*=" icon-"],.dropdown-menu>li>a:hover>[class^="icon-"],.dropdown-menu>li>a:hover>[class*=" icon-"],.dropdown-menu>.active>a>[class^="icon-"],.dropdown-menu>.active>a>[class*=" icon-"],.dropdown-submenu:hover>a>[class^="icon-"],.dropdown-submenu:hover>a>[class*=" icon-"]{background-image:none}
.btn [class^="icon-"].icon-large,.nav [class^="icon-"].icon-large,.btn [class*=" icon-"].icon-large,.nav [class*=" icon-"].icon-large{line-height:.9em}
.btn [class^="icon-"].icon-spin,.nav [class^="icon-"].icon-spin,.btn [class*=" icon-"].icon-spin,.nav [class*=" icon-"].icon-spin{display:inline-block}
.nav-tabs [class^="icon-"],.nav-pills [class^="icon-"],.nav-tabs [class*=" icon-"],.nav-pills [class*=" icon-"],.nav-tabs [class^="icon-"].icon-large,.nav-pills [class^="icon-"].icon-large,.nav-tabs [class*=" icon-"].icon-large,.nav-pills [class*=" icon-"].icon-large{line-height:.9em}
.btn [class^="icon-"].pull-left.icon-2x,.btn [class*=" icon-"].pull-left.icon-2x,.btn [class^="icon-"].pull-right.icon-2x,.btn [class*=" icon-"].pull-right.icon-2x{margin-top:.18em}
.btn [class^="icon-"].icon-spin.icon-large,.btn [class*=" icon-"].icon-spin.icon-large{line-height:.8em}
.btn.btn-small [class^="icon-"].pull-left.icon-2x,.btn.btn-small [class*=" icon-"].pull-left.icon-2x,.btn.btn-small [class^="icon-"].pull-right.icon-2x,.btn.btn-small [class*=" icon-"].pull-right.icon-2x{margin-top:.25em}
.btn.btn-large [class^="icon-"],.btn.btn-large [class*=" icon-"]{margin-top:0}.btn.btn-large [class^="icon-"].pull-left.icon-2x,.btn.btn-large [class*=" icon-"].pull-left.icon-2x,.btn.btn-large [class^="icon-"].pull-right.icon-2x,.btn.btn-large [class*=" icon-"].pull-right.icon-2x{margin-top:.05em}
.btn.btn-large [class^="icon-"].pull-left.icon-2x,.btn.btn-large [class*=" icon-"].pull-left.icon-2x{margin-right:.2em}
.btn.btn-large [class^="icon-"].pull-right.icon-2x,.btn.btn-large [class*=" icon-"].pull-right.icon-2x{margin-left:.2em}
.nav-list [class^="icon-"],.nav-list [class*=" icon-"]{line-height:inherit}
.icon-stack{position:relative;display:inline-block;width:2em;height:2em;line-height:2em;vertical-align:-35%}.icon-stack [class^="icon-"],.icon-stack [class*=" icon-"]{display:block;text-align:center;position:absolute;width:100%;height:100%;font-size:1em;line-height:inherit;*line-height:2em}
.icon-stack .icon-stack-base{font-size:2em;*line-height:1em}
.icon-spin{display:inline-block;-moz-animation:spin 2s infinite linear;-o-animation:spin 2s infinite linear;-webkit-animation:spin 2s infinite linear;animation:spin 2s infinite linear}
a .icon-stack,a .icon-spin{display:inline-block;text-decoration:none}
@-moz-keyframes spin{0%{-moz-transform:rotate(0deg)} 100%{-moz-transform:rotate(359deg)}}@-webkit-keyframes spin{0%{-webkit-transform:rotate(0deg)} 100%{-webkit-transform:rotate(359deg)}}@-o-keyframes spin{0%{-o-transform:rotate(0deg)} 100%{-o-transform:rotate(359deg)}}@-ms-keyframes spin{0%{-ms-transform:rotate(0deg)} 100%{-ms-transform:rotate(359deg)}}@keyframes spin{0%{transform:rotate(0deg)} 100%{transform:rotate(359deg)}}.icon-rotate-90:before{-webkit-transform:rotate(90deg);-moz-transform:rotate(90deg);-ms-transform:rotate(90deg);-o-transform:rotate(90deg);transform:rotate(90deg);filter:progid:DXImageTransform.Microsoft.BasicImage(rotation=1)}
.icon-rotate-180:before{-webkit-transform:rotate(180deg);-moz-transform:rotate(180deg);-ms-transform:rotate(180deg);-o-transform:rotate(180deg);transform:rotate(180deg);filter:progid:DXImageTransform.Microsoft.BasicImage(rotation=2)}
.icon-rotate-270:before{-webkit-transform:rotate(270deg);-moz-transform:rotate(270deg);-ms-transform:rotate(270deg);-o-transform:rotate(270deg);transform:rotate(270deg);filter:progid:DXImageTransform.Microsoft.BasicImage(rotation=3)}
.icon-flip-horizontal:before{-webkit-transform:scale(-1, 1);-moz-transform:scale(-1, 1);-ms-transform:scale(-1, 1);-o-transform:scale(-1, 1);transform:scale(-1, 1)}
.icon-flip-vertical:before{-webkit-transform:scale(1, -1);-moz-transform:scale(1, -1);-ms-transform:scale(1, -1);-o-transform:scale(1, -1);transform:scale(1, -1)}
a .icon-rotate-90:before,a .icon-rotate-180:before,a .icon-rotate-270:before,a .icon-flip-horizontal:before,a .icon-flip-vertical:before{display:inline-block}
.icon-glass:before{content:"\f000"}
.icon-music:before{content:"\f001"}
.icon-search:before{content:"\f002"}
.icon-envelope-alt:before{content:"\f003"}
.icon-heart:before{content:"\f004"}
.icon-star:before{content:"\f005"}
.icon-star-empty:before{content:"\f006"}
.icon-user:before{content:"\f007"}
.icon-film:before{content:"\f008"}
.icon-th-large:before{content:"\f009"}
.icon-th:before{content:"\f00a"}
.icon-th-list:before{content:"\f00b"}
.icon-ok:before{content:"\f00c"}
.icon-remove:before{content:"\f00d"}
.icon-zoom-in:before{content:"\f00e"}
.icon-zoom-out:before{content:"\f010"}
.icon-power-off:before,.icon-off:before{content:"\f011"}
.icon-signal:before{content:"\f012"}
.icon-gear:before,.icon-cog:before{content:"\f013"}
.icon-trash:before{content:"\f014"}
.icon-home:before{content:"\f015"}
.icon-file-alt:before{content:"\f016"}
.icon-time:before{content:"\f017"}
.icon-road:before{content:"\f018"}
.icon-download-alt:before{content:"\f019"}
.icon-download:before{content:"\f01a"}
.icon-upload:before{content:"\f01b"}
.icon-inbox:before{content:"\f01c"}
.icon-play-circle:before{content:"\f01d"}
.icon-rotate-right:before,.icon-repeat:before{content:"\f01e"}
.icon-refresh:before{content:"\f021"}
.icon-list-alt:before{content:"\f022"}
.icon-lock:before{content:"\f023"}
.icon-flag:before{content:"\f024"}
.icon-headphones:before{content:"\f025"}
.icon-volume-off:before{content:"\f026"}
.icon-volume-down:before{content:"\f027"}
.icon-volume-up:before{content:"\f028"}
.icon-qrcode:before{content:"\f029"}
.icon-barcode:before{content:"\f02a"}
.icon-tag:before{content:"\f02b"}
.icon-tags:before{content:"\f02c"}
.icon-book:before{content:"\f02d"}
.icon-bookmark:before{content:"\f02e"}
.icon-print:before{content:"\f02f"}
.icon-camera:before{content:"\f030"}
.icon-font:before{content:"\f031"}
.icon-bold:before{content:"\f032"}
.icon-italic:before{content:"\f033"}
.icon-text-height:before{content:"\f034"}
.icon-text-width:before{content:"\f035"}
.icon-align-left:before{content:"\f036"}
.icon-align-center:before{content:"\f037"}
.icon-align-right:before{content:"\f038"}
.icon-align-justify:before{content:"\f039"}
.icon-list:before{content:"\f03a"}
.icon-indent-left:before{content:"\f03b"}
.icon-indent-right:before{content:"\f03c"}
.icon-facetime-video:before{content:"\f03d"}
.icon-picture:before{content:"\f03e"}
.icon-pencil:before{content:"\f040"}
.icon-map-marker:before{content:"\f041"}
.icon-adjust:before{content:"\f042"}
.icon-tint:before{content:"\f043"}
.icon-edit:before{content:"\f044"}
.icon-share:before{content:"\f045"}
.icon-check:before{content:"\f046"}
.icon-move:before{content:"\f047"}
.icon-step-backward:before{content:"\f048"}
.icon-fast-backward:before{content:"\f049"}
.icon-backward:before{content:"\f04a"}
.icon-play:before{content:"\f04b"}
.icon-pause:before{content:"\f04c"}
.icon-stop:before{content:"\f04d"}
.icon-forward:before{content:"\f04e"}
.icon-fast-forward:before{content:"\f050"}
.icon-step-forward:before{content:"\f051"}
.icon-eject:before{content:"\f052"}
.icon-chevron-left:before{content:"\f053"}
.icon-chevron-right:before{content:"\f054"}
.icon-plus-sign:before{content:"\f055"}
.icon-minus-sign:before{content:"\f056"}
.icon-remove-sign:before{content:"\f057"}
.icon-ok-sign:before{content:"\f058"}
.icon-question-sign:before{content:"\f059"}
.icon-info-sign:before{content:"\f05a"}
.icon-screenshot:before{content:"\f05b"}
.icon-remove-circle:before{content:"\f05c"}
.icon-ok-circle:before{content:"\f05d"}
.icon-ban-circle:before{content:"\f05e"}
.icon-arrow-left:before{content:"\f060"}
.icon-arrow-right:before{content:"\f061"}
.icon-arrow-up:before{content:"\f062"}
.icon-arrow-down:before{content:"\f063"}
.icon-mail-forward:before,.icon-share-alt:before{content:"\f064"}
.icon-resize-full:before{content:"\f065"}
.icon-resize-small:before{content:"\f066"}
.icon-plus:before{content:"\f067"}
.icon-minus:before{content:"\f068"}
.icon-asterisk:before{content:"\f069"}
.icon-exclamation-sign:before{content:"\f06a"}
.icon-gift:before{content:"\f06b"}
.icon-leaf:before{content:"\f06c"}
.icon-fire:before{content:"\f06d"}
.icon-eye-open:before{content:"\f06e"}
.icon-eye-close:before{content:"\f070"}
.icon-warning-sign:before{content:"\f071"}
.icon-plane:before{content:"\f072"}
.icon-calendar:before{content:"\f073"}
.icon-random:before{content:"\f074"}
.icon-comment:before{content:"\f075"}
.icon-magnet:before{content:"\f076"}
.icon-chevron-up:before{content:"\f077"}
.icon-chevron-down:before{content:"\f078"}
.icon-retweet:before{content:"\f079"}
.icon-shopping-cart:before{content:"\f07a"}
.icon-folder-close:before{content:"\f07b"}
.icon-folder-open:before{content:"\f07c"}
.icon-resize-vertical:before{content:"\f07d"}
.icon-resize-horizontal:before{content:"\f07e"}
.icon-bar-chart:before{content:"\f080"}
.icon-twitter-sign:before{content:"\f081"}
.icon-facebook-sign:before{content:"\f082"}
.icon-camera-retro:before{content:"\f083"}
.icon-key:before{content:"\f084"}
.icon-gears:before,.icon-cogs:before{content:"\f085"}
.icon-comments:before{content:"\f086"}
.icon-thumbs-up-alt:before{content:"\f087"}
.icon-thumbs-down-alt:before{content:"\f088"}
.icon-star-half:before{content:"\f089"}
.icon-heart-empty:before{content:"\f08a"}
.icon-signout:before{content:"\f08b"}
.icon-linkedin-sign:before{content:"\f08c"}
.icon-pushpin:before{content:"\f08d"}
.icon-external-link:before{content:"\f08e"}
.icon-signin:before{content:"\f090"}
.icon-trophy:before{content:"\f091"}
.icon-github-sign:before{content:"\f092"}
.icon-upload-alt:before{content:"\f093"}
.icon-lemon:before{content:"\f094"}
.icon-phone:before{content:"\f095"}
.icon-unchecked:before,.icon-check-empty:before{content:"\f096"}
.icon-bookmark-empty:before{content:"\f097"}
.icon-phone-sign:before{content:"\f098"}
.icon-twitter:before{content:"\f099"}
.icon-facebook:before{content:"\f09a"}
.icon-github:before{content:"\f09b"}
.icon-unlock:before{content:"\f09c"}
.icon-credit-card:before{content:"\f09d"}
.icon-rss:before{content:"\f09e"}
.icon-hdd:before{content:"\f0a0"}
.icon-bullhorn:before{content:"\f0a1"}
.icon-bell:before{content:"\f0a2"}
.icon-certificate:before{content:"\f0a3"}
.icon-hand-right:before{content:"\f0a4"}
.icon-hand-left:before{content:"\f0a5"}
.icon-hand-up:before{content:"\f0a6"}
.icon-hand-down:before{content:"\f0a7"}
.icon-circle-arrow-left:before{content:"\f0a8"}
.icon-circle-arrow-right:before{content:"\f0a9"}
.icon-circle-arrow-up:before{content:"\f0aa"}
.icon-circle-arrow-down:before{content:"\f0ab"}
.icon-globe:before{content:"\f0ac"}
.icon-wrench:before{content:"\f0ad"}
.icon-tasks:before{content:"\f0ae"}
.icon-filter:before{content:"\f0b0"}
.icon-briefcase:before{content:"\f0b1"}
.icon-fullscreen:before{content:"\f0b2"}
.icon-group:before{content:"\f0c0"}
.icon-link:before{content:"\f0c1"}
.icon-cloud:before{content:"\f0c2"}
.icon-beaker:before{content:"\f0c3"}
.icon-cut:before{content:"\f0c4"}
.icon-copy:before{content:"\f0c5"}
.icon-paperclip:before,.icon-paper-clip:before{content:"\f0c6"}
.icon-save:before{content:"\f0c7"}
.icon-sign-blank:before{content:"\f0c8"}
.icon-reorder:before{content:"\f0c9"}
.icon-list-ul:before{content:"\f0ca"}
.icon-list-ol:before{content:"\f0cb"}
.icon-strikethrough:before{content:"\f0cc"}
.icon-underline:before{content:"\f0cd"}
.icon-table:before{content:"\f0ce"}
.icon-magic:before{content:"\f0d0"}
.icon-truck:before{content:"\f0d1"}
.icon-pinterest:before{content:"\f0d2"}
.icon-pinterest-sign:before{content:"\f0d3"}
.icon-google-plus-sign:before{content:"\f0d4"}
.icon-google-plus:before{content:"\f0d5"}
.icon-money:before{content:"\f0d6"}
.icon-caret-down:before{content:"\f0d7"}
.icon-caret-up:before{content:"\f0d8"}
.icon-caret-left:before{content:"\f0d9"}
.icon-caret-right:before{content:"\f0da"}
.icon-columns:before{content:"\f0db"}
.icon-sort:before{content:"\f0dc"}
.icon-sort-down:before{content:"\f0dd"}
.icon-sort-up:before{content:"\f0de"}
.icon-envelope:before{content:"\f0e0"}
.icon-linkedin:before{content:"\f0e1"}
.icon-rotate-left:before,.icon-undo:before{content:"\f0e2"}
.icon-legal:before{content:"\f0e3"}
.icon-dashboard:before{content:"\f0e4"}
.icon-comment-alt:before{content:"\f0e5"}
.icon-comments-alt:before{content:"\f0e6"}
.icon-bolt:before{content:"\f0e7"}
.icon-sitemap:before{content:"\f0e8"}
.icon-umbrella:before{content:"\f0e9"}
.icon-paste:before{content:"\f0ea"}
.icon-lightbulb:before{content:"\f0eb"}
.icon-exchange:before{content:"\f0ec"}
.icon-cloud-download:before{content:"\f0ed"}
.icon-cloud-upload:before{content:"\f0ee"}
.icon-user-md:before{content:"\f0f0"}
.icon-stethoscope:before{content:"\f0f1"}
.icon-suitcase:before{content:"\f0f2"}
.icon-bell-alt:before{content:"\f0f3"}
.icon-coffee:before{content:"\f0f4"}
.icon-food:before{content:"\f0f5"}
.icon-file-text-alt:before{content:"\f0f6"}
.icon-building:before{content:"\f0f7"}
.icon-hospital:before{content:"\f0f8"}
.icon-ambulance:before{content:"\f0f9"}
.icon-medkit:before{content:"\f0fa"}
.icon-fighter-jet:before{content:"\f0fb"}
.icon-beer:before{content:"\f0fc"}
.icon-h-sign:before{content:"\f0fd"}
.icon-plus-sign-alt:before{content:"\f0fe"}
.icon-double-angle-left:before{content:"\f100"}
.icon-double-angle-right:before{content:"\f101"}
.icon-double-angle-up:before{content:"\f102"}
.icon-double-angle-down:before{content:"\f103"}
.icon-angle-left:before{content:"\f104"}
.icon-angle-right:before{content:"\f105"}
.icon-angle-up:before{content:"\f106"}
.icon-angle-down:before{content:"\f107"}
.icon-desktop:before{content:"\f108"}
.icon-laptop:before{content:"\f109"}
.icon-tablet:before{content:"\f10a"}
.icon-mobile-phone:before{content:"\f10b"}
.icon-circle-blank:before{content:"\f10c"}
.icon-quote-left:before{content:"\f10d"}
.icon-quote-right:before{content:"\f10e"}
.icon-spinner:before{content:"\f110"}
.icon-circle:before{content:"\f111"}
.icon-mail-reply:before,.icon-reply:before{content:"\f112"}
.icon-github-alt:before{content:"\f113"}
.icon-folder-close-alt:before{content:"\f114"}
.icon-folder-open-alt:before{content:"\f115"}
.icon-expand-alt:before{content:"\f116"}
.icon-collapse-alt:before{content:"\f117"}
.icon-smile:before{content:"\f118"}
.icon-frown:before{content:"\f119"}
.icon-meh:before{content:"\f11a"}
.icon-gamepad:before{content:"\f11b"}
.icon-keyboard:before{content:"\f11c"}
.icon-flag-alt:before{content:"\f11d"}
.icon-flag-checkered:before{content:"\f11e"}
.icon-terminal:before{content:"\f120"}
.icon-code:before{content:"\f121"}
.icon-reply-all:before{content:"\f122"}
.icon-mail-reply-all:before{content:"\f122"}
.icon-star-half-full:before,.icon-star-half-empty:before{content:"\f123"}
.icon-location-arrow:before{content:"\f124"}
.icon-crop:before{content:"\f125"}
.icon-code-fork:before{content:"\f126"}
.icon-unlink:before{content:"\f127"}
.icon-question:before{content:"\f128"}
.icon-info:before{content:"\f129"}
.icon-exclamation:before{content:"\f12a"}
.icon-superscript:before{content:"\f12b"}
.icon-subscript:before{content:"\f12c"}
.icon-eraser:before{content:"\f12d"}
.icon-puzzle-piece:before{content:"\f12e"}
.icon-microphone:before{content:"\f130"}
.icon-microphone-off:before{content:"\f131"}
.icon-shield:before{content:"\f132"}
.icon-calendar-empty:before{content:"\f133"}
.icon-fire-extinguisher:before{content:"\f134"}
.icon-rocket:before{content:"\f135"}
.icon-maxcdn:before{content:"\f136"}
.icon-chevron-sign-left:before{content:"\f137"}
.icon-chevron-sign-right:before{content:"\f138"}
.icon-chevron-sign-up:before{content:"\f139"}
.icon-chevron-sign-down:before{content:"\f13a"}
.icon-html5:before{content:"\f13b"}
.icon-css3:before{content:"\f13c"}
.icon-anchor:before{content:"\f13d"}
.icon-unlock-alt:before{content:"\f13e"}
.icon-bullseye:before{content:"\f140"}
.icon-ellipsis-horizontal:before{content:"\f141"}
.icon-ellipsis-vertical:before{content:"\f142"}
.icon-rss-sign:before{content:"\f143"}
.icon-play-sign:before{content:"\f144"}
.icon-ticket:before{content:"\f145"}
.icon-minus-sign-alt:before{content:"\f146"}
.icon-check-minus:before{content:"\f147"}
.icon-level-up:before{content:"\f148"}
.icon-level-down:before{content:"\f149"}
.icon-check-sign:before{content:"\f14a"}
.icon-edit-sign:before{content:"\f14b"}
.icon-external-link-sign:before{content:"\f14c"}
.icon-share-sign:before{content:"\f14d"}
.icon-compass:before{content:"\f14e"}
.icon-collapse:before{content:"\f150"}
.icon-collapse-top:before{content:"\f151"}
.icon-expand:before{content:"\f152"}
.icon-euro:before,.icon-eur:before{content:"\f153"}
.icon-gbp:before{content:"\f154"}
.icon-dollar:before,.icon-usd:before{content:"\f155"}
.icon-rupee:before,.icon-inr:before{content:"\f156"}
.icon-yen:before,.icon-jpy:before{content:"\f157"}
.icon-renminbi:before,.icon-cny:before{content:"\f158"}
.icon-won:before,.icon-krw:before{content:"\f159"}
.icon-bitcoin:before,.icon-btc:before{content:"\f15a"}
.icon-file:before{content:"\f15b"}
.icon-file-text:before{content:"\f15c"}
.icon-sort-by-alphabet:before{content:"\f15d"}
.icon-sort-by-alphabet-alt:before{content:"\f15e"}
.icon-sort-by-attributes:before{content:"\f160"}
.icon-sort-by-attributes-alt:before{content:"\f161"}
.icon-sort-by-order:before{content:"\f162"}
.icon-sort-by-order-alt:before{content:"\f163"}
.icon-thumbs-up:before{content:"\f164"}
.icon-thumbs-down:before{content:"\f165"}
.icon-youtube-sign:before{content:"\f166"}
.icon-youtube:before{content:"\f167"}
.icon-xing:before{content:"\f168"}
.icon-xing-sign:before{content:"\f169"}
.icon-youtube-play:before{content:"\f16a"}
.icon-dropbox:before{content:"\f16b"}
.icon-stackexchange:before{content:"\f16c"}
.icon-instagram:before{content:"\f16d"}
.icon-flickr:before{content:"\f16e"}
.icon-adn:before{content:"\f170"}
.icon-bitbucket:before{content:"\f171"}
.icon-bitbucket-sign:before{content:"\f172"}
.icon-tumblr:before{content:"\f173"}
.icon-tumblr-sign:before{content:"\f174"}
.icon-long-arrow-down:before{content:"\f175"}
.icon-long-arrow-up:before{content:"\f176"}
.icon-long-arrow-left:before{content:"\f177"}
.icon-long-arrow-right:before{content:"\f178"}
.icon-apple:before{content:"\f179"}
.icon-windows:before{content:"\f17a"}
.icon-android:before{content:"\f17b"}
.icon-linux:before{content:"\f17c"}
.icon-dribbble:before{content:"\f17d"}
.icon-skype:before{content:"\f17e"}
.icon-foursquare:before{content:"\f180"}
.icon-trello:before{content:"\f181"}
.icon-female:before{content:"\f182"}
.icon-male:before{content:"\f183"}
.icon-gittip:before{content:"\f184"}
.icon-sun:before{content:"\f185"}
.icon-moon:before{content:"\f186"}
.icon-archive:before{content:"\f187"}
.icon-bug:before{content:"\f188"}
.icon-vk:before{content:"\f189"}
.icon-weibo:before{content:"\f18a"}
.icon-renren:before{content:"\f18b"}
code{color:#000}
.border-box-sizing{box-sizing:border-box;-moz-box-sizing:border-box;-webkit-box-sizing:border-box}
.corner-all{border-radius:4px}
.hbox{display:-webkit-box;-webkit-box-orient:horizontal;-webkit-box-align:stretch;display:-moz-box;-moz-box-orient:horizontal;-moz-box-align:stretch;display:box;box-orient:horizontal;box-align:stretch;display:flex;flex-direction:row;align-items:stretch}
.hbox>*{-webkit-box-flex:0;-moz-box-flex:0;box-flex:0;flex:none}
.vbox{display:-webkit-box;-webkit-box-orient:vertical;-webkit-box-align:stretch;display:-moz-box;-moz-box-orient:vertical;-moz-box-align:stretch;display:box;box-orient:vertical;box-align:stretch;display:flex;flex-direction:column;align-items:stretch}
.vbox>*{-webkit-box-flex:0;-moz-box-flex:0;box-flex:0;flex:none}
.hbox.reverse,.vbox.reverse,.reverse{-webkit-box-direction:reverse;-moz-box-direction:reverse;box-direction:reverse;flex-direction:row-reverse}
.hbox.box-flex0,.vbox.box-flex0,.box-flex0{-webkit-box-flex:0;-moz-box-flex:0;box-flex:0;flex:none;width:auto}
.hbox.box-flex1,.vbox.box-flex1,.box-flex1{-webkit-box-flex:1;-moz-box-flex:1;box-flex:1;flex:1}
.hbox.box-flex,.vbox.box-flex,.box-flex{-webkit-box-flex:1;-moz-box-flex:1;box-flex:1;flex:1}
.hbox.box-flex2,.vbox.box-flex2,.box-flex2{-webkit-box-flex:2;-moz-box-flex:2;box-flex:2;flex:2}
.box-group1{-webkit-box-flex-group:1;-moz-box-flex-group:1;box-flex-group:1}
.box-group2{-webkit-box-flex-group:2;-moz-box-flex-group:2;box-flex-group:2}
.hbox.start,.vbox.start,.start{-webkit-box-pack:start;-moz-box-pack:start;box-pack:start;justify-content:flex-start}
.hbox.end,.vbox.end,.end{-webkit-box-pack:end;-moz-box-pack:end;box-pack:end;justify-content:flex-end}
.hbox.center,.vbox.center,.center{-webkit-box-pack:center;-moz-box-pack:center;box-pack:center;justify-content:center}
.hbox.align-start,.vbox.align-start,.align-start{-webkit-box-align:start;-moz-box-align:start;box-align:start;align-items:flex-start}
.hbox.align-end,.vbox.align-end,.align-end{-webkit-box-align:end;-moz-box-align:end;box-align:end;align-items:flex-end}
.hbox.align-center,.vbox.align-center,.align-center{-webkit-box-align:center;-moz-box-align:center;box-align:center;align-items:center}
div.error{margin:2em;text-align:center}
div.error>h1{font-size:500%;line-height:normal}
div.error>p{font-size:200%;line-height:normal}
div.traceback-wrapper{text-align:left;max-width:800px;margin:auto}
body{background-color:#fff;position:absolute;left:0;right:0;top:0;bottom:0;overflow:visible}
div#header{display:none}
#ipython_notebook{padding-left:16px}
#noscript{width:auto;padding-top:16px;padding-bottom:16px;text-align:center;font-size:22px;color:#f00;font-weight:bold}
#ipython_notebook img{font-family:Verdana,"Helvetica Neue",Arial,Helvetica,Geneva,sans-serif;height:24px;text-decoration:none;color:#000}
#site{width:100%;display:none}
.ui-button .ui-button-text{padding:.2em .8em;font-size:77%}
input.ui-button{padding:.3em .9em}
.navbar span{margin-top:3px}
span#login_widget{float:right}
.nav-header{text-transform:none}
.navbar-nobg{background-color:transparent;background-image:none}
#header>span{margin-top:10px}
.modal_stretch{display:-webkit-box;-webkit-box-orient:vertical;-webkit-box-align:stretch;display:-moz-box;-moz-box-orient:vertical;-moz-box-align:stretch;display:box;box-orient:vertical;box-align:stretch;display:flex;flex-direction:column;align-items:stretch;height:80%}.modal_stretch .modal-body{max-height:none;flex:1}
@media (min-width:768px){.modal{width:700px;margin-left:-350px}}.center-nav{display:inline-block;margin-bottom:-4px}
.alternate_upload{background-color:none;display:inline}
.alternate_upload.form{padding:0;margin:0}
.alternate_upload input.fileinput{background-color:#f00;position:relative;opacity:0;z-index:2;width:295px;margin-left:163px;cursor:pointer;height:26px}
ul#tabs{margin-bottom:4px}
ul#tabs a{padding-top:4px;padding-bottom:4px}
ul.breadcrumb a:focus,ul.breadcrumb a:hover{text-decoration:none}
ul.breadcrumb i.icon-home{font-size:16px;margin-right:4px}
ul.breadcrumb span{color:#5e5e5e}
.list_toolbar{padding:4px 0 4px 0}
.list_toolbar [class*="span"]{min-height:26px}
.list_header{font-weight:bold}
.list_container{margin-top:4px;margin-bottom:20px;border:1px solid #ababab;border-radius:4px}
.list_container>div{border-bottom:1px solid #ababab}.list_container>div:hover .list-item{background-color:#f00}
.list_container>div:last-child{border:none}
.list_item:hover .list_item{background-color:#ddd}
.list_item a{text-decoration:none}
.list_header>div,.list_item>div{padding-top:4px;padding-bottom:4px;padding-left:7px;padding-right:7px;height:22px;line-height:22px}
.item_name{line-height:22px;height:26px}
.item_icon{font-size:14px;color:#5e5e5e;margin-right:7px}
.item_buttons{line-height:1em}
.toolbar_info{height:26px;line-height:26px}
input.nbname_input,input.engine_num_input{padding-top:3px;padding-bottom:3px;height:14px;line-height:14px;margin:0}
input.engine_num_input{width:60px}
.highlight_text{color:#00f}
#project_name>.breadcrumb{padding:0;margin-bottom:0;background-color:transparent;font-weight:bold}
.ansibold{font-weight:bold}
.ansiblack{color:#000}
.ansired{color:#8b0000}
.ansigreen{color:#006400}
.ansiyellow{color:#a52a2a}
.ansiblue{color:#00008b}
.ansipurple{color:#9400d3}
.ansicyan{color:#4682b4}
.ansigray{color:#808080}
.ansibgblack{background-color:#000}
.ansibgred{background-color:#f00}
.ansibggreen{background-color:#008000}
.ansibgyellow{background-color:#ff0}
.ansibgblue{background-color:#00f}
.ansibgpurple{background-color:#f0f}
.ansibgcyan{background-color:#0ff}
.ansibggray{background-color:#808080}
div.cell{border:1px solid transparent;display:-webkit-box;-webkit-box-orient:vertical;-webkit-box-align:stretch;display:-moz-box;-moz-box-orient:vertical;-moz-box-align:stretch;display:box;box-orient:vertical;box-align:stretch;display:flex;flex-direction:column;align-items:stretch}div.cell.selected{border-radius:4px;border:thin #ababab solid}
div.cell.edit_mode{border-radius:4px;border:thin #008000 solid}
div.cell{width:100%;padding:5px 5px 5px 0;margin:0;outline:none}
div.prompt{min-width:11ex;padding:.4em;margin:0;font-family:monospace;text-align:right;line-height:1.21429em}
@media (max-width:480px){div.prompt{text-align:left}}div.inner_cell{display:-webkit-box;-webkit-box-orient:vertical;-webkit-box-align:stretch;display:-moz-box;-moz-box-orient:vertical;-moz-box-align:stretch;display:box;box-orient:vertical;box-align:stretch;display:flex;flex-direction:column;align-items:stretch;-webkit-box-flex:1;-moz-box-flex:1;box-flex:1;flex:1}
div.input_area{border:1px solid #cfcfcf;border-radius:4px;background:#f7f7f7}
div.prompt:empty{padding-top:0;padding-bottom:0}
div.input{page-break-inside:avoid;display:-webkit-box;-webkit-box-orient:horizontal;-webkit-box-align:stretch;display:-moz-box;-moz-box-orient:horizontal;-moz-box-align:stretch;display:box;box-orient:horizontal;box-align:stretch;display:flex;flex-direction:row;align-items:stretch}
@media (max-width:480px){div.input{display:-webkit-box;-webkit-box-orient:vertical;-webkit-box-align:stretch;display:-moz-box;-moz-box-orient:vertical;-moz-box-align:stretch;display:box;box-orient:vertical;box-align:stretch;display:flex;flex-direction:column;align-items:stretch}}div.input_prompt{color:#000080;border-top:1px solid transparent}
div.input_area>div.highlight{margin:.4em;border:none;padding:0;background-color:transparent}
div.input_area>div.highlight>pre{margin:0;border:0;padding:0;background-color:transparent;font-size:14px;line-height:1.21429em}
.CodeMirror{line-height:1.21429em;height:auto;background:none;}
.CodeMirror-scroll{overflow-y:hidden;overflow-x:auto}
@-moz-document url-prefix(){.CodeMirror-scroll{overflow-x:hidden}}.CodeMirror-lines{padding:.4em}
.CodeMirror-linenumber{padding:0 8px 0 4px}
.CodeMirror-gutters{border-bottom-left-radius:4px;border-top-left-radius:4px}
.CodeMirror pre{padding:0;border:0;border-radius:0;-webkit-border-radius:0;-moz-border-radius:0;border-radius:0}
pre code{display:block;padding:.5em}
.highlight-base,pre code,pre .subst,pre .tag .title,pre .lisp .title,pre .clojure .built_in,pre .nginx .title{color:#000}
.highlight-string,pre .string,pre .constant,pre .parent,pre .tag .value,pre .rules .value,pre .rules .value .number,pre .preprocessor,pre .ruby .symbol,pre .ruby .symbol .string,pre .aggregate,pre .template_tag,pre .django .variable,pre .smalltalk .class,pre .addition,pre .flow,pre .stream,pre .bash .variable,pre .apache .tag,pre .apache .cbracket,pre .tex .command,pre .tex .special,pre .erlang_repl .function_or_atom,pre .markdown .header{color:#ba2121}
.highlight-comment,pre .comment,pre .annotation,pre .template_comment,pre .diff .header,pre .chunk,pre .markdown .blockquote{color:#408080;font-style:italic}
.highlight-number,pre .number,pre .date,pre .regexp,pre .literal,pre .smalltalk .symbol,pre .smalltalk .char,pre .go .constant,pre .change,pre .markdown .bullet,pre .markdown .link_url{color:#080}
pre .label,pre .javadoc,pre .ruby .string,pre .decorator,pre .filter .argument,pre .localvars,pre .array,pre .attr_selector,pre .important,pre .pseudo,pre .pi,pre .doctype,pre .deletion,pre .envvar,pre .shebang,pre .apache .sqbracket,pre .nginx .built_in,pre .tex .formula,pre .erlang_repl .reserved,pre .prompt,pre .markdown .link_label,pre .vhdl .attribute,pre .clojure .attribute,pre .coffeescript .property{color:#88f}
.highlight-keyword,pre .keyword,pre .id,pre .phpdoc,pre .aggregate,pre .css .tag,pre .javadoctag,pre .phpdoc,pre .yardoctag,pre .smalltalk .class,pre .winutils,pre .bash .variable,pre .apache .tag,pre .go .typename,pre .tex .command,pre .markdown .strong,pre .request,pre .status{color:#008000;font-weight:bold}
.highlight-builtin,pre .built_in{color:#008000}
pre .markdown .emphasis{font-style:italic}
pre .nginx .built_in{font-weight:normal}
pre .coffeescript .javascript,pre .javascript .xml,pre .tex .formula,pre .xml .javascript,pre .xml .vbscript,pre .xml .css,pre .xml .cdata{opacity:.5}
.cm-s-ipython span.cm-variable{color:#000}
.cm-s-ipython span.cm-keyword{color:#008000;font-weight:bold}
.cm-s-ipython span.cm-number{color:#080}
.cm-s-ipython span.cm-comment{color:#408080;font-style:italic}
.cm-s-ipython span.cm-string{color:#ba2121}
.cm-s-ipython span.cm-builtin{color:#008000}
.cm-s-ipython span.cm-error{color:#f00}
.cm-s-ipython span.cm-operator{color:#a2f;font-weight:bold}
.cm-s-ipython span.cm-meta{color:#a2f}
.cm-s-ipython span.cm-tab{background:url(data:image/png;base64,iVBORw0KGgoAAAANSUhEUgAAADAAAAAMCAYAAAAkuj5RAAAAAXNSR0IArs4c6QAAAGFJREFUSMft1LsRQFAQheHPowAKoACx3IgEKtaEHujDjORSgWTH/ZOdnZOcM/sgk/kFFWY0qV8foQwS4MKBCS3qR6ixBJvElOobYAtivseIE120FaowJPN75GMu8j/LfMwNjh4HUpwg4LUAAAAASUVORK5CYII=);background-position:right;background-repeat:no-repeat}
div.output_wrapper{position:relative;display:-webkit-box;-webkit-box-orient:vertical;-webkit-box-align:stretch;display:-moz-box;-moz-box-orient:vertical;-moz-box-align:stretch;display:box;box-orient:vertical;box-align:stretch;display:flex;flex-direction:column;align-items:stretch}
div.output_scroll{height:24em;width:100%;overflow:auto;border-radius:4px;-webkit-box-shadow:inset 0 2px 8px rgba(0,0,0,0.8);-moz-box-shadow:inset 0 2px 8px rgba(0,0,0,0.8);box-shadow:inset 0 2px 8px rgba(0,0,0,0.8);display:block}
div.output_collapsed{margin:0;padding:0;display:-webkit-box;-webkit-box-orient:vertical;-webkit-box-align:stretch;display:-moz-box;-moz-box-orient:vertical;-moz-box-align:stretch;display:box;box-orient:vertical;box-align:stretch;display:flex;flex-direction:column;align-items:stretch}
div.out_prompt_overlay{height:100%;padding:0 .4em;position:absolute;border-radius:4px}
div.out_prompt_overlay:hover{-webkit-box-shadow:inset 0 0 1px #000;-moz-box-shadow:inset 0 0 1px #000;box-shadow:inset 0 0 1px #000;background:rgba(240,240,240,0.5)}
div.output_prompt{color:#8b0000}
div.output_area{padding:0;page-break-inside:avoid;display:-webkit-box;-webkit-box-orient:horizontal;-webkit-box-align:stretch;display:-moz-box;-moz-box-orient:horizontal;-moz-box-align:stretch;display:box;box-orient:horizontal;box-align:stretch;display:flex;flex-direction:row;align-items:stretch}div.output_area .MathJax_Display{text-align:left !important}
div.output_area .rendered_html table{margin-left:0;margin-right:0}
div.output_area .rendered_html img{margin-left:0;margin-right:0}
.output{display:-webkit-box;-webkit-box-orient:vertical;-webkit-box-align:stretch;display:-moz-box;-moz-box-orient:vertical;-moz-box-align:stretch;display:box;box-orient:vertical;box-align:stretch;display:flex;flex-direction:column;align-items:stretch}
@media (max-width:480px){div.output_area{display:-webkit-box;-webkit-box-orient:vertical;-webkit-box-align:stretch;display:-moz-box;-moz-box-orient:vertical;-moz-box-align:stretch;display:box;box-orient:vertical;box-align:stretch;display:flex;flex-direction:column;align-items:stretch}}div.output_area pre{margin:0;padding:0;border:0;font-size:100%;vertical-align:baseline;color:#000;background-color:transparent;-webkit-border-radius:0;-moz-border-radius:0;border-radius:0;line-height:inherit}
div.output_subarea{padding:.4em .4em 0 .4em;-webkit-box-flex:1;-moz-box-flex:1;box-flex:1;flex:1}
div.output_text{text-align:left;color:#000;line-height:1.21429em}
div.output_stderr{background:#fdd;}
div.output_latex{text-align:left}
div.output_javascript:empty{padding:0}
.js-error{color:#8b0000}
div.raw_input_container{font-family:monospace;padding-top:5px}
span.raw_input_prompt{}
input.raw_input{font-family:inherit;font-size:inherit;color:inherit;width:auto;vertical-align:baseline;padding:0 .25em;margin:0 .25em}
input.raw_input:focus{box-shadow:none}
p.p-space{margin-bottom:10px}
.rendered_html{color:#000;}.rendered_html em{font-style:italic}
.rendered_html strong{font-weight:bold}
.rendered_html u{text-decoration:underline}
.rendered_html :link{text-decoration:underline}
.rendered_html :visited{text-decoration:underline}
.rendered_html h1{font-size:185.7%;margin:1.08em 0 0 0;font-weight:bold;line-height:1}
.rendered_html h2{font-size:157.1%;margin:1.27em 0 0 0;font-weight:bold;line-height:1}
.rendered_html h3{font-size:128.6%;margin:1.55em 0 0 0;font-weight:bold;line-height:1}
.rendered_html h4{font-size:100%;margin:2em 0 0 0;font-weight:bold;line-height:1}
.rendered_html h5{font-size:100%;margin:2em 0 0 0;font-weight:bold;line-height:1;font-style:italic}
.rendered_html h6{font-size:100%;margin:2em 0 0 0;font-weight:bold;line-height:1;font-style:italic}
.rendered_html h1:first-child{margin-top:.538em}
.rendered_html h2:first-child{margin-top:.636em}
.rendered_html h3:first-child{margin-top:.777em}
.rendered_html h4:first-child{margin-top:1em}
.rendered_html h5:first-child{margin-top:1em}
.rendered_html h6:first-child{margin-top:1em}
.rendered_html ul{list-style:disc;margin:0 2em}
.rendered_html ul ul{list-style:square;margin:0 2em}
.rendered_html ul ul ul{list-style:circle;margin:0 2em}
.rendered_html ol{list-style:decimal;margin:0 2em}
.rendered_html ol ol{list-style:upper-alpha;margin:0 2em}
.rendered_html ol ol ol{list-style:lower-alpha;margin:0 2em}
.rendered_html ol ol ol ol{list-style:lower-roman;margin:0 2em}
.rendered_html ol ol ol ol ol{list-style:decimal;margin:0 2em}
.rendered_html *+ul{margin-top:1em}
.rendered_html *+ol{margin-top:1em}
.rendered_html hr{color:#000;background-color:#000}
.rendered_html pre{margin:1em 2em}
.rendered_html pre,.rendered_html code{border:0;background-color:#fff;color:#000;font-size:100%;padding:0}
.rendered_html blockquote{margin:1em 2em}
.rendered_html table{margin-left:auto;margin-right:auto;border:1px solid #000;border-collapse:collapse}
.rendered_html tr,.rendered_html th,.rendered_html td{border:1px solid #000;border-collapse:collapse;margin:1em 2em}
.rendered_html td,.rendered_html th{text-align:left;vertical-align:middle;padding:4px}
.rendered_html th{font-weight:bold}
.rendered_html *+table{margin-top:1em}
.rendered_html p{text-align:justify}
.rendered_html *+p{margin-top:1em}
.rendered_html img{display:block;margin-left:auto;margin-right:auto}
.rendered_html *+img{margin-top:1em}
div.text_cell{padding:5px 5px 5px 0;display:-webkit-box;-webkit-box-orient:horizontal;-webkit-box-align:stretch;display:-moz-box;-moz-box-orient:horizontal;-moz-box-align:stretch;display:box;box-orient:horizontal;box-align:stretch;display:flex;flex-direction:row;align-items:stretch}
@media (max-width:480px){div.text_cell>div.prompt{display:none}}div.text_cell_render{outline:none;resize:none;width:inherit;border-style:none;padding:.5em .5em .5em .4em;color:#000}
a.anchor-link:link{text-decoration:none;padding:0 20px;visibility:hidden}
h1:hover .anchor-link,h2:hover .anchor-link,h3:hover .anchor-link,h4:hover .anchor-link,h5:hover .anchor-link,h6:hover .anchor-link{visibility:visible}
div.cell.text_cell.rendered{padding:0}
.widget-area{page-break-inside:avoid;display:-webkit-box;-webkit-box-orient:horizontal;-webkit-box-align:stretch;display:-moz-box;-moz-box-orient:horizontal;-moz-box-align:stretch;display:box;box-orient:horizontal;box-align:stretch;display:flex;flex-direction:row;align-items:stretch}.widget-area .widget-subarea{padding:.44em .4em .4em 1px;margin-left:6px;box-sizing:border-box;-moz-box-sizing:border-box;-webkit-box-sizing:border-box;display:-webkit-box;-webkit-box-orient:vertical;-webkit-box-align:stretch;display:-moz-box;-moz-box-orient:vertical;-moz-box-align:stretch;display:box;box-orient:vertical;box-align:stretch;display:flex;flex-direction:column;align-items:stretch;-webkit-box-flex:2;-moz-box-flex:2;box-flex:2;flex:2;-webkit-box-align:start;-moz-box-align:start;box-align:start;align-items:flex-start}
.widget-hlabel{min-width:10ex;padding-right:8px;padding-top:3px;text-align:right;vertical-align:text-top}
.widget-vlabel{padding-bottom:5px;text-align:center;vertical-align:text-bottom}
.widget-hreadout{padding-left:8px;padding-top:3px;text-align:left;vertical-align:text-top}
.widget-vreadout{padding-top:5px;text-align:center;vertical-align:text-top}
.slide-track{border:1px solid #ccc;background:#fff;border-radius:4px;}
.widget-hslider{padding-left:8px;padding-right:5px;overflow:visible;width:348px;height:5px;max-height:5px;margin-top:11px;margin-bottom:10px;border:1px solid #ccc;background:#fff;border-radius:4px;display:-webkit-box;-webkit-box-orient:horizontal;-webkit-box-align:stretch;display:-moz-box;-moz-box-orient:horizontal;-moz-box-align:stretch;display:box;box-orient:horizontal;box-align:stretch;display:flex;flex-direction:row;align-items:stretch}.widget-hslider .ui-slider{border:0 !important;background:none !important;display:-webkit-box;-webkit-box-orient:horizontal;-webkit-box-align:stretch;display:-moz-box;-moz-box-orient:horizontal;-moz-box-align:stretch;display:box;box-orient:horizontal;box-align:stretch;display:flex;flex-direction:row;align-items:stretch;-webkit-box-flex:1;-moz-box-flex:1;box-flex:1;flex:1}.widget-hslider .ui-slider .ui-slider-handle{width:14px !important;height:28px !important;margin-top:-8px !important}
.widget-vslider{padding-bottom:8px;overflow:visible;width:5px;max-width:5px;height:250px;margin-left:12px;border:1px solid #ccc;background:#fff;border-radius:4px;display:-webkit-box;-webkit-box-orient:vertical;-webkit-box-align:stretch;display:-moz-box;-moz-box-orient:vertical;-moz-box-align:stretch;display:box;box-orient:vertical;box-align:stretch;display:flex;flex-direction:column;align-items:stretch}.widget-vslider .ui-slider{border:0 !important;background:none !important;margin-left:-4px;margin-top:5px;display:-webkit-box;-webkit-box-orient:vertical;-webkit-box-align:stretch;display:-moz-box;-moz-box-orient:vertical;-moz-box-align:stretch;display:box;box-orient:vertical;box-align:stretch;display:flex;flex-direction:column;align-items:stretch;-webkit-box-flex:1;-moz-box-flex:1;box-flex:1;flex:1}.widget-vslider .ui-slider .ui-slider-handle{width:28px !important;height:14px !important;margin-left:-9px}
.widget-text{width:350px;margin:0 !important}
.widget-listbox{width:364px;margin-bottom:0}
.widget-numeric-text{width:150px;margin:0 !important}
.widget-progress{width:363px}.widget-progress .bar{-webkit-transition:none;-moz-transition:none;-ms-transition:none;-o-transition:none;transition:none}
.widget-combo-btn{min-width:138px;}
.widget-box{margin:5px;-webkit-box-pack:start;-moz-box-pack:start;box-pack:start;justify-content:flex-start;box-sizing:border-box;-moz-box-sizing:border-box;-webkit-box-sizing:border-box;-webkit-box-align:start;-moz-box-align:start;box-align:start;align-items:flex-start}
.widget-hbox{margin:5px;-webkit-box-pack:start;-moz-box-pack:start;box-pack:start;justify-content:flex-start;box-sizing:border-box;-moz-box-sizing:border-box;-webkit-box-sizing:border-box;-webkit-box-align:start;-moz-box-align:start;box-align:start;align-items:flex-start;display:-webkit-box;-webkit-box-orient:horizontal;-webkit-box-align:stretch;display:-moz-box;-moz-box-orient:horizontal;-moz-box-align:stretch;display:box;box-orient:horizontal;box-align:stretch;display:flex;flex-direction:row;align-items:stretch}
.widget-hbox-single{margin:5px;-webkit-box-pack:start;-moz-box-pack:start;box-pack:start;justify-content:flex-start;box-sizing:border-box;-moz-box-sizing:border-box;-webkit-box-sizing:border-box;-webkit-box-align:start;-moz-box-align:start;box-align:start;align-items:flex-start;display:-webkit-box;-webkit-box-orient:horizontal;-webkit-box-align:stretch;display:-moz-box;-moz-box-orient:horizontal;-moz-box-align:stretch;display:box;box-orient:horizontal;box-align:stretch;display:flex;flex-direction:row;align-items:stretch;height:30px}
.widget-vbox{margin:5px;-webkit-box-pack:start;-moz-box-pack:start;box-pack:start;justify-content:flex-start;box-sizing:border-box;-moz-box-sizing:border-box;-webkit-box-sizing:border-box;-webkit-box-align:start;-moz-box-align:start;box-align:start;align-items:flex-start;display:-webkit-box;-webkit-box-orient:vertical;-webkit-box-align:stretch;display:-moz-box;-moz-box-orient:vertical;-moz-box-align:stretch;display:box;box-orient:vertical;box-align:stretch;display:flex;flex-direction:column;align-items:stretch}
.widget-vbox-single{margin:5px;-webkit-box-pack:start;-moz-box-pack:start;box-pack:start;justify-content:flex-start;box-sizing:border-box;-moz-box-sizing:border-box;-webkit-box-sizing:border-box;-webkit-box-align:start;-moz-box-align:start;box-align:start;align-items:flex-start;display:-webkit-box;-webkit-box-orient:vertical;-webkit-box-align:stretch;display:-moz-box;-moz-box-orient:vertical;-moz-box-align:stretch;display:box;box-orient:vertical;box-align:stretch;display:flex;flex-direction:column;align-items:stretch;width:30px}
.widget-modal{overflow:hidden;position:absolute !important;top:0;left:0;margin-left:0 !important}
.widget-modal-body{max-height:none !important}
.widget-container{box-sizing:border-box;-moz-box-sizing:border-box;-webkit-box-sizing:border-box;-webkit-box-align:start;-moz-box-align:start;box-align:start;align-items:flex-start}
.widget-radio-box{display:-webkit-box;-webkit-box-orient:vertical;-webkit-box-align:stretch;display:-moz-box;-moz-box-orient:vertical;-moz-box-align:stretch;display:box;box-orient:vertical;box-align:stretch;display:flex;flex-direction:column;align-items:stretch;box-sizing:border-box;-moz-box-sizing:border-box;-webkit-box-sizing:border-box;padding-top:4px}
.docked-widget-modal{overflow:hidden;position:relative !important;top:0 !important;left:0 !important;margin-left:0 !important}
body{background-color:#fff}
body.notebook_app{overflow:hidden}
@media (max-width:767px){body.notebook_app{padding-left:0;padding-right:0}}span#notebook_name{height:1em;line-height:1em;padding:3px;border:none;font-size:146.5%}
div#notebook_panel{margin:0 0 0 0;padding:0;-webkit-box-shadow:0 -1px 10px rgba(0,0,0,0.1);-moz-box-shadow:0 -1px 10px rgba(0,0,0,0.1);box-shadow:0 -1px 10px rgba(0,0,0,0.1)}
div#notebook{font-size:14px;line-height:20px;overflow-y:scroll;overflow-x:auto;width:100%;padding:1em 0 1em 0;margin:0;border-top:1px solid #ababab;outline:none;box-sizing:border-box;-moz-box-sizing:border-box;-webkit-box-sizing:border-box}
div.ui-widget-content{border:1px solid #ababab;outline:none}
pre.dialog{background-color:#f7f7f7;border:1px solid #ddd;border-radius:4px;padding:.4em;padding-left:2em}
p.dialog{padding:.2em}
pre,code,kbd,samp{white-space:pre-wrap}
#fonttest{font-family:monospace}
p{margin-bottom:0}
.end_space{height:200px}
.celltoolbar{border:thin solid #cfcfcf;border-bottom:none;background:#eee;border-radius:3px 3px 0 0;width:100%;-webkit-box-pack:end;height:22px;display:-webkit-box;-webkit-box-orient:horizontal;-webkit-box-align:stretch;display:-moz-box;-moz-box-orient:horizontal;-moz-box-align:stretch;display:box;box-orient:horizontal;box-align:stretch;display:flex;flex-direction:row;align-items:stretch;-webkit-box-direction:reverse;-moz-box-direction:reverse;box-direction:reverse;flex-direction:row-reverse}
.ctb_hideshow{display:none;vertical-align:bottom;padding-right:2px}
.celltoolbar>div{padding-top:0}
.ctb_global_show .ctb_show.ctb_hideshow{display:block}
.ctb_global_show .ctb_show+.input_area,.ctb_global_show .ctb_show+div.text_cell_input{border-top-right-radius:0;border-top-left-radius:0}
.celltoolbar .button_container select{margin:10px;margin-top:1px;margin-bottom:0;padding:0;font-size:87%;width:auto;display:inline-block;height:18px;line-height:18px;vertical-align:top}
.celltoolbar label{display:inline-block;height:15px;line-height:15px;vertical-align:top}
.celltoolbar label span{font-size:85%}
.celltoolbar input[type=checkbox]{margin:0;margin-left:4px;margin-right:4px}
.celltoolbar .ui-button{border:none;vertical-align:top;height:20px;min-width:30px}
.completions{position:absolute;z-index:10;overflow:hidden;border:1px solid #ababab;border-radius:4px;-webkit-box-shadow:0 6px 10px -1px #adadad;-moz-box-shadow:0 6px 10px -1px #adadad;box-shadow:0 6px 10px -1px #adadad}
.completions select{background:#fff;outline:none;border:none;padding:0;margin:0;overflow:auto;font-family:monospace;font-size:110%;color:#000;width:auto}
.completions select option.context{color:#0064cd}
#menubar .navbar-inner{min-height:28px;border-top:1px;border-radius:0 0 4px 4px}
#menubar .navbar{margin-bottom:8px}
.nav-wrapper{border-bottom:1px solid #d4d4d4}
#menubar li.dropdown{line-height:12px}
i.menu-icon{padding-top:4px}
ul#help_menu li a{overflow:hidden;padding-right:2.2em}ul#help_menu li a i{margin-right:-1.2em}
#notification_area{z-index:10}
.indicator_area{color:#777;padding:4px 3px;margin:0;width:11px;z-index:10;text-align:center}
#kernel_indicator{margin-right:-16px}
.edit_mode_icon:before{font-family:FontAwesome;font-weight:normal;font-style:normal;text-decoration:inherit;-webkit-font-smoothing:antialiased;*margin-right:.3em;content:"\f040"}
.command_mode_icon:before{font-family:FontAwesome;font-weight:normal;font-style:normal;text-decoration:inherit;-webkit-font-smoothing:antialiased;*margin-right:.3em;content:' '}
.kernel_idle_icon:before{font-family:FontAwesome;font-weight:normal;font-style:normal;text-decoration:inherit;-webkit-font-smoothing:antialiased;*margin-right:.3em;content:"\f10c"}
.kernel_busy_icon:before{font-family:FontAwesome;font-weight:normal;font-style:normal;text-decoration:inherit;-webkit-font-smoothing:antialiased;*margin-right:.3em;content:"\f111"}
.notification_widget{color:#777;padding:1px 12px;margin:2px 4px;z-index:10;border:1px solid #ccc;border-radius:4px;background:rgba(240,240,240,0.5)}.notification_widget.span{padding-right:2px}
div#pager_splitter{height:8px}
#pager-container{position:relative;padding:15px 0}
div#pager{font-size:14px;line-height:20px;overflow:auto;display:none}div#pager pre{font-size:13px;line-height:1.21429em;color:#000;background-color:#f7f7f7;padding:.4em}
.quickhelp{display:-webkit-box;-webkit-box-orient:horizontal;-webkit-box-align:stretch;display:-moz-box;-moz-box-orient:horizontal;-moz-box-align:stretch;display:box;box-orient:horizontal;box-align:stretch;display:flex;flex-direction:row;align-items:stretch}
.shortcut_key{display:inline-block;width:20ex;text-align:right;font-family:monospace}
.shortcut_descr{display:inline-block;-webkit-box-flex:1;-moz-box-flex:1;box-flex:1;flex:1}
span#save_widget{padding:0 5px;margin-top:12px}
span#checkpoint_status,span#autosave_status{font-size:small}
@media (max-width:767px){span#save_widget{font-size:small} span#checkpoint_status,span#autosave_status{font-size:x-small}}@media (max-width:767px){span#checkpoint_status,span#autosave_status{display:none}}@media (min-width:768px) and (max-width:979px){span#checkpoint_status{display:none} span#autosave_status{font-size:x-small}}.toolbar{padding:0 10px;margin-top:-5px}.toolbar select,.toolbar label{width:auto;height:26px;vertical-align:middle;margin-right:2px;margin-bottom:0;display:inline;font-size:92%;margin-left:.3em;margin-right:.3em;padding:0;padding-top:3px}
.toolbar .btn{padding:2px 8px}
.toolbar .btn-group{margin-top:0}
.toolbar-inner{border:none !important;-webkit-box-shadow:none !important;-moz-box-shadow:none !important;box-shadow:none !important}
#maintoolbar{margin-bottom:0}
@-moz-keyframes fadeOut{from{opacity:1} to{opacity:0}}@-webkit-keyframes fadeOut{from{opacity:1} to{opacity:0}}@-moz-keyframes fadeIn{from{opacity:0} to{opacity:1}}@-webkit-keyframes fadeIn{from{opacity:0} to{opacity:1}}.bigtooltip{overflow:auto;height:200px;-webkit-transition-property:height;-webkit-transition-duration:500ms;-moz-transition-property:height;-moz-transition-duration:500ms;transition-property:height;transition-duration:500ms}
.smalltooltip{-webkit-transition-property:height;-webkit-transition-duration:500ms;-moz-transition-property:height;-moz-transition-duration:500ms;transition-property:height;transition-duration:500ms;text-overflow:ellipsis;overflow:hidden;height:80px}
.tooltipbuttons{position:absolute;padding-right:15px;top:0;right:0}
.tooltiptext{padding-right:30px}
.ipython_tooltip{max-width:700px;-webkit-animation:fadeOut 400ms;-moz-animation:fadeOut 400ms;animation:fadeOut 400ms;-webkit-animation:fadeIn 400ms;-moz-animation:fadeIn 400ms;animation:fadeIn 400ms;vertical-align:middle;background-color:#f7f7f7;overflow:visible;border:#ababab 1px solid;outline:none;padding:3px;margin:0;padding-left:7px;font-family:monospace;min-height:50px;-moz-box-shadow:0 6px 10px -1px #adadad;-webkit-box-shadow:0 6px 10px -1px #adadad;box-shadow:0 6px 10px -1px #adadad;border-radius:4px;position:absolute;z-index:2}.ipython_tooltip a{float:right}
.ipython_tooltip .tooltiptext pre{border:0;-webkit-border-radius:0;-moz-border-radius:0;border-radius:0;font-size:100%;background-color:#f7f7f7}
.pretooltiparrow{left:0;margin:0;top:-16px;width:40px;height:16px;overflow:hidden;position:absolute}
.pretooltiparrow:before{background-color:#f7f7f7;border:1px #ababab solid;z-index:11;content:"";position:absolute;left:15px;top:10px;width:25px;height:25px;-webkit-transform:rotate(45deg);-moz-transform:rotate(45deg);-ms-transform:rotate(45deg);-o-transform:rotate(45deg)}

    </style>
<style type="text/css">
    .highlight .hll { background-color: #ffffcc }
.highlight  { background: #f8f8f8; }
.highlight .c { color: #408080; font-style: italic } /* Comment */
.highlight .err { border: 1px solid #FF0000 } /* Error */
.highlight .k { color: #008000; font-weight: bold } /* Keyword */
.highlight .o { color: #666666 } /* Operator */
.highlight .cm { color: #408080; font-style: italic } /* Comment.Multiline */
.highlight .cp { color: #BC7A00 } /* Comment.Preproc */
.highlight .c1 { color: #408080; font-style: italic } /* Comment.Single */
.highlight .cs { color: #408080; font-style: italic } /* Comment.Special */
.highlight .gd { color: #A00000 } /* Generic.Deleted */
.highlight .ge { font-style: italic } /* Generic.Emph */
.highlight .gr { color: #FF0000 } /* Generic.Error */
.highlight .gh { color: #000080; font-weight: bold } /* Generic.Heading */
.highlight .gi { color: #00A000 } /* Generic.Inserted */
.highlight .go { color: #888888 } /* Generic.Output */
.highlight .gp { color: #000080; font-weight: bold } /* Generic.Prompt */
.highlight .gs { font-weight: bold } /* Generic.Strong */
.highlight .gu { color: #800080; font-weight: bold } /* Generic.Subheading */
.highlight .gt { color: #0044DD } /* Generic.Traceback */
.highlight .kc { color: #008000; font-weight: bold } /* Keyword.Constant */
.highlight .kd { color: #008000; font-weight: bold } /* Keyword.Declaration */
.highlight .kn { color: #008000; font-weight: bold } /* Keyword.Namespace */
.highlight .kp { color: #008000 } /* Keyword.Pseudo */
.highlight .kr { color: #008000; font-weight: bold } /* Keyword.Reserved */
.highlight .kt { color: #B00040 } /* Keyword.Type */
.highlight .m { color: #666666 } /* Literal.Number */
.highlight .s { color: #BA2121 } /* Literal.String */
.highlight .na { color: #7D9029 } /* Name.Attribute */
.highlight .nb { color: #008000 } /* Name.Builtin */
.highlight .nc { color: #0000FF; font-weight: bold } /* Name.Class */
.highlight .no { color: #880000 } /* Name.Constant */
.highlight .nd { color: #AA22FF } /* Name.Decorator */
.highlight .ni { color: #999999; font-weight: bold } /* Name.Entity */
.highlight .ne { color: #D2413A; font-weight: bold } /* Name.Exception */
.highlight .nf { color: #0000FF } /* Name.Function */
.highlight .nl { color: #A0A000 } /* Name.Label */
.highlight .nn { color: #0000FF; font-weight: bold } /* Name.Namespace */
.highlight .nt { color: #008000; font-weight: bold } /* Name.Tag */
.highlight .nv { color: #19177C } /* Name.Variable */
.highlight .ow { color: #AA22FF; font-weight: bold } /* Operator.Word */
.highlight .w { color: #bbbbbb } /* Text.Whitespace */
.highlight .mf { color: #666666 } /* Literal.Number.Float */
.highlight .mh { color: #666666 } /* Literal.Number.Hex */
.highlight .mi { color: #666666 } /* Literal.Number.Integer */
.highlight .mo { color: #666666 } /* Literal.Number.Oct */
.highlight .sb { color: #BA2121 } /* Literal.String.Backtick */
.highlight .sc { color: #BA2121 } /* Literal.String.Char */
.highlight .sd { color: #BA2121; font-style: italic } /* Literal.String.Doc */
.highlight .s2 { color: #BA2121 } /* Literal.String.Double */
.highlight .se { color: #BB6622; font-weight: bold } /* Literal.String.Escape */
.highlight .sh { color: #BA2121 } /* Literal.String.Heredoc */
.highlight .si { color: #BB6688; font-weight: bold } /* Literal.String.Interpol */
.highlight .sx { color: #008000 } /* Literal.String.Other */
.highlight .sr { color: #BB6688 } /* Literal.String.Regex */
.highlight .s1 { color: #BA2121 } /* Literal.String.Single */
.highlight .ss { color: #19177C } /* Literal.String.Symbol */
.highlight .bp { color: #008000 } /* Name.Builtin.Pseudo */
.highlight .vc { color: #19177C } /* Name.Variable.Class */
.highlight .vg { color: #19177C } /* Name.Variable.Global */
.highlight .vi { color: #19177C } /* Name.Variable.Instance */
.highlight .il { color: #666666 } /* Literal.Number.Integer.Long */
    </style>


<style type="text/css">
/* Overrides of notebook CSS for static HTML export */
body {
  overflow: visible;
  padding: 8px;
}

div#notebook {
  overflow: visible;
  border-top: none;
}

@media print {
  div.cell {
    display: block;
    page-break-inside: avoid;
  } 
  div.output_wrapper { 
    display: block;
    page-break-inside: avoid; 
  }
  div.output { 
    display: block;
    page-break-inside: avoid; 
  }
}
</style>

<!-- Custom stylesheet, it must be in the same directory as the html file -->
<link rel="stylesheet" href="custom.css">

<!-- Loading mathjax macro -->
<!-- Load mathjax -->
    <script src="https://c328740.ssl.cf1.rackcdn.com/mathjax/latest/MathJax.js?config=TeX-AMS_HTML"></script>
    <!-- MathJax configuration -->
    <script type="text/x-mathjax-config">
    MathJax.Hub.Config({
        tex2jax: {
            inlineMath: [ ['$','$'], ["\\(","\\)"] ],
            displayMath: [ ['$$','$$'], ["\\[","\\]"] ],
            processEscapes: true,
            processEnvironments: true
        },
        // Center justify equations in code and markdown cells. Elsewhere
        // we use CSS to left justify single line equations in code cells.
        displayAlign: 'center',
        "HTML-CSS": {
            styles: {'.MathJax_Display': {"margin": 0}},
            linebreaks: { automatic: true }
        }
    });
    </script>
    <!-- End of mathjax configuration -->

</head>
<body>
  <div tabindex="-1" id="notebook" class="border-box-sizing">
    <div class="container" id="notebook-container">

<div class="cell border-box-sizing text_cell rendered">
<div class="prompt input_prompt">
</div>
<div class="inner_cell">
<div class="text_cell_render border-box-sizing rendered_html">
<h1 id="Star-annd-planet-formation---Problem-set-1">Star annd planet formation - Problem set 1<a class="anchor-link" href="#Star-annd-planet-formation---Problem-set-1">&#182;</a></h1>
</div>
</div>
</div>

<div class="cell border-box-sizing text_cell rendered">
<div class="prompt input_prompt">
</div>
<div class="inner_cell">
<div class="text_cell_render border-box-sizing rendered_html">
<p>Simon Karlsson</p>
<p>E-mail: skrotupplag@hotmail.com</p>
<p>Date: 140508</p>
</div>
</div>
</div>
<div class="cell border-box-sizing code_cell rendered">
<div class="input">
<div class="prompt input_prompt">
In&nbsp;[93]:
</div>
<div class="inner_cell">
    <div class="input_area">
<div class="highlight"><pre><span class="kn">from</span> <span class="nn">__future__</span> <span class="kn">import</span> <span class="n">division</span>
<span class="kn">from</span> <span class="nn">astropy</span> <span class="kn">import</span> <span class="n">constants</span> <span class="k">as</span> <span class="n">con</span>
<span class="kn">import</span> <span class="nn">scipy</span> <span class="kn">as</span> <span class="nn">sp</span>
<span class="kn">import</span> <span class="nn">matplotlib.pyplot</span> <span class="kn">as</span> <span class="nn">plt</span>
<span class="kn">from</span> <span class="nn">scipy.integrate</span> <span class="kn">import</span> <span class="n">odeint</span>
<span class="kn">import</span> <span class="nn">numpy</span> <span class="kn">as</span> <span class="nn">np</span>
<span class="kn">from</span> <span class="nn">astropy</span> <span class="kn">import</span> <span class="n">units</span> <span class="k">as</span> <span class="n">u</span>
<span class="kn">from</span> <span class="nn">IPython.display</span> <span class="kn">import</span> <span class="n">Image</span>
</pre></div>

</div>
</div>
</div>

</div>
<div class="cell border-box-sizing text_cell rendered">
<div class="prompt input_prompt">
</div>
<div class="inner_cell">
<div class="text_cell_render border-box-sizing rendered_html">
<h2 id="1.-Observational-characteristics-of-interstellar-clouds">1. Observational characteristics of interstellar clouds<a class="anchor-link" href="#1.-Observational-characteristics-of-interstellar-clouds">&#182;</a></h2>
</div>
</div>
</div>

<div class="cell border-box-sizing text_cell rendered">
<div class="prompt input_prompt">
</div>
<div class="inner_cell">
<div class="text_cell_render border-box-sizing rendered_html">
<p><strong>Q:</strong></p>
<p>Describe briefly how to empirically determine...</p>
<ul>
<li><ol style="list-style-type: lower-alpha">
<li>...the distance <span class="math">\(D\)</span> to a cloud.</li>
</ol></li>
<li><ol start="2" style="list-style-type: lower-alpha">
<li>...the mass <span class="math">\(M\)</span> of a cloud.</li>
</ol></li>
<li><ol start="3" style="list-style-type: lower-alpha">
<li>...the extinction <span class="math">\(A_V\)</span> of a cloud.</li>
</ol></li>
<li><ol start="4" style="list-style-type: lower-alpha">
<li>...the pressure <span class="math">\(P\)</span> of a cloud.</li>
</ol></li>
<li><ol start="5" style="list-style-type: lower-alpha">
<li>...the age <span class="math">\(t\)</span> of a cloud.</li>
</ol></li>
</ul>
</div>
</div>
</div>
<div class="cell border-box-sizing text_cell rendered">
<div class="prompt input_prompt">
</div>
<div class="inner_cell">
<div class="text_cell_render border-box-sizing rendered_html">
<p><strong>A:</strong></p>
<p>a)</p>
<p>One way to measure the distance to clouds is by <em>spectroscopic parallax</em>. Spectroscopic parallax works by first taking a spectra of a star and determine its <em>spectral class</em>. Once we know this we can place the star in an HR-diagram and read of an expected absolute magnitude <span class="math">\(M\)</span> for such a star. Then we use photometry to measure the stars apparent magnitude <span class="math">\(m\)</span> and calculate the distance to the star from the <em>distance modulus</em></p>
<p><span class="math">\[
m-M = 5 \log(\frac{d}{10}) +A
\]</span></p>
<p>with the assumption that we know the extinction <span class="math">\(A\)</span>. Here we of course assume that the stars in question are located in the cloud complex. This technique is not very precise, but the accuracy can be increased by measuring many stars in the cloud.</p>
</div>
</div>
</div>
<div class="cell border-box-sizing text_cell rendered">
<div class="prompt input_prompt">
</div>
<div class="inner_cell">
<div class="text_cell_render border-box-sizing rendered_html">
<p>b)</p>
<p>In the context of giant molecular clouds we can picture the structure of these clouds as consisting of individual dark core clumps moving in random directions as a consequence of the gravitational field by the whole structure. The <em>virial velocity</em>---the velocity of a gas parcel that traverses the cloud in the free fall time <span class="math">\(\tau_{ff}\)</span>---can then be used to calculate the mass of the whole structure. It is defined as</p>
<p><span class="math">\[
V_{vir} = \left(\frac{GM}{R}\right)^{1/2}
\]</span></p>
<p>where we approximate the spacial structure as a sphere with radius <span class="math">\(R\)</span>. It can be shown that the velocity dispersion <span class="math">\(\Delta V\)</span> in the cloud is roughly equal to <span class="math">\(V_{vir}\)</span>. If we measure the velocity dispersion from spectral line broadening (typically CO-lines) and combine it with estimates of <span class="math">\(R\)</span> we can then calculate the mass <span class="math">\(M\)</span> of the cloud.</p>
</div>
</div>
</div>
<div class="cell border-box-sizing text_cell rendered">
<div class="prompt input_prompt">
</div>
<div class="inner_cell">
<div class="text_cell_render border-box-sizing rendered_html">
<p>Another way to estimate the mass of clouds is by estimating the number densities in clouds. It can be done from the empirical relationships</p>
<p><span class="math">\[
N_{CO}^{13} = 2.5 \cdot 10^{15} A_V 
\]</span></p>
<p><span class="math">\[
N_H = 7.5 \cdot 10^5 N_{CO}
\]</span></p>
<p>where <span class="math">\(N_{CO}^{13}\)</span> is the column density of <span class="math">\(^{13}C ^{16}O\)</span> and <span class="math">\(A_V\)</span> is the extinction in the V-band. By estimating <span class="math">\(A_V\)</span> we can then estimate the column density of neutral hydrogen <span class="math">\(N_H\)</span>. Once we have the column density we can derive the number density from spacial information of the cloud. The estimation of <span class="math">\(A_V\)</span> is explained in c).</p>
</div>
</div>
</div>
<div class="cell border-box-sizing text_cell rendered">
<div class="prompt input_prompt">
</div>
<div class="inner_cell">
<div class="text_cell_render border-box-sizing rendered_html">
<p>c)</p>
<p>To determine the extinction of a cloud we imagine a cloud contained in a solid angle <span class="math">\(\Omega_c\)</span> and between the two distances <span class="math">\(r_1\)</span> and <span class="math">\(r_2\)</span> as seen in the figure below. If the cloud is not too opaque we may estimate <span class="math">\(A_V\)</span> from the obscuration of background stars. If the cloud itself is the only source of extinction, the stars that are at a distance <span class="math">\(r &gt; r_2\)</span> will have a higher magnitude by <span class="math">\(A_V\)</span>. From the distance modulus the distance to the stars increases with <span class="math">\(m_V\)</span> as</p>
<p><span class="math">\[
\Delta \log r = 0.2 \Delta m_V.
\]</span></p>
<p>However this relation only holds for the unobscured stars in front of the cloud and if we make a plot of the apparent magnitude versus the number of stars, we see a shift from the expected linear curve as can be seen in the plot below. <span class="math">\(A_V\)</span> can then be directly determined from such a plot.</p>
</div>
</div>
</div>
<div class="cell border-box-sizing code_cell rendered">
<div class="input">
<div class="prompt input_prompt">
In&nbsp;[94]:
</div>
<div class="inner_cell">
    <div class="input_area">
<div class="highlight"><pre><span class="n">Image</span><span class="p">(</span><span class="s">&#39;AvEstimate.png&#39;</span><span class="p">)</span>
</pre></div>

</div>
</div>
</div>

<div class="output_wrapper">
<div class="output">


<div class="output_area"><div class="prompt output_prompt">
    Out[94]:</div>


<div class="output_png output_subarea output_pyout">
<img src="data:image/png;base64,iVBORw0KGgoAAAANSUhEUgAAAo0AAAHOCAIAAABy66RFAAAAA3NCSVQICAjb4U/gAAAACXBIWXMA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"
>
</div>

</div>

</div>
</div>

</div>
<div class="cell border-box-sizing text_cell rendered">
<div class="prompt input_prompt">
</div>
<div class="inner_cell">
<div class="text_cell_render border-box-sizing rendered_html">
<p>d)</p>
<p>The pressure of a cloud can be estimated from temperature measurements. If we for example assume an equation of state for the cloud as <span class="math">\(P = \rho c_S^2\)</span> and <span class="math">\(c_S = \sqrt{\mathcal{R} T / \mu}\)</span> where <span class="math">\(P\)</span> is the pressure, <span class="math">\(c_S\)</span> is the sound speed of the gas, <span class="math">\(\rho\)</span> is the density, <span class="math">\(\mathcal{R}\)</span> is the gas constant, <span class="math">\(\mu\)</span> is the mean molecular weight and <span class="math">\(T\)</span> is the temperature, then we can estimate the pressure from the temperature assuming we have knowledge about the density and mean molecular weight. The temperature can for example be estimated from CO-lines.</p>
</div>
</div>
</div>
<div class="cell border-box-sizing text_cell rendered">
<div class="prompt input_prompt">
</div>
<div class="inner_cell">
<div class="text_cell_render border-box-sizing rendered_html">
<p>e)</p>
<p>We can estimate the age of a cloud if we assume that all the stars in in the cloud formed at the same time and from the same cloud. Then they should all have similar properties except from their masses. If they have a range in masses we should see a large spread of stars along the main sequence. As the star ages, the higher mass stars burn out their hydrogen faster than the lower mass stars and we can therefore expect to see the main sequence of stars to become shorter over time. If you can find out exactly what type of star is just leaving the main sequence to become a red giant and you know from stellar models the expected age of such a star, then the age of the cloud should be roughly the same as that star since all stars formed simultaneously.</p>
</div>
</div>
</div>
<div class="cell border-box-sizing text_cell rendered">
<div class="prompt input_prompt">
</div>
<div class="inner_cell">
<div class="text_cell_render border-box-sizing rendered_html">
<h2 id="2.-Stability-of-an-Isothermal-cloud">2. Stability of an Isothermal cloud<a class="anchor-link" href="#2.-Stability-of-an-Isothermal-cloud">&#182;</a></h2>
</div>
</div>
</div>

<div class="cell border-box-sizing text_cell rendered">
<div class="prompt input_prompt">
</div>
<div class="inner_cell">
<div class="text_cell_render border-box-sizing rendered_html">
<p><strong>Q:</strong></p>
<p>A spherically symmetric isothermal cloud satisfies the isothermal Lane-Emden equation</p>
<p><span class="math">\[
\frac{1}{\xi^2} \frac{d}{d\xi} \left(\xi^2 \frac{d \psi}{d\xi} \right) = \exp (-\psi)
\]</span></p>
<p>(equation 9.7 in Stahler &amp; Palla), where</p>
<p><span class="math">\[
\xi = r \sqrt{\frac{4\pi G \rho_c}{c_s^2}}
\]</span></p>
<p><span class="math">\(\psi = \Phi / c_s^2\)</span> , <span class="math">\(c_s = \sqrt{RT /\mu}\)</span> is the sound speed, <span class="math">\(\Phi\)</span> is the gravitational potential, <span class="math">\(G = 6.67 \cdot 10^{−11}\)</span> m<span class="math">\(^3\)</span> kg<span class="math">\(^{−1}\)</span> s<span class="math">\(^{−2}\)</span> is the gravitational constant, <span class="math">\(R = 8.31 \cdot 10^7\)</span> erg g<span class="math">\(^{−1}\)</span> K<span class="math">\(^{−1}\)</span> is the gas constant, <span class="math">\(\mu\)</span> is the mean molecular weight, <span class="math">\(T\)</span> is the gas temperature, and <span class="math">\(\rho_c\)</span> is the central density.</p>
<p>Let <span class="math">\(\mu = 2\)</span>, <span class="math">\(T = 25\)</span> K, <span class="math">\(\rho_c = 7.5\cdot 10^{−20}\)</span> g cm<span class="math">\(^{−3}\)</span> and assume the equation of state <span class="math">\(P = \rho c_s^2\)</span> , where <span class="math">\(P\)</span> is the pressure and <span class="math">\(\rho\)</span> the density. Assume an external pressure of <span class="math">\(P_{\text{ext}} = 8.0 \cdot 10^{−13}\)</span> Pa from the interstellar medium is being applied on the sphere.</p>
<ol style="list-style-type: lower-alpha">
<li><p>What is the sound speed?</p></li>
<li><p>What is the mass of the sphere? You may use Figs. 1 &amp; 2 to read out values derived from the solution of the differential equation.</p></li>
<li><p>Imagine that the external pressure starts to rise. How high can it rise before the sphere becomes unstable?</p></li>
<li><p>Assume instead that the clouds starts to (isothermally) cool. How much can it cool before the sphere becomes unstable?</p></li>
<li><p>Solve the isothermal Lane-Emden equation numerically, and reproduce Figs. 1 &amp; 2. To solve the differential equation, show that it is equivalent to solve the non-linear system of ordinary first-order differential equations</p></li>
</ol>
<p><span class="math">\[
y&#39;_0 = y_1
\]</span></p>
<p><span class="math">\[
y&#39;_1 = \exp(-y_0) - \frac{2}{\xi} y_1
\]</span></p>
<p>where the prime signifies derivation with respect to <span class="math">\(\xi\)</span> , <span class="math">\(y_0 = \psi \)</span>, and the initial condition is <span class="math">\(y_0 = y_1 = 0\)</span>. This may then be solved by e.g. Euler’s method, i.e. start from the initial condition, and iteratively compute</p>
<p><span class="math">\[
y_i(\xi_{n+1}) = y_i(\xi_n) + y&#39;_i\left[\xi_n , y_1(\xi_n), y_2(\xi_n)\right]\Delta \xi_n
\]</span></p>
<p>where <span class="math">\(\Delta \xi_n = \xi_{n+1} − \xi_n\)</span> is the length step and <span class="math">\(i \in \lbrace 1, 2\rbrace\)</span>. Check that the solution converges as <span class="math">\(\Delta \xi \rightarrow 0\)</span> <span class="math">\((\forall n)\)</span>. You are of course welcome to solve the differential equation by other means (e.g. by using Mathematica, Maple, or MATLAB).</p>
</div>
</div>
</div>
<div class="cell border-box-sizing text_cell rendered">
<div class="prompt input_prompt">
</div>
<div class="inner_cell">
<div class="text_cell_render border-box-sizing rendered_html">
<p><strong>A:</strong></p>
<p>a)</p>
<p>The sound speed is defined as <span class="math">\(c_s = \sqrt{RT /\mu}\)</span>. I make a small calculation below with given constants</p>
</div>
</div>
</div>
<div class="cell border-box-sizing code_cell rendered">
<div class="input">
<div class="prompt input_prompt">
In&nbsp;[95]:
</div>
<div class="inner_cell">
    <div class="input_area">
<div class="highlight"><pre><span class="n">mu</span> <span class="o">=</span> <span class="mi">2</span>
<span class="n">T</span> <span class="o">=</span> <span class="mi">25</span><span class="o">*</span><span class="n">u</span><span class="o">.</span><span class="n">Kelvin</span>
<span class="n">R</span> <span class="o">=</span> <span class="mf">8.31</span><span class="o">*</span><span class="mi">10</span><span class="o">**</span><span class="mi">7</span> <span class="o">*</span><span class="p">(</span><span class="n">u</span><span class="o">.</span><span class="n">erg</span><span class="o">*</span><span class="n">u</span><span class="o">.</span><span class="n">gram</span><span class="o">**-</span><span class="mi">1</span> <span class="o">*</span><span class="n">u</span><span class="o">.</span><span class="n">Kelvin</span><span class="o">**-</span><span class="mi">1</span><span class="p">)</span>

<span class="n">cs</span> <span class="o">=</span> <span class="n">np</span><span class="o">.</span><span class="n">sqrt</span><span class="p">(</span><span class="n">R</span><span class="o">*</span><span class="n">T</span><span class="o">/</span><span class="n">mu</span><span class="p">)</span>
<span class="n">cs</span>
</pre></div>

</div>
</div>
</div>

<div class="output_wrapper">
<div class="output">


<div class="output_area"><div class="prompt output_prompt">
    Out[95]:</div>


<div class="output_latex output_subarea output_pyout">
$32229.6 \; \mathrm{\frac{erg^{1/2}}{g^{1/2}}}$
</div>

</div>

</div>
</div>

</div>
<div class="cell border-box-sizing text_cell rendered">
<div class="prompt input_prompt">
</div>
<div class="inner_cell">
<div class="text_cell_render border-box-sizing rendered_html">
<p>Lets turn it into SI units</p>
</div>
</div>
</div>
<div class="cell border-box-sizing code_cell rendered">
<div class="input">
<div class="prompt input_prompt">
In&nbsp;[96]:
</div>
<div class="inner_cell">
    <div class="input_area">
<div class="highlight"><pre><span class="n">cs</span><span class="o">.</span><span class="n">decompose</span><span class="p">()</span>
</pre></div>

</div>
</div>
</div>

<div class="output_wrapper">
<div class="output">


<div class="output_area"><div class="prompt output_prompt">
    Out[96]:</div>


<div class="output_latex output_subarea output_pyout">
$322.296 \; \mathrm{\frac{m}{s}}$
</div>

</div>

</div>
</div>

</div>
<div class="cell border-box-sizing text_cell rendered">
<div class="prompt input_prompt">
</div>
<div class="inner_cell">
<div class="text_cell_render border-box-sizing rendered_html">
<p>Before moving on to the next questions i choose to solve the differential equation right away; reproducing plots 1 and 2.</p>
</div>
</div>
</div>
<div class="cell border-box-sizing text_cell rendered">
<div class="prompt input_prompt">
</div>
<div class="inner_cell">
<div class="text_cell_render border-box-sizing rendered_html">
<ol start="5" style="list-style-type: lower-alpha">
<li>and b)</li>
</ol>
<p>To solve the differential equation I use a ODE solver in scipy.</p>
</div>
</div>
</div>
<div class="cell border-box-sizing code_cell rendered">
<div class="input">
<div class="prompt input_prompt">
In&nbsp;[97]:
</div>
<div class="inner_cell">
    <div class="input_area">
<div class="highlight"><pre><span class="o">%</span><span class="k">matplotlib</span> <span class="n">inline</span>
<span class="kn">from</span> <span class="nn">__future__</span> <span class="kn">import</span> <span class="n">division</span>
<span class="kn">from</span> <span class="nn">scipy</span> <span class="kn">import</span> <span class="n">integrate</span>

<span class="n">P_ext</span> <span class="o">=</span> <span class="mi">8</span><span class="o">*</span><span class="mi">10</span><span class="o">**-</span><span class="mi">12</span>		<span class="c"># -13 in Pa, -12 in cgs units (bary &#39;barr-ee&#39;)</span>
<span class="n">rho_ext</span> <span class="o">=</span> <span class="n">P_ext</span><span class="o">/</span><span class="p">(</span><span class="n">cs</span><span class="o">.</span><span class="n">value</span><span class="o">**</span><span class="mi">2</span><span class="p">)</span>		<span class="c">#7.7*10^-22 g cm^-3</span>
<span class="n">rho_c</span> <span class="o">=</span> <span class="mf">7.5</span><span class="o">*</span><span class="mi">10</span><span class="o">**-</span><span class="mi">20</span>
<span class="n">rho_ratio</span> <span class="o">=</span> <span class="n">rho_ext</span><span class="o">/</span><span class="n">rho_c</span>	<span class="c">#0.1</span>
<span class="n">psi_ext</span> <span class="o">=</span> <span class="o">-</span><span class="n">sp</span><span class="o">.</span><span class="n">log</span><span class="p">(</span><span class="n">P_ext</span><span class="o">/</span><span class="p">(</span><span class="n">rho_c</span><span class="o">*</span><span class="n">cs</span><span class="o">.</span><span class="n">value</span><span class="o">**</span><span class="mi">2</span><span class="p">))</span>


<span class="k">def</span> <span class="nf">f</span><span class="p">(</span><span class="n">y</span><span class="p">,</span> <span class="n">t</span><span class="p">):</span>
    <span class="n">y0</span> <span class="o">=</span> <span class="n">y</span><span class="p">[</span><span class="mi">0</span><span class="p">]</span>
    <span class="n">y1</span> <span class="o">=</span> <span class="n">y</span><span class="p">[</span><span class="mi">1</span><span class="p">]</span>

    <span class="n">f0</span> <span class="o">=</span> <span class="n">y1</span>
    <span class="n">f1</span> <span class="o">=</span> <span class="n">sp</span><span class="o">.</span><span class="n">exp</span><span class="p">(</span><span class="o">-</span><span class="n">y0</span><span class="p">)</span> <span class="o">-</span> <span class="p">(</span><span class="mi">2</span><span class="o">/</span><span class="n">t</span><span class="p">)</span><span class="o">*</span><span class="n">y1</span>
    <span class="k">return</span> <span class="p">[</span><span class="n">f0</span><span class="p">,</span> <span class="n">f1</span><span class="p">]</span>

<span class="n">y_init</span> <span class="o">=</span> <span class="p">[</span><span class="mi">0</span><span class="p">,</span> <span class="mi">0</span><span class="p">]</span>         <span class="c">#create a list with initial conditions</span>
<span class="n">t</span> <span class="o">=</span> <span class="n">sp</span><span class="o">.</span><span class="n">linspace</span><span class="p">(</span><span class="mf">0.0001</span><span class="p">,</span> <span class="mi">6</span><span class="p">,</span> <span class="mi">5000</span><span class="p">)</span>         <span class="c">#create a list with equidistant integration &quot;steps&quot; (start,stop, nr of steps)</span>

<span class="c">#Python ODE solver. Takes the function f, inital conditions y_init and steps t as input</span>
<span class="n">solu</span> <span class="o">=</span> <span class="n">sp</span><span class="o">.</span><span class="n">integrate</span><span class="o">.</span><span class="n">odeint</span><span class="p">(</span><span class="n">f</span><span class="p">,</span> <span class="n">y_init</span><span class="p">,</span> <span class="n">t</span><span class="p">)</span>
<span class="n">psi</span> <span class="o">=</span> <span class="n">solu</span><span class="p">[:,</span><span class="mi">0</span><span class="p">]</span>          <span class="c">#saves the psi values in list psi</span>
<span class="n">psi_diff</span> <span class="o">=</span> <span class="n">solu</span><span class="p">[:,</span><span class="mi">1</span><span class="p">]</span>     <span class="c">#saves the derivative of psi in list psi_diff</span>


<span class="n">rho_frac</span> <span class="o">=</span> <span class="n">sp</span><span class="o">.</span><span class="n">exp</span><span class="p">(</span><span class="o">-</span><span class="n">psi</span><span class="p">)</span>     <span class="c">#calculates the fraction rho/rho_c</span>

<span class="n">xi_ext_index_list</span> <span class="o">=</span> <span class="n">sp</span><span class="o">.</span><span class="n">where</span><span class="p">(</span><span class="n">rho_frac</span> <span class="o">&lt;</span> <span class="n">rho_ratio</span><span class="p">)</span>     <span class="c">#selects the indexes from the list of rho/rho_c values that are &lt; rho_ratio </span>
<span class="n">xi_ext_index</span> <span class="o">=</span> <span class="n">xi_ext_index_list</span><span class="p">[</span><span class="mi">0</span><span class="p">][</span><span class="mi">0</span><span class="p">]</span>         <span class="c">#select first element in list.</span>
<span class="n">xi_ext</span> <span class="o">=</span> <span class="n">t</span><span class="p">[</span><span class="n">xi_ext_index</span><span class="p">]</span>         <span class="c">#uses the selected index to pick out the radius where the bonnor-evert sphere ends </span>

<span class="c"># plot the results</span>
<span class="n">font</span> <span class="o">=</span> <span class="p">{</span><span class="s">&#39;family&#39;</span> <span class="p">:</span> <span class="s">&#39;ubuntu&#39;</span><span class="p">,</span>
        <span class="s">&#39;size&#39;</span>   <span class="p">:</span> <span class="mi">13</span><span class="p">}</span>

<span class="n">plt</span><span class="o">.</span><span class="n">rc</span><span class="p">(</span><span class="s">&#39;font&#39;</span><span class="p">,</span> <span class="o">**</span><span class="n">font</span><span class="p">)</span>
<span class="n">plt</span><span class="o">.</span><span class="n">figure</span><span class="p">(</span><span class="mi">1</span><span class="p">)</span>
<span class="n">plt</span><span class="o">.</span><span class="n">plot</span><span class="p">(</span><span class="n">t</span><span class="p">,</span> <span class="n">psi</span><span class="p">,</span> <span class="n">color</span><span class="o">=</span><span class="s">&#39;blue&#39;</span><span class="p">,</span> <span class="n">linewidth</span> <span class="o">=</span> <span class="mi">2</span><span class="p">,</span> <span class="n">label</span><span class="o">=</span><span class="s">&#39;$\psi$&#39;</span><span class="p">)</span>
<span class="n">plt</span><span class="o">.</span><span class="n">plot</span><span class="p">(</span><span class="n">t</span><span class="p">,</span> <span class="n">rho_frac</span><span class="p">,</span> <span class="n">color</span><span class="o">=</span><span class="s">&#39;red&#39;</span><span class="p">,</span> <span class="n">linewidth</span> <span class="o">=</span> <span class="mi">2</span><span class="p">,</span><span class="n">label</span><span class="o">=</span><span class="s">&#39;$</span><span class="se">\\</span><span class="s">rho$/$</span><span class="se">\\</span><span class="s">rho_c$&#39;</span><span class="p">)</span>
<span class="n">plt</span><span class="o">.</span><span class="n">xlabel</span><span class="p">(</span><span class="s">&#39;Nondimentsional radius $</span><span class="se">\\</span><span class="s">xi$&#39;</span><span class="p">)</span>
<span class="n">plt</span><span class="o">.</span><span class="n">legend</span><span class="p">()</span>
<span class="n">plt</span><span class="o">.</span><span class="n">show</span><span class="p">()</span>
</pre></div>

</div>
</div>
</div>

<div class="output_wrapper">
<div class="output">


<div class="output_area"><div class="prompt"></div>


<div class="output_png output_subarea ">
<img src="data:image/png;base64,iVBORw0KGgoAAAANSUhEUgAAAXUAAAEaCAYAAADuX8dHAAAABHNCSVQICAgIfAhkiAAAAAlwSFlz
AAALEgAACxIB0t1+/AAAIABJREFUeJzt3XlcVOX+B/DPGTZHRAHFXcEFBcVSQ1PBK5SSS6ZlGZa2
e+uamXmt7Na9qXUzventp6JpabmVqWVZbliKAmpquKZXUTEVFFNAFhEEnt8f3wZEtgEGDsx83q/X
ecHMnJn5zlE+HJ7zLJpSSoGIiKyCQe8CiIjIchjqRERWhKFORGRFGOpERFaEoU5EZEUY6kREVoSh
TkRkRcwK9fnz56NDhw4wGo3w8fHB3Llzi+wTGxsLg8FQaAsODrZ4wUREVDL7snbYvXs3Xn31VbRp
0wZBQUHYuXMnJk6cCF9fXwwYMCB/v4yMDACAn58f/Pz8AACdOnWqorKJiKg4ZYZ6nz598NNPPyEo
KAiapmHKlCmYNWsWjh07VijUU1NTAQDPPPMMJk2aVHUVExFRicoMdQD5zSg3b95EeHg4NE1D3759
C+2TkJAAAFi7di0uXbqEwYMHs/mFiKi6KTPduHFDhYSEKE3T1GuvvVbk8e+++04FBQUpb29vpWma
0jRNvfXWW0X2a9eunQLAjRs3btzKsbVr186srDYr1DMyMlRgYKDSNE299NJLZe4fExOjHBwclJOT
k8rJySn8hjD790it9O677+pdQpXi56u9rPmzKWX9n8/c7DSr98u4ceMQHR2N8ePHY+HChfn3Jycn
Iz09vcj+vr6+cHFxQU5ODjIzM815CyIiKkZmJjBlivn7l9mmnpiYiOXLl0PTNCQmJiI0NBSABPfM
mTPh4uKCuLg4DBkyBHZ2dnB3d0dMTAySk5MxcOBA1KtXr8IfhojIlu3YAYwdC5w5Y/5zygz106dP
53+/du1aAICmaejQoQMaN24MNzc32Nvbw9XVFdHR0bh+/TpatWqF8ePHY/r06eX/FLVcUFCQ3iVU
KX6+2suaPxtgXZ/v+nXgjTeAxYvldufOwG+/mfdc7c+2mmqjaRqq+S2JiGqNH34AXnoJSEgAHByA
f/4TePNNwMnJvOw0q0sjERFVrT/+AF59FfjqK7ndqxewZAlQ3jGcnPuFiEhHSgFffgn4+kqg160L
fPwxEBVV/kAHeKZOROXk7u6O5ORkvcuwOvb2brj//iQsXgy0bVvx12GbOhGVC3+Gq4amacjLU9C0
kh8357iz+YWIqIYoKdDLg6FORGRFGOpERFaEoU5EZEUY6kREVoShTkRkRRjqRERWhKFORFSMefPm
6V1ChTDUiYjucOzYMfj4+OhdRoUw1ImI7rBnzx706dNH7zIqhKFORHSH9PR0ODs7611GhXBCLyKq
EpYY8l4aS00/s3jxYiQkJAAApk6dCkDmWQGAjz76CNHR0Vi/fr1l3qwa8EydiGzW/v370axZM/Tp
0wffffcdAODUqVPo2LEjAOAvf/kLzp49q2eJ5cZQJ6IqoVTVbpaQlZWFBx98EGvWrMHgwYMBALt3
70ZgYCAAoGfPnhg4cKBl3qyasPmFiGxWYGAgsrKysG7dOkRFRQEAUlNT4eLiAgBISkpCjx499Cyx
3HimTkQ27bfffoNSCn5+fgAK2tMBYOXKlXjooYf0Kq1CeKZORDatSZMmsLOzQ3Z2Ni5dugQvLy8A
wPz583HffffB0dFR3wLLiSsfEVG5WOPP8Pr16xEVFQU7Ozu0aNECeXl5GDZsGNpWZl25cirruJp7
3BnqRFQu1vwz/PHHH2PixIm6vLelQp1t6kREf8rNzdW7hEpjqBMRATh79izat2+vdxmVxuYXIioX
/gxXDTa/EBFREQx1IiIrwlAnIrIiDHUiIivCUCcisiIMdSIiK8JQJyKyIgx1IiIrwlAnIrIiZYb6
/Pnz0aFDBxiNRvj4+GDu3LnF7vfJJ5+gdevWMBqNGDx4MOLj4y1eLBERla7UaQJ2796Nvn37ok2b
NvD29sbOnTtx8+ZNbN26FQMGDMjfb8OGDRg+fDg8PDzQoUMHREdHIyAgAJGRkUXfkEOMiWo1/gxX
jWqZJqBPnz746aefEBsbi82bN2PChAkAgGPHjhXaz3T2vnLlSkRGRqJXr16Ijo7GgQMHyiyAiKi2
2LBhAwwGAxwdHZGSkqJ3OcUqs/klODgYmqbh5s2bCA8Ph6Zp6Nu3b6F9YmJioGla/mKtAQEBAIqG
PxFRbbZu3ToAwH333QdXV1edqymeWcvZZWZmYvjw4Th06BAmTpwIf3//Qo+npaVB0zQYjUYAQIMG
DQAAV65cKfb1pk6dmv99UFAQgoKCKlA6EVH1yc7Oxg8//AAAGDFiRJW/X0REBCIiIsr/RFWGjIwM
FRgYqDRNUy+99FKx+7Rs2VIZDAZ148YNpZRSkydPVpqmqc8//7zIvma8JRHVYLb6M7xx40alaZqy
t7dXf/zxh8Vfv6zjau5xL7P5Zdy4cYiOjsb48eOxcOHC/PuTk5ORkZEBAOjSpQuUUvkXRqOiovLv
JyKyBqaml759+6JRo0Y6V1OyUnu/JCYmolmzZtA0DY8++ig0TQMA+Pr6YubMmXBxcUFcXBwiIyMx
aNAgNGrUCN7e3tizZw97vxBZKVv8Gc7JyUGTJk2QnJyM+fPnY9y4cRZ/j2pZeDo6Ohp9+/Yt9GKa
pqFDhw7IzMyEm5sb9u3bBwcHB4SFheHDDz/EtWvXEBwcjMWLF6NFixYVLoyIaiazf4b/PAmsMhbO
kUuXLuHjjz+Gp6cn9u3bhzfffBO+vr4AgPDwcAwcOBAGgwEXL15E06ZNzXpeeVgq1Ku9cUyHtyQi
CzL7Z1hit+o2C7p69arq2rWrOnfunFJKqe+//14FBwfnPz527FilaZoKDAws1/PKo6zjau5xN6v3
CxFRudWiv8jfeecdDB06FJ6engCA3NxcHDlyJP/77777DkDRXi+lPU8vDHUismm3bt3CqlWrsGfP
nvz7fv31V7Rt2xYAsHPnTly9ehWaphUK9bKepxdO6EVENm3v3r1wdnZG586dAQBKKaxbty7/Yqip
14u/vz9atWpl9vP0wjN1IrJpO3bsKDQ69IsvvkCLFi3wzDPPIC8vD+vXrwcAPProo2Y/DwB27dqF
w4cP49KlS/D29sazzz5b9R8GZfR+qZI3ZO8XolrN2n6Gg4OD0bNnT7i5uQGQMThTp06F0WjErl27
EBQUBE3TEBsbW6hppbTnnT17Fs8++yx27tyJ7Oxs2NnZwc7OrtQ6LNX7hWfqRGSzbt68ib1792LJ
kiXFtoWbml7uvvvuQo+X9bylS5dizJgxAABHR8cqqr54bFMnIpu1e/duNGnSpNhgVkrh22+/BVC0
10tpzwNksJKXlxcAIC8vD9HR0ZYtvBQ8Uycim3XixAk89thjxT62Z88eJCQk5I+oN/d5gEyv8tln
n+HmzZtIS0vDsGHDLFp3adimTkTlwp/hqlEti2QQEVHtwlAnIrIiDHUiIivCUCcisiIMdSIiK8JQ
JyKyIgx1IiIrwlAnIrIiHFFKRGZbswZwcHDLX6+YLMc0MVhlcUQpEZUpOxt4/XVg7ly5PXIk8Nln
gIuLvnXZEs7SSEQWceGChPjevYCDAzBnDvDyy1W/rjRVDEOdiEq0dSvw5JPAtWtAq1bS/NKrl95V
UWl4oZSIisjNBaZOBQYNkkAPCQFiYhjotQHP1ImokGvX5Ox861ZpYpk2DXj7baCMhXuohmCoE1G+
mBhgxAjg3DmgYUPgyy/lLJ1qDza/EBEA4IsvgIAACfQePSTgGei1D0OdyMZlZwPjxgHPPgvcvAm8
8AKwaxfQurXelVFFsPmFyIbFxwOPPirdFR0dgbAwCXWqvRjqRDZq507pf37linRX/OYbaXah2o3N
L0Q2RikZQHT//RLo998P/PorA91aMNSJbEh6OjBqFPD3v0tf9DfeALZsATw89K6MLIXNL0Q2IjYW
ePhh4LffgHr1pLfLiBF6V0WWxlAnsgEbNgBjxgCpqYCPD/Dtt4Cvr95VUVVg8wuRFcvNBf75T2DY
MAn0Rx4BfvmFgW7NeKZOZKWSkoAnnpDh/gYD8MEH0obO2RWtG0OdyAodOiTt5+fOAY0aAatXSy8X
sn5mN7+kpKRg+PDhMBgM2L17d5HHY2NjYTAYCm3BwcEWLZaIyvbVV0CfPhLo/v7SXZGBbjvKPFPP
zc3F4sWLMX36dCQmJpa4jFVGRgYAwM/PD35+fgCATp06WbBUIipNTg7w1lvARx/J7WefBRYsAOrU
0bcuql5lhrqmaZgxYwacnJzQvHlzJCQkFLtfamoqAOCZZ57BpEmTLFslEZUqKQkIDQW2bQPs7YGP
P5b5XNh+bnvKbH4xGAwIDw/H6dOn0b59+xL3M4X92rVr8frrr2PHjh2Wq5KISnTkiDSzbNsmg4h+
/pnLzdkysy6U+vj4lLmP0WhEv379EB8fj9mzZ2P27NmYMmUKPvjggyL7Tp06Nf/7oKAgBAUFmV0w
ERVYtw54+mngxg3gnnuA9etlHheq/SIiIhAREVHu52nKnOWp/xQUFIRdu3YhKioKffr0KXG/gwcP
4t5774XBYEBGRgbsblsyxdwVsYmoZKb+5zNmyO3Ro4HFiwGjUd+6qOqYm52VGnyUnJyM9PT0Ivf7
+vrCxcUFOTk5yMzMrMxbENEdUlKAoUMl0O3sgP/+F1i+nIFOosL91OPi4tC5c2e4uLggLi4OQ4YM
gZ2dHdzd3RETE4Pk5GQMHDgQ9erVs2S9RDbt+HFg+HCZx6VhQ+Drr9ldkQor15m6pmn5XRrr1q0L
Dw8PNG/eHPb29nB1dcWRI0fw/fffAwDGjx+PL7/80vIVE9mo774D7r1XAv3uu4EDBxjoVFS52tQt
8oZsUycql7w8YNo0YPp0uR0aCixZAtStq29dVL3MzU5OE0BUg6WmyuyKGzbI/C0ffghMnszuilQy
hjpRDXXypLSf/+9/gJubzN8SEqJ3VVTTcepdohroxx+Bnj0l0P38gP37GehkHoY6UQ2iFPD++8BD
D0nTy4gRwJ49QLt2eldGtQWbX4hqiIwMmYRr7VppM//3v2WCLrafU3kw1IlqgPPnpf384EGgfn3g
yy+BIUP0ropqI4Y6kc5275YFLa5cAdq3l54uXG6OKopt6kQ6+uILIDhYAr1/f64fSpXHUCfSQU4O
MGmStKFnZwOvvAJs3gy4u+tdGdV2bH4hqmYpKTIqdOtWwMEBCAsDxo7VuyqyFgx1omp06pR0Vzx5
UhaE/vZboG9fvasia8LmF6JqsnWrDCg6eRK46y4ZUMRAJ0tjqBNVMaVkzvPBg4Hr16WnS3Q04OWl
d2VkjRjqRFUoKwt4/nm5KJqXJ6sVrVsHcJkBqipsUyeqIomJwCOPSD90o1G6L44cqXdVZO0Y6kRV
4OBBYNgw4MIFoGVL4Pvvge7d9a6KbAGbX4gsbN06IDBQAr13b1mhiIFO1YWhTmQheXnA1KnAY48B
N24AzzwD7NgBNGmid2VkS9j8QmQBGRnA008D33wjKxR99BEwcSJnWKTqx1AnqqTff5f288OHgQYN
ZIWigQP1ropsFUOdqBKioqSHyx9/AN7ewA8/AB076l0V2TK2qRNV0JIlwH33SaAPGCAzLDLQSW8M
daJyysmR9vIXXgBu3ZLvN22SxaGJ9MbmF6JySE4GHn8c2LZNZlj85BPguef0roqoAEOdyEz/+5/M
sBgbC3h4yAyLgYF6V0VUGJtfiMyweTPQq5cE+t13y4AiBjrVRAx1olIoBcyeDTz4oMywOGKEzLDY
urXelREVj6FOVIKbN2W5ucmTC0aLrlkDODvrXRlRydimTlSMy5dl3vO9e4G6dYHly+UsnaimY6gT
3SEmRkaIXrwozSzffw907ap3VUTmYfML0W2+/lougF68CAQEyJJzDHSqTRjqRChYlSg0FMjMlL7n
P/8MNG6sd2VE5cPmF7J56enAU08B69fLDItz5gATJnCGRaqdGOpk086dkwFFR48Crq7S/BISondV
RBVndvNLSkoKhg8fDoPBgN27dxe7zyeffILWrVvDaDRi8ODBiI+Pt1ihRJa2axfQo4cEeseOMiEX
A51quzJDPTc3FwsXLoSvry82bNgArYS/STds2IBx48YhKysL/v7+2LJlC0JDQy1eMJElfPopcP/9
wNWrMvf53r1Ahw56V0VUeWWGuqZpmDFjBpycnNC8eXMopYrdb+7cuQCAlStXIjIyEr169UJ0dDQO
HDhg2YqJKiEnB3jlFeCvf5XvJ00CfvxRml6IrEGZbeoGgwHh4eFo3749+vfvj4SEhGL3i4mJgaZp
CPxzQoyAgADs3bsXx44dg7+/f+GdR48GHB0LNmdnwN1d5i51d5etSROgVSugXr3Kf0oiAElJwMiR
0qvF0RFYtEjWESWyJmZdKPXx8Slzn7S0NGiaBqPRCABo0KABAODKlStF9p26alX+90F/biVyc5Nw
b9VKlpbx8QF8fWXz8DCnfCIcPy4XRM+ckfOFb78F+vTRuyqikkVERCAiIqLcz7NY75emTZsiISEB
mZmZMBqNuH79OgCgcTEdfaeuWAFkZ8uWlSWr9iYlyWTVSUnAtWtAQoKMAElOlu3IkaJv2rChTJnn
71+weXmxLxoV8uOPwBNPAGlpQLduMkK0VSu9qyIqXVBQEIKCgvJvT5s2zaznVSrUk5OT4ejoCGdn
Z3Tp0gXx8fGIjIxESEgIoqKiAABdunQp+sTRo817A6VkrbALF4Dz54GTJ2VS6xMnZLt2Ddi+XTYT
d3fg3nuBfv1ku+ceWc2AbI5SwKxZwFtvyfcjRwKffy5zuRBZK02VdOWzGEFBQdi1axeioqLQrFkz
dO7cGS4uLoiLi0NkZCQGDRqERo0awdvbG3v27EFAQAAiIyMLv6GmlXixtVyUAuLjgYMHZXJr03Zn
c0/duvJ3dlCQdHPo1k1GmJBVy8wExo4FTC19778P/OMf/COOai9zs7NcoR4cHIxdu3YhMjIS7dq1
Q8+ePeHu7o59+/bBwcEBYWFh+PDDD3Ht2jUEBwdj8eLFaNGiRYUKqxClpMkmKgrYuVO2//2v8D5N
mki4Dx4sqwVzYUmrEx8vMyzu3y/X4FeuBIYP17sqosqpklC3hCoN9eIkJsook23bZPmaixcLHrOz
k9mbRowAHnkEuOMXENU++/ZJgF+6JJdXNmwAimsBJKptGOrFUQr47TcJ902b5Iw+J6fg8d69gUcf
lYD38tKnRqqwlSuBF16Qa+/9+gHr1gGNGuldFZFlMNTNcf06sHGj/PRv3ixL3Zj07AmMGSPT9jEZ
arTcXGkvnzVLbr/4IjB3rvRFJ7IWDPXySk+XYP/mG+kDl5Eh99vbA4MGScAPHQrUqaNvnVRIaqp0
V9y4UVrT5s0D/vY3vasisjyGemXcuCGdmVesAMLD5VQQAOrXl35xzz8v3SbZlUJXp0/LgKITJ6Qn
67p1QHCw3lURVQ2GuqUkJgKrV0vA//prwf1dukifudGj2YNGBz/9JL9fk5OBzp3lgmjbtnpXRVR1
GOpV4fhxGb2ybJkMigKkOeaxx2SGqIAAnr1XMaWkiWXSJPkDauhQuUBav77elRFVLYZ6VcrOluaZ
Tz+VrpImvr7SoPv000yZKpCdDbz8MvDZZ3L7H/8A3nuPY8nINjDUq8vZs8CSJcDSpcDly3JfvXoy
/d/48bL6AlXalSsynCAqSv44WroUGDVK76qIqg9DvbrduiUNu/PmyUhWk5AQmcB78GCeUlbQoUPA
sGEy/U+LFsB338ncbUS2hKGupyNHgPnzpbE3M1Pua9tW2g6ee44rMpTDunXSmnXjhnQ4Wr8eaNZM
76qIqh9DvSZISpJ2grAwWeEYkKaZ558HJk7kqNVS5OYC//oX8MEHcnvMGGDxYg4TINvFUK9JcnNl
dMzcubLsDiBNMY8+Cvz97zJ6lfKlpEhP0Y0b5TB99JH8DmTHIrJlDPWa6tAhYM4c4KuvCuadCQyU
cB86VIZF2rATJ2RCrlOnZEDR118D/fvrXRWR/hjqNd3Fi3JRddEimYMGkOX6XntNGpFtcCWHDRvk
DD0tDbjrLrkg2qaN3lUR1QwM9doiLU3a3T/+uKDdvWFD6e8+frzM/27l8vJkEYt335XbI0fKIXF2
1rcuopqEoV7b5ORI146PPpJJwQHAyUnO2idNstr+7mlpwFNPyVm5pgEzZgBvvMH2c6I7MdRrK6WA
6GgJ9w0b5LamycxVkydb1VQEp09L//Pjx4EGDeQyw6BBeldFVDMx1K3ByZNyUXXZMln5AQB69QJe
f13SsBZfVN2yRUaEpqTI7Arffy+XFIioeAx1a5KYKIOZFiyQvu8A0L69NMs88wxgNOpaXnkoJYtZ
vPWWfD98OLB8OeDiondlRDUbQ90aZWTILJFz5gBxcXJfo0ZyQfXll2v8Ck0ZGTKgds0auT1tGvDO
O5w9gcgcDHVrlpMDfPst8J//AAcOyH1Go5y1T5okZ/E1zJkzMiHX4cNyVr5ypVwmICLzMNRtgVLA
rl0S7hs3yn2aJgtnT54s7e81wKZNwJNPSvu5t7e0n/v66l0VUe3CULc1x48Ds2fLKXB2ttwXGCgX
VR98UJc2jrw8YPp02ZSSM/Ply6WnCxGVD0PdVl26JHPMLFxYMFK1Y0eZhmDMmGqbESspSd5u0yb5
4+H994EpU9h+TlRRDHVbl5Ymi3f8978yETkgo1NfeUVGq7q7V9lbHzokLUBxcTI49ssvZVp5Iqo4
hjqJW7eAtWul3f3QIbmvbl2Z/ve11yw+ucry5cCLLwI3bwL33AN88w3g6WnRtyCySQx1KkwpYPt2
CfetW+U+g0EWzZ48udJLCWVny++IBQvk9vPPS9d6zn9OZBkMdSrZkSNyUfXLLwum/w0KknAfNKjc
Dd/x8TI1/N69gKOjhPnYsZYvm8iWMdSpbBcvAv/3fzL9b1qa3Nepk4T7E0/IhGJliIgAHn9cFoZu
1UqaW3r0qNqyiWwRQ53Md/068OmnMv1vfLzc16wZMGEC8NJLxa6pmpcnLTlvvy0LO91/v0zI5eFR
zbUT2QiGOpVfdjawerXMEHn0qNxXr560pUycCLRuDUC6Kz79NPDjj7LLlCnSZbEWzy9GVOMx1Kni
lALCw+VU3LSmqp0d8PjjOPrAZDz4z244fx5wc5PeLg8+qG+5RLaAoU6WERMDzJ4N9fXX0HJzAQC7
0Bdb272Mv255BJ7tHXQukMg2MNTJYq5fB94M/R0dt3yM57EE9fHnRdVmzYC//lW25s31LZLIyjHU
ySIOHpSu7GfOAPXrA8vD0jAsdQUQFibzzQCAvb1MwfjyyzLfjJWszERUk5ibnWZ1SL548SKGDBkC
o9EIT09PLFy4sMg+sbGxMBgMhbbg4ODyV041glLS07F3bwn0rl2BX38Fho12AcaNA44dA3bskDBX
Cvj6a+Avf5EdFy+WydOJqNqVeaaulIK/vz8OHjyIgIAAnDx5ElevXkV4eDj69++fv9+hQ4fQvXt3
+Pn5wc/PDwDQqVMnvPPOO4XfkGfqNV5amkwPs2qV3H7xRentWOLo0IsX5TfA4sXSYR2QqRifekp6
znTpUi11E1kzs7NTlSEyMlJpmqYCAgKUUkpt3bpVaZqmhgwZUmi/nTt3Kk3T1OzZs0t9PTPeknS0
f79S7dopBSjl7KzUypXlePLNm0qtWqVU797yAqatVy+llixRKj29yuomsnbmZmeZzS8xMTEAgICA
gEJfjx07Vmi/hIQEAMDatWvx+uuvY8eOHeX4HUR6y8uTmQP69JHmlrvvlkWVnnyyHC/i5CQjUXfv
lsb4ceOkIX7vXpkMplkz+RPgz/9TRGR59mXtkPbn8PF69eoBAJydnWEwGHDF9Gf2n4xGI/r164f4
+HjMnj0bs2fPxpQpU/DBBx8Uec2pU6fmfx8UFISgoKBKfASqrMREGUxkmudrwgRg5sxKTsbVtatc
TJ01S2aJ/PRTCftPPpHtnnukaWbUKAl+IiokIiICERER5X9iWafyn332mdI0Tb3xxhtKKaXS09OV
pmnK09OzxOfExMQoBwcH5eTkpHJycir0JwRVj61blWrSRFpJGjZUasOGKnyzY8eUevVVpdzcCppm
6tZVaswYpX76Sanc3Cp8c6LazdzsLLP5pcufF7mioqIKfe3SpQtSUlKQnp5e5Dm+vr5wcXFBTk4O
MjMzy/+bhqpcdjbwxhvAAw/ImXpQkCwKPXRoFb5p585yxTUhQZbd69cPuHEDWLEC6N8f8PIC/vEP
4OTJKiyCyLqZ1U+9d+/e+OWXX9C7d2+cOnUKSUlJWLRoESZMmAAXFxfExcVhyJAhsLOzg7u7O2Ji
YnD27FkMHDgQmzZtKvyG7P2iuzNnpNVj/34Z/T9tmszfosvcLWfOyFwDy5cD584V3H/vvdJ7JjS0
SldpIqotLNb7RSmlzp8/rwYOHKjq1KmjWrVqpRYuXKguX76sWrdurbp27aqysrLU8OHDlYeHh3J0
dFTt2rVTr7zyikpOTq7wnxBkeXl50gmlXj1p+fD0VCo6Wu+q/pSbq9TOnUo995xSLi4FzTOOjkqN
GKHU+vVKZWbqXSWRbszNTo4otRF//CGj+b/7Tm4/9ph0Ky9mVl393bghhS5bBvz0k3TNAeSC6sMP
y9n7/fcDDpx3hmwHpwmgfBs3As89J+OCGjSQTilPPFFLRvPHx8sKTatXF+4K2bChLLcUGgr07ct5
f8nqMdQJGRnA3/8ugz0BuRi6bFn+tOi1z6lTMh3BV18BJ04U3N+sGTBypGy9epV7OT6i2oChbuN+
+QUYPRo4fVrWDf3gA1kY2iryTimZe2b1atnOni14rGlTYPhw4JFH5LcYm2jISjDUbVR2tqxC9MEH
ssxcly4yh4vVTr+ilAx9Xb0a+Pbbwj1oXF2lj+YjjwAhIUDdurqVSVRZDHUbFBMDPPsscOSItJf/
/e8S8GasH20dlAIOHZJw//bbgqmBAcBoBAYNkrP4QYOARo30q5OoAhjqNiQrS8J7xgw5O2/XDli6
VGbCtWn6fEtNAAAVhElEQVQnTwLr18u2b1/B/Zom/eCHDJGta9dactWYbBlD3UYcOCBn58eOSS5N
mAD8+9+As7PeldUwFy5IN8kffgB27pR2KpPmzQsC/v77ZbFtohqGoW7lsrJkJOisWXJ27u0tZ+eB
gXpXVgukp0v/940bgU2bZNoCE0dHucA6YIBsd93Fs3iqERjqVmz3bpng8PhxyZvXXgPee4/XASvE
1A6/cSPw44/STHP7/8/GjWVeGlPIt2ihX61k0xjqViglBXjrLZm5FgA6dAA+/1zmQCcL+eMPIDwc
2LZNttvP4gHA11fCvX9/mZCM0wZTNWGoWxGlZEryV18FLl+WdZ7feAN45x3p1EFVRCngf/8rCPiI
CGm6MTEYgG7dJNz79ZORrW5uupVL1o2hbiV+/10WEDJNdtmnj8zZ0rmzvnXZpOxsGdW1bZu0ye/f
D+TkFDyuadIG36+fdD36y18ADw/96iWrwlCv5W7dAubOBf71L5nfqkEDWY1o7FgrGRVqDTIygD17
pDfNzp0S+Lf3qgGATp3kN3Hv3rJ17Mh/QKoQhnottn27dE387Te5/fjjsrZE06b61kVlyMyUC62m
kN+zR+67naurzE9jCvl772W7PJmFoV4LnT8vo0DXrZPb7doB8+bJAEiqhbKzgV9/lXA3bfHxhffR
NGlL690b8PeXzc9PulYS3YahXovcvAl89JHM15KZKV0T334bmDSpkos/U81z4ULhkI+Jkba22zk6
Stv8PffI5u8vwc+gt2kM9VpAKeD77+Xs3DTR4OOPA//5D9Cqlb61UTW5eVOCfe9eOas/cECmGL6T
Kej9/YHu3eV7Pz8OHbYhDPUa7pdfgNdfByIj5bafnzS1BAXpWhbVBKmpwMGDEvCmoI+NLbqfpkkb
3V13Fd7atOHFWCvEUK+hzp4F/vEPWesBkMkC330XeOkl6X9OVKzr1wuC/vBhmYrzxImiTTeAnL13
6VJwNu/rK1vz5pzyoBZjqNcwSUkyk+L8+fJzWKcOMHEiMGWKdFckKrfsbJmJ8sgR2Uxhf+lS8fvX
rw/4+BSEvGlr25bLAdYCDPUaIjVV+pvPni3D/DUNGDNGAp7t5lQl/vgDOHpUQv74cTmjP3FCziyK
4+goc074+srX9u1l8/aWuW94dl8jMNR1lpEhZ+WzZhX8LN1/v1wE7dZN39rIBiklYW8K+Nu3ixdL
fl69egUBbwp70+2mTRn41YihrpPMTJlw68MPgStX5L7AQJlFkRdBqUZKS5M5bk6ckEVtTVtsrPx5
WRJnZ7ko6+VVsHl6FnzfsCFD34IY6tUsNRVYtAiYM0cm3QKAnj0lzAcM4P9tqoWUkj8zTQF/Z+CX
1Jxj4uxcOPBNW+vWMoVx06Zsyy8Hhno1uXJF2szDwgpOarp1A6ZPl4V0GOZktZKTZaHvkrbU1NKf
b2cHNGsmAd+yZcF2++3mzW1okd3SMdSrWFycXPxcskTGjwAyKd+UKcDAgQxzIqSkFAT877/L17g4
acO/eBFITDTvdTw8CgK+adOSNytfhpChXgWUAnbskEFCGzYAeXly/9ChEuZcrIKoHLKzZRGS+PiC
oDdtpvsSEmS9RnM4O5cc+E2ayKAQDw/52qBBrTvzYqhbUEYGsHKlhLlp5kQHByA0VBar8PPTtz4i
q5WbK2f0Fy9K//vLl4tuiYnymOlPZnPY20u43x70pq8l3adzMxBD3QIOHZLmlZUrC9rLmzUD/vY3
4K9/lV/+RFQDKCW9eIoLfVPwX70q3TqvXpV9y8vZWVa2cneXr6atrNuurhYZLs5Qr6DkZGDVKmDp
UhmVbdK7t8xx/sgjnCyPqNbLypJwN22msDd9Le6+21e5Kq/69QsHff360gRk2u68fed99epBMxgY
6ubKzAQ2b5b5WL7/Xv69ATn2o0cDzz0HdO2qb41EpCOlZH3apCQ58zNtt98u6bGUFHl+ZRgM0PLy
GOqlycqSReNNQW5aT1jTpF/5888DDz3E+cyJqJLy8mRCNlPYp6TIbdOWmlr4dnH33bgBDWCo3+nq
VTkj//FHYOtWOVYm/v4yl/njj3NOFiKqYW7dguboaFZ2WvVkr7duyXTUP/8MbNwo6xDcfkzuuqsg
yNu1069OIqJSOTiYvatVhXpWllzc3LlT+pNHRUl3RBNHR5l/5cEHZbRn27a6lUpEVCXKXB7l4sWL
GDJkCIxGIzw9PbFw4cJi9/vkk0/QunVrGI1GDB48GPF3LrBrYVlZMrPo0qXSxdDfH3BxkV4qU6ZI
80pGBtCxI/Dii8D69cC1a3L/K69UXaBHRERUzQvXEPx8tZc1fzbA+j+fuUo9U1dKYdiwYTh48CAC
AgJw8uRJvPzyy/D29kb//v3z99uwYQPGjRsHDw8P+Pv7Y8uWLQgNDUWkaa22CsrMlHV6L1yQUcYn
TxbMFnr2bMGIThNNkymh+/aVM/KgIOlXXp0iIiIQZMXTMfLz1V7W/NkA6/985io11KOjo3Hw4EH0
6dMHkZGRCA8Px8CBA/Hxxx8XCvW5c+cCAFauXIkBAwagT58+iI6OxoEDB+Dv71/kdcPCZISwabu9
p1BSkpxRJyTIhc2SGAwyrXP37nKW3qOHfF+/fgWPBBGRFSg11GNiYgAAAQEBhb4eO3asyH6apiEw
MDB/v7179+LYsWPFhvr48eYV5+AgE7a1bi09Ury9C1bg8vZmd0MioiJUKd5//32laZqaPn16/n12
dnbKaDQW2s/e3l7Z2dnl337vvfeUpmlq5syZRV6zXbt2CgA3bty4cSvH1q5du9LiuiCPUYqmTZsC
ANL/HJmTkZGBvLw8NG7cuMh+CQkJyMzMhNFoxPU/O4DfuR8AnD59urS3JCKiSii190uXLl0AAFFR
UYW+dunSBSkpKcj4s79gly5doJTKvzB6+35ERFR9yhxR2rt3b/zyyy/o3bs3Tp06haSkJCxatAgT
JkyAi4sL4uLiEBkZiUGDBqFRo0bw9vbGnj17EBAQUOneL0REVD5l9lNfs2YNHnjgAcTExMBoNCIs
LAxDhw6Fh4cHmjdvDgcHBzzwwAOYN28enJyccPDgQQwaNAirV6+ujvqJiOg21T73CxERVZ0yz9Qt
xdyRqbVdSkoKhg8fDoPBgN27d+tdjsXMnz8fHTp0gNFohI+PT/7YhNru9OnTCA0NRcOGDVGvXj30
6tULO3bs0LusKrFlyxY4ODjAYKi2H/tq8eSTT8JgMBTadu7cqXdZFpWamooPP/wQvXr1gqurKzZs
2FDyzmb1kamkvLw81b17d6VpmgoMDFQeHh5K0zS1bdu26nj7apGTk6MWLFigmjZtqjRNUwaDQUVH
R+tdlkVER0crg8Gg2rVrpwYOHKiMRqPSNE2Fh4frXVqlnTp1SjVo0ED1799fhYSEKE3TVL169VRK
SorepVnU0aNHlbOzc/7/TWsybNgwpWmaGjVqVP524sQJvcuymNOnTysvLy+laZpq3ry5GjRokDpw
4ECJ+1dLqEdGRipN01RAQIBSSqmtW7cqTdPUkCFDquPtq0Vubq5q1aqV8vT0VC1atFCapllNqCul
1Pbt21VeXp5SSqk333xTaZqm5syZo3NVlpGdnZ3/fffu3ZXBYFBHjx7VsSLLSk9PVx07dlRNmzZV
DRs2tLpQDw4OVi4uLnqXUSVyc3NVt27dlJ2dnfriiy/Mek61/B1m7sjU2sxgMCA8PBynT59G+/bt
9S7H4oKDg6FpGm7evInw8HBomoa+ffvqXZZF3Lp1C6GhoQgICMDBgwcRGhoKPytaTfytt97C6dOn
sWrVKtSrV0/vciwuISEBOTk5ePHFFzFnzhwkJyfrXZLFREdH49ChQ3BycsKECRPg6uqKF154IX8s
UHGqZerdtD8XeTX9h3J2dobBYMCVK1eq4+2rjY+Pj94lVKnMzEwMHz4chw4dwsSJE4udAqI2ys7O
xpo1a6BpGgDgwoULuH79Oho0aKBzZZUXExODsLAwvPDCC7jvvvv0LqdKdO7cGa6urli9ejXS0tIw
a9YsHDhwAC1bttS7tEoznRA3btwY99xzDw4cOIClS5fi1q1bWLZsWbHPqZYzdXNHplLNdePGDYSE
hGDbtm35Z0TWwtXVFXl5eYiPj8eQIUMQFRWFsLAwvcuyiH//+99QSuH3339HaGgorl69CqUURo0a
pXdpFvPNN99g7969uHr1KkJDQ3HlyhUsXbpU77IsIjs7GwDw9NNPY926dfmdL7Zs2VLic6ol1Esb
mUq1w7hx4xAdHY3x48dbVc+lvNvmb27atCl69OgBQHobWIOkpCRomoZt27Zh7dq1uHHjBgAZf2Jt
HBwc0K1bNwAFJ5C1nakpd//+/QCQ/+/n4uJS4nOqpfmlZ8+euPfee/NHmp46dQqapmHixInV8fZU
SYmJiVi+fDk0TUNiYiJCQ0MByJ+9//znP3WurnIWL16MOXPmwM/PD2lpaYiIiICmaXjggQf0Ls0i
7uye6eXlhQsXLiA3N1eniixr06ZNmDx5Mjp27IibN2/i559/hp2dHR5++GG9S7OIwYMHo2XLlti8
eTP69euHuLg4AMDzzz9f8pOq9NLtbc6fP68GDhyo6tSpo1q1aqUWLlxYXW9d7YKCgqyqS2NUVFR+
VzhN0/K/Dw4O1ru0SluxYoXq1KmTcnJyUkajUfn7+6s1a9boXVaV8fLysqreLxs3blSdO3dWderU
UW5ubiowMFBt2rRJ77Is6uTJkyokJES5urqqxo0bq6lTp+b3RCsOR5QSEVkR6xpaRkRk4xjqRERW
hKFORGRFGOpERFaEoU5EZEUY6kREVoShTkRkRRjqRERWhKFOVeLWrVtWNwtnZcXExODatWtV8to8
3mTCUKcq8dxzz+HNN98EAGRlZaFVq1Y4cOBAtdaQm5uLnJycMverrvr8/f1x+PDhKnlt0/HOzs7W
5VhTzcFQtxFeXl545ZVXitzfsmXLEudlrizT/OROTk44d+5ctc+/XrduXezatavM/fSqz9I0TYOj
o2OVfZavv/7a4q9JlsdQtyFhYWFFps3VNC0/fC1JyVKJ+bft7Ows/h5luXXrFsyd2kiP+izp9uNd
FZ8lJiYGWVlZ+Oqrr3D06FGLvz5ZDkPdRmiahrFjx2LKlCnYt29fsfskJCTg4YcfhrOzM5o3b45Z
s2YVCsW+ffuiefPmqFOnDpo1a4YFCxbkP3b27Fncd999MBqN6NChA/bu3Vvol4XBYMD27duLvI6P
jw9mzZqFwMBAODs7o2XLlvjmm2/ynxcXF4ehQ4fC1dUVvr6+RVZRL60mABgwYAAMBgPuuusuAMDE
iRPh4eGBunXr4oknnii2vsoch7/97W9wd3eHq6srHnroIVy9erWMfxkxdOhQtGzZEnXq1MGAAQPK
fK3Sjvftn+X27wEgMDAQ06ZNAyC/CEo6HreLiIjAzJkz8dRTT2HUqFFcB6Gmq/J5I6lG8PLyUkuW
LFGLFi1SrVu3VsnJyUoppVq2bKmWLVum8vLylL+/vxoxYoSKjY1VP/30k2rWrJmaN29e/mtomqZW
rVqlrly5olasWKE0TVNHjhxROTk5ysfHR40ePVrFxsaqvXv3qrvvvls9++yzhZ77888/F3qdy5cv
q7fffltpmqZWr16tfv/9d/X2228rFxcXlZmZqW7duqXuuusu9eSTT6ozZ86oBQsWKKPRqC5fvlxm
TabH1q9fr65du6auX7+uNm/erIxGo4qMjFS///67OnToUJH6cnNzK3QcDh8+rJRS6vDhwyouLk79
9ttvqlu3buq1114r9hjcSdM09dlnn6lLly6pM2fOlPpaZR3vO4/17e8ZGBiopk2bppRSpR6P2z36
6KMqLCys2Meo5mGo2whTqCul1MiRI9XIkSOVUgWhvm/fPmVnZ5cf9kop9d///ld17tw5//adAdGx
Y0c1b948FR0drRwcHFRqamr+Y6NHj1bPPPNMsc+9/fvExESlaZo6ePBgodtHjhxR27dvV/b29ur6
9ev5r9OpUyf1+eefl1rT/Pnzi31sz549ysHBQW3ZsqXI8THtW5njcKf58+erkJCQEp9X3PuX5PbX
Kul4lzfUSzset3v33XeVv7+/WrBggfryyy9L3Zf0Vy0rH1HNsmjRIvj5+WHVqlX59507dw5ubm5w
dXXNv699+/Y4d+5cia/TqFEjJCUlIT4+Hq6uroWW2FJmtmW7ubkBKFic3HQ7PT0dly9fRl5eHjw9
PfP3z8jIQHx8fJk1FadXr15YtmwZXn31VdjZ2WHmzJl48MEHC+1T0eOQnJyMvLw8TJs2DWvXrkVS
UhLq1KmDtm3bln4ASlDaa128eLFcx7ukx8w5HoAsO3np0iUAtf/agy1gqNsgV1dXLF26FE8++WT+
smZeXl5ITk5GUlIS3N3dAQCxsbFo06ZNia9jasP19PTEtWvXcO3aNTRs2LDQY2Ux7WcKnttve3p6
wsnJCb/++ivs7Qv+qzZo0KDU1zO9lpOTE7Kysgo9PmrUKIwaNQqffvopHnnkEcTFxaFFixb5j1f0
OOTl5WHFihUICwvD119/jTZt2mDlypVFlpMzV2mvVdzxLombmxsuX75c4uNlHY99+/YhLi4OixYt
qtDnoOrHC6U2KiQkBEOGDEFKSgoA6UPdtWtXjB07FrGxsfj555/xn//8By+++GKJr2EKT39/f3Tv
3h2jR4/GsWPHEB8fn7/gcWX06tULbdq0wYwZM5CZmQl7e3tcuXKl1FC//azU29sb69atw8WLF/HL
L7/g/Pnz2L9/PxITE9GyZUvk5OQUWWC6IsfBJDs7G/b29nBzc0P9+vWLLA5cv359HDx40Ky/Ykp7
rR49ehQ53snJycW+Tr9+/RAWFoaTJ08iMTERGRkZ+Y+Zczxmz56Nl156qcx6qeZgqNuw2bNn55+N
apqGH374AUop3H333Rg9ejRee+01vPzyyyU+//beFj/++CPc3d3Rv39/eHt74/jx4/k9TirKYDBg
y5YtuHLlCu655x74+PgU29e+uJoA4P/+7/+wfft2eHt7Y9y4cTh06BAefvhhtGrVCmPHjsV7770H
X1/fIs8v73EwPW/MmDEICQlB//790bx5c8yYMQM+Pj75+/zrX//Chx9+iCNHjpT52Ut7rfIc73nz
5qFBgwbo2bMn2rdvj/T0dHh7ewMAjh49WubxqF+/PqZPn17olwHVbFyjlIhKlJGRgSlTpmDt2rV4
6KGH8MYbb6B9+/Z6l0WlYKgTUZlSU1OxYsUKfPXVV4iKitK7HCoFm1+IqExbtmyBs7MzHn/8cb1L
oTLwTJ2IyIrwTJ2IyIow1ImIrAhDnYjIijDUiYisCEOdiMiKMNSJiKwIQ52IyIr8P4aHRS8bPqCf
AAAAAElFTkSuQmCC
"
>
</div>

</div>

</div>
</div>

</div>
<div class="cell border-box-sizing text_cell rendered">
<div class="prompt input_prompt">
</div>
<div class="inner_cell">
<div class="text_cell_render border-box-sizing rendered_html">
<p>This reproduces plot one perfectly.</p>
<p>To produce the Second plot I create a for-loop that loops over a list with different external pressures from <span class="math">\(10^{-10}\)</span> to <span class="math">\(10^{-15}\)</span> Ba (barye). In each loop the differential equation is solved and the dimensionless mass <span class="math">\(m\)</span> is calculated from</p>
<p><span class="math">\[
m \equiv \frac{M}{\left(  \frac{c_S^2}{\rho_{ext}^{1/3} G} \right)^{3/2} } = \sqrt{\frac{\rho_{\text{ext}}}{4\pi \rho_c}} \left( \xi^2 \frac{d\psi}{d\xi}\right) \vert_{\xi = \xi-ext}.
\]</span></p>
<p>which can be found from integrating shells as</p>
<p><span class="math">\[
M = \int \rho 4\pi r^2 dr = 4\pi \rho_c \left( \frac{c_S^2}{4\pi G \rho_c} \right)^{3/2} \left[\xi^2 \frac{d\psi}{d\xi} \right]_0^{\xi_{ext}}
\]</span></p>
<p>but before I do this I calculate the mass of the cloud as</p>
</div>
</div>
</div>
<div class="cell border-box-sizing code_cell rendered">
<div class="input">
<div class="prompt input_prompt">
In&nbsp;[98]:
</div>
<div class="inner_cell">
    <div class="input_area">
<div class="highlight"><pre><span class="n">m_calc</span> <span class="o">=</span> <span class="n">np</span><span class="o">.</span><span class="n">sqrt</span><span class="p">(</span><span class="n">rho_ext</span><span class="o">/</span><span class="p">(</span><span class="mi">4</span><span class="o">*</span><span class="n">np</span><span class="o">.</span><span class="n">pi</span><span class="o">*</span><span class="n">rho_c</span><span class="p">))</span><span class="o">*</span><span class="p">((</span><span class="n">xi_ext</span><span class="o">**</span><span class="mi">2</span><span class="p">)</span><span class="o">*</span><span class="n">psi_diff</span><span class="p">[</span><span class="n">xi_ext_index</span><span class="p">])</span>
</pre></div>

</div>
</div>
</div>

</div>
<div class="cell border-box-sizing code_cell rendered">
<div class="input">
<div class="prompt input_prompt">
In&nbsp;[99]:
</div>
<div class="inner_cell">
    <div class="input_area">
<div class="highlight"><pre><span class="n">M</span> <span class="o">=</span> <span class="n">m_calc</span><span class="o">*</span><span class="p">(</span><span class="n">cs</span><span class="o">.</span><span class="n">value</span><span class="o">**</span><span class="mi">2</span> <span class="o">/</span><span class="p">(</span><span class="n">rho_ext</span><span class="o">**</span><span class="p">(</span><span class="mi">1</span><span class="o">/</span><span class="mi">3</span><span class="p">)</span><span class="o">*</span><span class="n">con</span><span class="o">.</span><span class="n">G</span><span class="o">.</span><span class="n">cgs</span><span class="o">.</span><span class="n">value</span><span class="p">))</span>
</pre></div>

</div>
</div>
</div>

</div>
<div class="cell border-box-sizing code_cell rendered">
<div class="input">
<div class="prompt input_prompt">
In&nbsp;[100]:
</div>
<div class="inner_cell">
    <div class="input_area">
<div class="highlight"><pre><span class="k">print</span> <span class="n">M</span>
</pre></div>

</div>
</div>
</div>

<div class="output_wrapper">
<div class="output">


<div class="output_area"><div class="prompt"></div>
<div class="output_subarea output_stream output_stdout output_text">
<pre>
9.19432001849e+22

</pre>
</div>
</div>

</div>
</div>

</div>
<div class="cell border-box-sizing text_cell rendered">
<div class="prompt input_prompt">
</div>
<div class="inner_cell">
<div class="text_cell_render border-box-sizing rendered_html">
<p>The mass <span class="math">\(M\)</span> of the cloud is then roughly <span class="math">\(9.194 \cdot 10^{22}\)</span> g</p>
</div>
</div>
</div>
<div class="cell border-box-sizing text_cell rendered">
<div class="prompt input_prompt">
</div>
<div class="inner_cell">
<div class="text_cell_render border-box-sizing rendered_html">
<p>Now I iterate over different pressures with the code below</p>
</div>
</div>
</div>
<div class="cell border-box-sizing code_cell rendered">
<div class="input">
<div class="prompt input_prompt">
In&nbsp;[101]:
</div>
<div class="inner_cell">
    <div class="input_area">
<div class="highlight"><pre><span class="n">m</span> <span class="o">=</span> <span class="n">np</span><span class="o">.</span><span class="n">array</span><span class="p">([])</span>         <span class="c">#create an empty array for storing dimensionless mass values</span>
<span class="n">rho_ext_frac</span> <span class="o">=</span> <span class="n">np</span><span class="o">.</span><span class="n">array</span><span class="p">([])</span>         <span class="c">#create an empty array for storing values of the fraction rho_c/rho_ext</span>
<span class="n">PextList</span> <span class="o">=</span> <span class="n">np</span><span class="o">.</span><span class="n">linspace</span><span class="p">(</span><span class="mi">10</span><span class="o">**-</span><span class="mi">10</span><span class="p">,</span><span class="mi">10</span><span class="o">**-</span><span class="mi">15</span><span class="p">,</span><span class="mi">10000</span><span class="p">)</span>         <span class="c">#make a list of external pressures</span>

<span class="c">##########################</span>
<span class="c">#</span>
<span class="c"># this for-loop loopes over the list of external pressures creating a</span>
<span class="c"># different endpoint on the bonnor-ebert sphere in each loop.</span>
<span class="c">#</span>
<span class="c">#########################</span>
<span class="k">for</span> <span class="n">P_ext</span> <span class="ow">in</span> <span class="n">PextList</span><span class="p">:</span>
    <span class="n">rho_ext</span> <span class="o">=</span> <span class="n">P_ext</span><span class="o">/</span><span class="p">(</span><span class="n">cs</span><span class="o">.</span><span class="n">value</span><span class="o">**</span><span class="mi">2</span><span class="p">)</span>
    <span class="n">rho_c</span> <span class="o">=</span> <span class="mf">7.5</span><span class="o">*</span><span class="mi">10</span><span class="o">**-</span><span class="mi">20</span>
    <span class="n">rho_ratio</span> <span class="o">=</span> <span class="n">rho_ext</span><span class="o">/</span><span class="n">rho_c</span>	<span class="c">#0.1</span>
    <span class="n">psi_ext</span> <span class="o">=</span> <span class="o">-</span><span class="n">sp</span><span class="o">.</span><span class="n">log</span><span class="p">(</span><span class="n">P_ext</span><span class="o">/</span><span class="p">(</span><span class="n">rho_c</span><span class="o">*</span><span class="n">cs</span><span class="o">.</span><span class="n">value</span><span class="o">**</span><span class="mi">2</span><span class="p">))</span>

    <span class="k">def</span> <span class="nf">f</span><span class="p">(</span><span class="n">y</span><span class="p">,</span> <span class="n">t</span><span class="p">):</span>
        <span class="n">y0</span> <span class="o">=</span> <span class="n">y</span><span class="p">[</span><span class="mi">0</span><span class="p">]</span>
        <span class="n">y1</span> <span class="o">=</span> <span class="n">y</span><span class="p">[</span><span class="mi">1</span><span class="p">]</span>

        <span class="n">f0</span> <span class="o">=</span> <span class="n">y1</span>
        <span class="n">f1</span> <span class="o">=</span> <span class="n">sp</span><span class="o">.</span><span class="n">exp</span><span class="p">(</span><span class="o">-</span><span class="n">y0</span><span class="p">)</span> <span class="o">-</span> <span class="p">(</span><span class="mi">2</span><span class="o">/</span><span class="n">t</span><span class="p">)</span><span class="o">*</span><span class="n">y1</span>
        <span class="k">return</span> <span class="p">[</span><span class="n">f0</span><span class="p">,</span> <span class="n">f1</span><span class="p">]</span>

    
    
    <span class="n">y_init</span> <span class="o">=</span> <span class="p">[</span><span class="mi">0</span><span class="p">,</span> <span class="mi">0</span><span class="p">]</span>         <span class="c">#create a list with initial conditions</span>
    <span class="n">t</span> <span class="o">=</span> <span class="n">sp</span><span class="o">.</span><span class="n">linspace</span><span class="p">(</span><span class="mf">0.0001</span><span class="p">,</span> <span class="mi">500</span><span class="p">,</span> <span class="mi">10000</span><span class="p">)</span>         <span class="c">#create a list with equidistant integration &quot;steps&quot; (start,stop, nr of steps)</span>

    <span class="c">#Python ODE solver. Takes the function f, inital conditions y_init and steps t as input</span>
    <span class="n">solu</span> <span class="o">=</span> <span class="n">sp</span><span class="o">.</span><span class="n">integrate</span><span class="o">.</span><span class="n">odeint</span><span class="p">(</span><span class="n">f</span><span class="p">,</span> <span class="n">y_init</span><span class="p">,</span> <span class="n">t</span><span class="p">)</span>
    <span class="n">psi</span> <span class="o">=</span> <span class="n">solu</span><span class="p">[:,</span><span class="mi">0</span><span class="p">]</span>          <span class="c">#saves the psi values in list psi</span>
    <span class="n">psi_diff</span> <span class="o">=</span> <span class="n">solu</span><span class="p">[:,</span><span class="mi">1</span><span class="p">]</span>     <span class="c">#saves the derivative of psi in list psi_diff</span>


    <span class="n">rho_frac</span> <span class="o">=</span> <span class="n">sp</span><span class="o">.</span><span class="n">exp</span><span class="p">(</span><span class="o">-</span><span class="n">psi</span><span class="p">)</span>     <span class="c">#calculates the fraction rho/rho_c</span>

    <span class="n">xi_ext_index_1ist</span> <span class="o">=</span> <span class="n">sp</span><span class="o">.</span><span class="n">where</span><span class="p">(</span><span class="n">rho_frac</span> <span class="o">&lt;</span> <span class="n">rho_ratio</span><span class="p">)</span>     <span class="c">#selects the indexes from the list of rho/rho_c values that are &lt; rho_ratio </span>
    <span class="n">xi_ext_index</span> <span class="o">=</span> <span class="n">xi_ext_index_1ist</span><span class="p">[</span><span class="mi">0</span><span class="p">][</span><span class="mi">0</span><span class="p">]</span>         <span class="c">#select first element in list.</span>
    <span class="n">xi_ext</span> <span class="o">=</span> <span class="n">t</span><span class="p">[</span><span class="n">xi_ext_index</span><span class="p">]</span>         <span class="c">#uses the selected index to pick out the radius where the bonnor-evert sphere ends </span>
    
    <span class="n">m_calc</span> <span class="o">=</span> <span class="n">np</span><span class="o">.</span><span class="n">sqrt</span><span class="p">(</span><span class="n">rho_ext</span><span class="o">/</span><span class="p">(</span><span class="mi">4</span><span class="o">*</span><span class="n">np</span><span class="o">.</span><span class="n">pi</span><span class="o">*</span><span class="n">rho_c</span><span class="p">))</span><span class="o">*</span><span class="p">((</span><span class="n">xi_ext</span><span class="o">**</span><span class="mi">2</span><span class="p">)</span><span class="o">*</span><span class="n">psi_diff</span><span class="p">[</span><span class="n">xi_ext_index</span><span class="p">])</span>     <span class="c">#calculates the dimensionless mass</span>
    <span class="n">rho_ext_frac</span> <span class="o">=</span> <span class="n">np</span><span class="o">.</span><span class="n">append</span><span class="p">(</span><span class="n">rho_ext_frac</span><span class="p">,</span> <span class="n">np</span><span class="o">.</span><span class="n">log10</span><span class="p">((</span><span class="n">rho_c</span><span class="o">/</span><span class="n">rho_ext</span><span class="p">)))</span>     <span class="c">#calculates rho_c/rho_ext and appends it to an array</span>
    <span class="n">m</span> <span class="o">=</span> <span class="n">np</span><span class="o">.</span><span class="n">append</span><span class="p">(</span><span class="n">m</span><span class="p">,</span><span class="n">m_calc</span><span class="p">)</span>     <span class="c">#append calculated dimensionless mass to array</span>
    
    
    
<span class="c"># plot the results</span>
<span class="n">font</span> <span class="o">=</span> <span class="p">{</span><span class="s">&#39;family&#39;</span> <span class="p">:</span> <span class="s">&#39;ubuntu&#39;</span><span class="p">,</span>
        <span class="s">&#39;weight&#39;</span> <span class="p">:</span> <span class="s">&#39;bold&#39;</span><span class="p">,</span>
        <span class="s">&#39;size&#39;</span>   <span class="p">:</span> <span class="mi">13</span><span class="p">}</span>

<span class="n">plt</span><span class="o">.</span><span class="n">rc</span><span class="p">(</span><span class="s">&#39;font&#39;</span><span class="p">,</span> <span class="o">**</span><span class="n">font</span><span class="p">)</span>
<span class="n">plt</span><span class="o">.</span><span class="n">figure</span><span class="p">(</span><span class="mi">2</span><span class="p">)</span>
<span class="n">plt</span><span class="o">.</span><span class="n">plot</span><span class="p">(</span><span class="n">rho_ext_frac</span><span class="p">,</span> <span class="n">m</span><span class="p">,</span> <span class="n">color</span><span class="o">=</span><span class="s">&#39;blue&#39;</span><span class="p">,</span> <span class="n">linewidth</span> <span class="o">=</span> <span class="mi">2</span><span class="p">)</span>
<span class="n">plt</span><span class="o">.</span><span class="n">xlabel</span><span class="p">(</span><span class="s">&#39;Density Contrast $\log(</span><span class="se">\\</span><span class="s">rho_c/</span><span class="se">\\</span><span class="s">rho_0)$&#39;</span><span class="p">)</span>
<span class="n">plt</span><span class="o">.</span><span class="n">ylabel</span><span class="p">(</span><span class="s">&#39;Cloud mass $m$&#39;</span><span class="p">)</span>
<span class="n">plt</span><span class="o">.</span><span class="n">show</span><span class="p">()</span>
</pre></div>

</div>
</div>
</div>

<div class="output_wrapper">
<div class="output">


<div class="output_area"><div class="prompt"></div>


<div class="output_png output_subarea ">
<img src="data:image/png;base64,iVBORw0KGgoAAAANSUhEUgAAAYkAAAEbCAYAAAAvc3j1AAAABHNCSVQICAgIfAhkiAAAAAlwSFlz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"
>
</div>

</div>

</div>
</div>

</div>
<div class="cell border-box-sizing text_cell rendered">
<div class="prompt input_prompt">
</div>
<div class="inner_cell">
<div class="text_cell_render border-box-sizing rendered_html">
<p>This reproduces the second plot.</p>
</div>
</div>
</div>
<div class="cell border-box-sizing text_cell rendered">
<div class="prompt input_prompt">
</div>
<div class="inner_cell">
<div class="text_cell_render border-box-sizing rendered_html">
<p>c)</p>
<p>As we increase the external pressure this causes a compression of the cloud that in turn causes an increase in the internal pressure. This pressure then makes the cloud expand and we have a kind of oscillatory motion of the cloud. However after a certain increase, the cloud has a harder time expanding and to the right of the cloud mass maximum of <span class="math">\(\approx 1.2\)</span> gravity is dominating and the cloud no longer is stable. We therefore have a maximum pressure where we have a maximum cloud mass <span class="math">\(m\)</span>.</p>
<p>To find the maximum I simply selects the maximum value of the curve and selects the corresponding external pressure with the following code.</p>
</div>
</div>
</div>
<div class="cell border-box-sizing code_cell rendered">
<div class="input">
<div class="prompt input_prompt">
In&nbsp;[102]:
</div>
<div class="inner_cell">
    <div class="input_area">
<div class="highlight"><pre><span class="n">mMax</span> <span class="o">=</span> <span class="n">np</span><span class="o">.</span><span class="n">max</span><span class="p">(</span><span class="n">m</span><span class="p">)</span>  <span class="c">#selects the maximum value in the list of saved masses</span>
<span class="n">index</span> <span class="o">=</span> <span class="n">sp</span><span class="o">.</span><span class="n">where</span><span class="p">(</span><span class="n">m</span> <span class="o">==</span> <span class="n">mMax</span><span class="p">)</span> <span class="c">#selects the index for the maximum mass</span>
<span class="n">pressureLimit</span> <span class="o">=</span> <span class="n">PextList</span><span class="p">[</span><span class="n">index</span><span class="p">]</span>
</pre></div>

</div>
</div>
</div>

</div>
<div class="cell border-box-sizing code_cell rendered">
<div class="input">
<div class="prompt input_prompt">
In&nbsp;[103]:
</div>
<div class="inner_cell">
    <div class="input_area">
<div class="highlight"><pre><span class="k">print</span> <span class="n">pressureLimit</span><span class="p">[</span><span class="mi">0</span><span class="p">]</span>
</pre></div>

</div>
</div>
</div>

<div class="output_wrapper">
<div class="output">


<div class="output_area"><div class="prompt"></div>
<div class="output_subarea output_stream output_stdout output_text">
<pre>
5.76151845185e-12

</pre>
</div>
</div>

</div>
</div>

</div>
<div class="cell border-box-sizing text_cell rendered">
<div class="prompt input_prompt">
</div>
<div class="inner_cell">
<div class="text_cell_render border-box-sizing rendered_html">
<p>We therefore have the limit where the cloud becomes gravitationally unstabe at roughly <span class="math">\(P_{ext} = 5.762 \cdot 10^{-13}\)</span> Pa</p>
</div>
</div>
</div>
<div class="cell border-box-sizing text_cell rendered">
<div class="prompt input_prompt">
</div>
<div class="inner_cell">
<div class="text_cell_render border-box-sizing rendered_html">
<p>d)</p>
<p>To investigate how much the cloud can cool before it becomes unstable i solve it in a similar way as in b) but instead of iterating over different pressures I iterate over different temperatures.</p>
</div>
</div>
</div>
<div class="cell border-box-sizing code_cell rendered">
<div class="input">
<div class="prompt input_prompt">
In&nbsp;[104]:
</div>
<div class="inner_cell">
    <div class="input_area">
<div class="highlight"><pre><span class="n">m</span> <span class="o">=</span> <span class="n">np</span><span class="o">.</span><span class="n">array</span><span class="p">([])</span>         <span class="c">#create an empty array for storing dimensionless mass values</span>
<span class="n">rho_ext_frac</span> <span class="o">=</span> <span class="n">np</span><span class="o">.</span><span class="n">array</span><span class="p">([])</span>         <span class="c">#create an empty array for storing values of the fraction rho_c/rho_ext</span>
<span class="n">tempList</span> <span class="o">=</span> <span class="n">np</span><span class="o">.</span><span class="n">linspace</span><span class="p">(</span><span class="mi">1</span><span class="p">,</span><span class="mi">100</span><span class="p">,</span><span class="mi">10000</span><span class="p">)</span>         <span class="c">#make a list of temperatures</span>

<span class="c">##########################</span>
<span class="c">#</span>
<span class="c"># this for-loop loopes over the list of temperatures creating a</span>
<span class="c"># different endpoint on the bonnor-ebert sphere in each loop.</span>
<span class="c">#</span>
<span class="c">#########################</span>
<span class="k">for</span> <span class="n">T</span> <span class="ow">in</span> <span class="n">tempList</span><span class="p">:</span>
    <span class="n">P_ext</span> <span class="o">=</span> <span class="mi">8</span><span class="o">*</span><span class="mi">10</span><span class="o">**-</span><span class="mi">12</span>
    <span class="n">cs</span> <span class="o">=</span> <span class="n">np</span><span class="o">.</span><span class="n">sqrt</span><span class="p">(</span><span class="n">R</span><span class="o">*</span><span class="n">T</span><span class="o">/</span><span class="n">mu</span><span class="p">)</span>
    <span class="n">rho_ext</span> <span class="o">=</span> <span class="n">P_ext</span><span class="o">/</span><span class="p">(</span><span class="n">cs</span><span class="o">.</span><span class="n">value</span><span class="o">**</span><span class="mi">2</span><span class="p">)</span>		<span class="c">#7.7*10^-22 g cm^-3</span>
    <span class="n">rho_c</span> <span class="o">=</span> <span class="mf">7.5</span><span class="o">*</span><span class="mi">10</span><span class="o">**-</span><span class="mi">20</span>
    <span class="n">rho_ratio</span> <span class="o">=</span> <span class="n">rho_ext</span><span class="o">/</span><span class="n">rho_c</span>	<span class="c">#0.1</span>
    <span class="n">psi_ext</span> <span class="o">=</span> <span class="o">-</span><span class="n">sp</span><span class="o">.</span><span class="n">log</span><span class="p">(</span><span class="n">P_ext</span><span class="o">/</span><span class="p">(</span><span class="n">rho_c</span><span class="o">*</span><span class="n">cs</span><span class="o">.</span><span class="n">value</span><span class="o">**</span><span class="mi">2</span><span class="p">))</span>

   
    <span class="k">def</span> <span class="nf">f</span><span class="p">(</span><span class="n">y</span><span class="p">,</span> <span class="n">t</span><span class="p">):</span>
        <span class="n">y0</span> <span class="o">=</span> <span class="n">y</span><span class="p">[</span><span class="mi">0</span><span class="p">]</span>
        <span class="n">y1</span> <span class="o">=</span> <span class="n">y</span><span class="p">[</span><span class="mi">1</span><span class="p">]</span>

        <span class="n">f0</span> <span class="o">=</span> <span class="n">y1</span>
        <span class="n">f1</span> <span class="o">=</span> <span class="n">sp</span><span class="o">.</span><span class="n">exp</span><span class="p">(</span><span class="o">-</span><span class="n">y0</span><span class="p">)</span> <span class="o">-</span> <span class="p">(</span><span class="mi">2</span><span class="o">/</span><span class="n">t</span><span class="p">)</span><span class="o">*</span><span class="n">y1</span>
        <span class="k">return</span> <span class="p">[</span><span class="n">f0</span><span class="p">,</span> <span class="n">f1</span><span class="p">]</span>

    
    
    <span class="n">y_init</span> <span class="o">=</span> <span class="p">[</span><span class="mi">0</span><span class="p">,</span> <span class="mi">0</span><span class="p">]</span>         <span class="c">#create a list with initial conditions</span>
    <span class="n">t</span> <span class="o">=</span> <span class="n">sp</span><span class="o">.</span><span class="n">linspace</span><span class="p">(</span><span class="mf">0.0001</span><span class="p">,</span> <span class="mi">500</span><span class="p">,</span> <span class="mi">10000</span><span class="p">)</span>         <span class="c">#create a list with equidistant integration &quot;steps&quot; (start,stop, nr of steps)</span>

    <span class="c">#Python ODE solver. Takes the function f, inital conditions y_init and steps t as input</span>
    <span class="n">solu</span> <span class="o">=</span> <span class="n">sp</span><span class="o">.</span><span class="n">integrate</span><span class="o">.</span><span class="n">odeint</span><span class="p">(</span><span class="n">f</span><span class="p">,</span> <span class="n">y_init</span><span class="p">,</span> <span class="n">t</span><span class="p">)</span>
    <span class="n">psi</span> <span class="o">=</span> <span class="n">solu</span><span class="p">[:,</span><span class="mi">0</span><span class="p">]</span>          <span class="c">#saves the psi values in list psi</span>
    <span class="n">psi_diff</span> <span class="o">=</span> <span class="n">solu</span><span class="p">[:,</span><span class="mi">1</span><span class="p">]</span>     <span class="c">#saves the derivative of psi in list psi_diff</span>


    <span class="n">rho_frac</span> <span class="o">=</span> <span class="n">sp</span><span class="o">.</span><span class="n">exp</span><span class="p">(</span><span class="o">-</span><span class="n">psi</span><span class="p">)</span>     <span class="c">#calculates the fraction rho/rho_c</span>

    <span class="n">xi_ext_index_1ist</span> <span class="o">=</span> <span class="n">sp</span><span class="o">.</span><span class="n">where</span><span class="p">(</span><span class="n">rho_frac</span> <span class="o">&lt;</span> <span class="n">rho_ratio</span><span class="p">)</span>     <span class="c">#selects the indexes from the list of rho/rho_c values that are &lt; rho_ratio </span>
    <span class="n">xi_ext_index</span> <span class="o">=</span> <span class="n">xi_ext_index_1ist</span><span class="p">[</span><span class="mi">0</span><span class="p">][</span><span class="mi">0</span><span class="p">]</span>         <span class="c">#select first element in list.</span>
    <span class="n">xi_ext</span> <span class="o">=</span> <span class="n">t</span><span class="p">[</span><span class="n">xi_ext_index</span><span class="p">]</span>         <span class="c">#uses the selected index to pick out the radius where the bonnor-evert sphere ends </span>
    
    <span class="n">m_calc</span> <span class="o">=</span> <span class="n">np</span><span class="o">.</span><span class="n">sqrt</span><span class="p">(</span><span class="n">rho_ext</span><span class="o">/</span><span class="p">(</span><span class="mi">4</span><span class="o">*</span><span class="n">np</span><span class="o">.</span><span class="n">pi</span><span class="o">*</span><span class="n">rho_c</span><span class="p">))</span><span class="o">*</span><span class="p">((</span><span class="n">xi_ext</span><span class="o">**</span><span class="mi">2</span><span class="p">)</span><span class="o">*</span><span class="n">psi_diff</span><span class="p">[</span><span class="n">xi_ext_index</span><span class="p">])</span>     <span class="c">#calculates the dimensionless mass</span>
    <span class="n">rho_ext_frac</span> <span class="o">=</span> <span class="n">np</span><span class="o">.</span><span class="n">append</span><span class="p">(</span><span class="n">rho_ext_frac</span><span class="p">,</span> <span class="n">np</span><span class="o">.</span><span class="n">log10</span><span class="p">((</span><span class="n">rho_c</span><span class="o">/</span><span class="n">rho_ext</span><span class="p">)))</span>     <span class="c">#calculates rho_c/rho_ext and appends it to an array</span>
    <span class="n">m</span> <span class="o">=</span> <span class="n">np</span><span class="o">.</span><span class="n">append</span><span class="p">(</span><span class="n">m</span><span class="p">,</span><span class="n">m_calc</span><span class="p">)</span>     <span class="c">#append calculated dimensionless mass to array</span>
    
    
<span class="c"># plot the results</span>
<span class="n">font</span> <span class="o">=</span> <span class="p">{</span><span class="s">&#39;family&#39;</span> <span class="p">:</span> <span class="s">&#39;ubuntu&#39;</span><span class="p">,</span>
        <span class="s">&#39;weight&#39;</span> <span class="p">:</span> <span class="s">&#39;bold&#39;</span><span class="p">,</span>
        <span class="s">&#39;size&#39;</span>   <span class="p">:</span> <span class="mi">13</span><span class="p">}</span>

<span class="n">plt</span><span class="o">.</span><span class="n">rc</span><span class="p">(</span><span class="s">&#39;font&#39;</span><span class="p">,</span> <span class="o">**</span><span class="n">font</span><span class="p">)</span>
<span class="n">plt</span><span class="o">.</span><span class="n">figure</span><span class="p">(</span><span class="mi">2</span><span class="p">)</span>
<span class="n">plt</span><span class="o">.</span><span class="n">plot</span><span class="p">(</span><span class="n">rho_ext_frac</span><span class="p">,</span> <span class="n">m</span><span class="p">,</span> <span class="n">color</span><span class="o">=</span><span class="s">&#39;blue&#39;</span><span class="p">,</span> <span class="n">linewidth</span> <span class="o">=</span> <span class="mi">2</span><span class="p">)</span>
<span class="n">plt</span><span class="o">.</span><span class="n">xlabel</span><span class="p">(</span><span class="s">&#39;Density Contrast $\log(</span><span class="se">\\</span><span class="s">rho_c/</span><span class="se">\\</span><span class="s">rho_0)$&#39;</span><span class="p">)</span>
<span class="n">plt</span><span class="o">.</span><span class="n">ylabel</span><span class="p">(</span><span class="s">&#39;Cloud mass $m$&#39;</span><span class="p">)</span>
<span class="n">plt</span><span class="o">.</span><span class="n">show</span><span class="p">()</span>
</pre></div>

</div>
</div>
</div>

<div class="output_wrapper">
<div class="output">


<div class="output_area"><div class="prompt"></div>


<div class="output_png output_subarea ">
<img src="data:image/png;base64,iVBORw0KGgoAAAANSUhEUgAAAY4AAAEbCAYAAADNr2OMAAAABHNCSVQICAgIfAhkiAAAAAlwSFlz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"
>
</div>

</div>

</div>
</div>

</div>
<div class="cell border-box-sizing text_cell rendered">
<div class="prompt input_prompt">
</div>
<div class="inner_cell">
<div class="text_cell_render border-box-sizing rendered_html">
<p>Now I again select the maximum value</p>
</div>
</div>
</div>
<div class="cell border-box-sizing code_cell rendered">
<div class="input">
<div class="prompt input_prompt">
In&nbsp;[105]:
</div>
<div class="inner_cell">
    <div class="input_area">
<div class="highlight"><pre><span class="n">mMax</span> <span class="o">=</span> <span class="n">np</span><span class="o">.</span><span class="n">max</span><span class="p">(</span><span class="n">m</span><span class="p">)</span>  <span class="c">#selects the maximum value in the list of saved masses</span>
<span class="n">index</span> <span class="o">=</span> <span class="n">sp</span><span class="o">.</span><span class="n">where</span><span class="p">(</span><span class="n">m</span> <span class="o">==</span> <span class="n">mMax</span><span class="p">)</span> <span class="c">#selects the index for the maximum mass</span>
<span class="n">tempLimit</span> <span class="o">=</span> <span class="n">tempList</span><span class="p">[</span><span class="n">index</span><span class="p">]</span>
</pre></div>

</div>
</div>
</div>

</div>
<div class="cell border-box-sizing code_cell rendered">
<div class="input">
<div class="prompt input_prompt">
In&nbsp;[106]:
</div>
<div class="inner_cell">
    <div class="input_area">
<div class="highlight"><pre><span class="k">print</span> <span class="n">tempLimit</span><span class="p">[</span><span class="mi">0</span><span class="p">]</span>
</pre></div>

</div>
</div>
</div>

<div class="output_wrapper">
<div class="output">


<div class="output_area"><div class="prompt"></div>
<div class="output_subarea output_stream output_stdout output_text">
<pre>
35.3762376238

</pre>
</div>
</div>

</div>
</div>

</div>
<div class="cell border-box-sizing text_cell rendered">
<div class="prompt input_prompt">
</div>
<div class="inner_cell">
<div class="text_cell_render border-box-sizing rendered_html">
<p>From this we can see that the cloud can cool to a temperature of roughly <span class="math">\(T = 35 K\)</span> before it becomes unstable.</p>
</div>
</div>
</div>
<div class="cell border-box-sizing text_cell rendered">
<div class="prompt input_prompt">
</div>
<div class="inner_cell">
<div class="text_cell_render border-box-sizing rendered_html">
<h2 id="3.-Free-fall-collapse-of-a-cloud">3. Free-fall collapse of a cloud<a class="anchor-link" href="#3.-Free-fall-collapse-of-a-cloud">&#182;</a></h2>
</div>
</div>
</div>

<div class="cell border-box-sizing text_cell rendered">
<div class="prompt input_prompt">
</div>
<div class="inner_cell">
<div class="text_cell_render border-box-sizing rendered_html">
<p><strong>Q:</strong></p>
<p>The collapse of a Bonnor-Ebert sphere gives rise to a system of differential equations that have to be solved numerically. To get a rough idea of how a cloud behaves under collapse, let us study an even simpler case: a homogeneous sphere of gas without pressure, with gravitation being the only relevant force. The equation of motion can then be written</p>
<p><span class="math">\[
\ddot{r} = -\frac{G M_r}{r^2}
\]</span></p>
<p>where <span class="math">\(r\)</span> is the radius, <span class="math">\(M_r\)</span> is the mass interior to <span class="math">\(r\)</span>, and <span class="math">\(G\)</span> is the gravitational constant (as above).</p>
<ol style="list-style-type: lower-alpha">
<li>Let <span class="math">\(r(t=0) = r_0\)</span> and <span class="math">\(\dot{r}(t=0) = 0\)</span>, and show that</li>
</ol>
<p><span class="math">\[
\frac{\dot{r}}{r_0} = -\sqrt{\frac{2 G M_r}{r^3_0} \left(\frac{r_0}{r} -1 \right)}
\]</span></p>
</div>
</div>
</div>
<div class="cell border-box-sizing text_cell rendered">
<div class="prompt input_prompt">
</div>
<div class="inner_cell">
<div class="text_cell_render border-box-sizing rendered_html">
<ol start="2" style="list-style-type: lower-alpha">
<li>Introduce</li>
</ol>
<p><span class="math">\[
\cos^2(\xi) = \frac{r}{r_0}
\]</span></p>
<p>and show that</p>
<p><span class="math">\[
\xi +\frac{1}{2}\sin(2\xi) = t\sqrt{\frac{2 G M_r}{r^3_0}}
\]</span></p>
</div>
</div>
</div>
<div class="cell border-box-sizing text_cell rendered">
<div class="prompt input_prompt">
</div>
<div class="inner_cell">
<div class="text_cell_render border-box-sizing rendered_html">
<ol start="3" style="list-style-type: lower-alpha">
<li><p>How long does it take a shell to free-fall to the origin? Express the time in the initial density <span class="math">\(ρ_0\)</span>.</p></li>
<li><p>If the uniform sphere had the density <span class="math">\(ρ_0\)</span> = <span class="math">\(ρ_c\)</span> of Problem 2, what would be the total time for the free fall to the origin?</p></li>
<li><p>A wind can sometimes be modelled as antigravity working on gas. The relevant equation of motion would then be</p></li>
</ol>
<p><span class="math">\[
\ddot{r} = (\beta -1) \frac{G M_r}{r^2}
\]</span></p>
<p>where <span class="math">\(\beta &gt; 1\)</span>. What are the equations in this case, corresponding to equations 2–4?</p>
</div>
</div>
</div>
<div class="cell border-box-sizing text_cell rendered">
<div class="prompt input_prompt">
</div>
<div class="inner_cell">
<div class="text_cell_render border-box-sizing rendered_html">
<p><strong>A:</strong></p>
<p>a)</p>
<p>One way to show this is to look at a unit mass <span class="math">\(m\)</span> at the edge of the sphere and sometime later as it falls in. For conservation of energy to hold the total energy should then be the same before and after. In other words the sum of potential and kinetic energy of the unit mass before and after should be the same. From this condition I derive the relation by hand below below:</p>
</div>
</div>
</div>
<div class="cell border-box-sizing code_cell rendered">
<div class="input">
<div class="prompt input_prompt">
In&nbsp;[107]:
</div>
<div class="inner_cell">
    <div class="input_area">
<div class="highlight"><pre><span class="n">Image</span><span class="p">(</span><span class="s">&#39;freefall.png&#39;</span><span class="p">)</span>
</pre></div>

</div>
</div>
</div>

<div class="output_wrapper">
<div class="output">


<div class="output_area"><div class="prompt output_prompt">
    Out[107]:</div>


<div class="output_png output_subarea output_pyout">
<img src="data:image/png;base64,iVBORw0KGgoAAAANSUhEUgAABQAAAAcSCAYAAADBZU1OAAAABHNCSVQICAgIfAhkiAABoPRJREFU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==
"
>
</div>

</div>

</div>
</div>

</div>
<div class="cell border-box-sizing text_cell rendered">
<div class="prompt input_prompt">
</div>
<div class="inner_cell">
<div class="text_cell_render border-box-sizing rendered_html">
<p>b)</p>
<p>I have no solution for this!</p>
</div>
</div>
</div>
<div class="cell border-box-sizing text_cell rendered">
<div class="prompt input_prompt">
</div>
<div class="inner_cell">
<div class="text_cell_render border-box-sizing rendered_html">
<p>c)</p>
<p>The virial theorem states that</p>
<p><span class="math">\[
\frac{1}{2}\frac{\delta^2 I}{\delta t^2} = 2T + 2U +W +M
\]</span></p>
<p>where <span class="math">\(I\)</span> is the moment of inertia, <span class="math">\(T\)</span> is the total kinetic energy, <span class="math">\(U\)</span> is the total thermal energy, <span class="math">\(W\)</span> is the gravitational energy and <span class="math">\(M\)</span> is the magnetic energy. To calculate the free fall time we assume that <span class="math">\(W\)</span> dominates and we only have</p>
<p><span class="math">\[
\frac{1}{2}\frac{\delta^2 I}{\delta t^2} = W.
\]</span></p>
<p>If <span class="math">\(W \approx -\frac{G M^2}{R}\)</span> and <span class="math">\(I \approx M R^2\)</span> where <span class="math">\(R\)</span> is the radius of the cloud, then we have that</p>
<p><span class="math">\[
\frac{1}{2}\frac{\delta^2 (M R^2)}{\delta t^2} = -\frac{GM^2}{R} \Rightarrow \frac{\delta^2 (R^2)}{\delta t^2} = -\frac{2G M}{R}.
\]</span></p>
<p>If we now a make the approximation (which I can not justify)</p>
<p><span class="math">\[
\frac{\delta^2 (R^2)}{\delta t^2} \approx \frac{R^2}{\tau^2_{ff}}
\]</span></p>
<p>we have that</p>
<p><span class="math">\[
\tau_{ff} = \sqrt{\frac{R^3}{2G M}}.
\]</span></p>
<p>We know that <span class="math">\(M = \rho V = \rho \frac{4\pi R^3}{3}\)</span> and if we insert this in the abow equation we get</p>
<p><span class="math">\[
\tau_{ff} = \sqrt{\frac{1}{2.25 G \rho_0 \pi  }}
\]</span></p>
</div>
</div>
</div>
<div class="cell border-box-sizing text_cell rendered">
<div class="prompt input_prompt">
</div>
<div class="inner_cell">
<div class="text_cell_render border-box-sizing rendered_html">
<p>d)</p>
<p>If we put in <span class="math">\(\rho_0 = \rho_c = 7.5 \cdot 10^{-20}\)</span> and calculate <span class="math">\(\tau_{ff}\)</span> we get</p>
</div>
</div>
</div>
<div class="cell border-box-sizing code_cell rendered">
<div class="input">
<div class="prompt input_prompt">
In&nbsp;[108]:
</div>
<div class="inner_cell">
    <div class="input_area">
<div class="highlight"><pre><span class="n">tauff</span> <span class="o">=</span> <span class="n">np</span><span class="o">.</span><span class="n">sqrt</span><span class="p">(</span><span class="mi">1</span><span class="o">/</span><span class="p">(</span><span class="mi">2</span><span class="o">*</span><span class="mf">1.25</span><span class="o">*</span><span class="n">rho_c</span><span class="o">*</span><span class="n">con</span><span class="o">.</span><span class="n">G</span><span class="o">.</span><span class="n">cgs</span><span class="o">.</span><span class="n">value</span><span class="o">*</span><span class="n">np</span><span class="o">.</span><span class="n">pi</span><span class="p">))</span>
</pre></div>

</div>
</div>
</div>

</div>
<div class="cell border-box-sizing code_cell rendered">
<div class="input">
<div class="prompt input_prompt">
In&nbsp;[109]:
</div>
<div class="inner_cell">
    <div class="input_area">
<div class="highlight"><pre><span class="k">print</span> <span class="n">tauff</span>
</pre></div>

</div>
</div>
</div>

<div class="output_wrapper">
<div class="output">


<div class="output_area"><div class="prompt"></div>
<div class="output_subarea output_stream output_stdout output_text">
<pre>
5.0435523424e+12

</pre>
</div>
</div>

</div>
</div>

</div>
<div class="cell border-box-sizing text_cell rendered">
<div class="prompt input_prompt">
</div>
<div class="inner_cell">
<div class="text_cell_render border-box-sizing rendered_html">
<p>This is in seconds and I want the answer in years sp I divide by the number of seconds in a year</p>
</div>
</div>
</div>
<div class="cell border-box-sizing code_cell rendered">
<div class="input">
<div class="prompt input_prompt">
In&nbsp;[110]:
</div>
<div class="inner_cell">
    <div class="input_area">
<div class="highlight"><pre><span class="k">print</span> <span class="n">tauff</span><span class="o">/</span><span class="p">(</span><span class="mi">60</span><span class="o">*</span><span class="mi">60</span><span class="o">*</span><span class="mi">24</span><span class="o">*</span><span class="mi">365</span><span class="p">)</span>
</pre></div>

</div>
</div>
</div>

<div class="output_wrapper">
<div class="output">


<div class="output_area"><div class="prompt"></div>
<div class="output_subarea output_stream output_stdout output_text">
<pre>
159929.995637

</pre>
</div>
</div>

</div>
</div>

</div>
<div class="cell border-box-sizing text_cell rendered">
<div class="prompt input_prompt">
</div>
<div class="inner_cell">
<div class="text_cell_render border-box-sizing rendered_html">
<p>We then get that the free fall time is roughly 159930 years.</p>
</div>
</div>
</div>
<div class="cell border-box-sizing text_cell rendered">
<div class="prompt input_prompt">
</div>
<div class="inner_cell">
<div class="text_cell_render border-box-sizing rendered_html">
<p>e)</p>
<p>I show this in the same way as in a):</p>
</div>
</div>
</div>
<div class="cell border-box-sizing code_cell rendered">
<div class="input">
<div class="prompt input_prompt">
In&nbsp;[111]:
</div>
<div class="inner_cell">
    <div class="input_area">
<div class="highlight"><pre><span class="n">Image</span><span class="p">(</span><span class="s">&#39;freefallWind.png&#39;</span><span class="p">)</span>
</pre></div>

</div>
</div>
</div>

<div class="output_wrapper">
<div class="output">


<div class="output_area"><div class="prompt output_prompt">
    Out[111]:</div>


<div class="output_png output_subarea output_pyout">
<img src="data:image/png;base64,iVBORw0KGgoAAAANSUhEUgAABQAAAAcSCAYAAADBZU1OAAAABHNCSVQICAgIfAhkiAABub5JREFU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"
>
</div>

</div>

</div>
</div>

</div>
    </div>
  </div>
</body>
</html>
