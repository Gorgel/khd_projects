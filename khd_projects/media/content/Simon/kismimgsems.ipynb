{
 "metadata": {
  "name": "",
  "signature": "sha256:9a764f12579ad45b10a2980fddeb07775fb603cbc846b07329f51d1f3abed56f"
 },
 "nbformat": 3,
 "nbformat_minor": 0,
 "worksheets": [
  {
   "cells": [
    {
     "cell_type": "heading",
     "level": 1,
     "metadata": {},
     "source": [
      "2. Stability of an Isothermal cloud"
     ]
    },
    {
     "cell_type": "markdown",
     "metadata": {},
     "source": [
      "A spherically symmetric isothermal cloud satisfies the isothermal Lane-Emden equation\n",
      "\n",
      "$$\n",
      "\\frac{1}{\\xi^2} \\frac{d}{d\\xi} \\left(\\xi^2 \\frac{d \\psi}{d\\xi} \\right) = \\exp (-\\psi)\n",
      "$$\n",
      "\n",
      "(equation 9.7 in Stahler & Palla), where\n",
      "\n",
      "$$\n",
      "\\xi = r \\sqrt{\\frac{4\\pi G \\rho_c}{c_s^2}}\n",
      "$$\n",
      "\n",
      "$\\psi = \\Phi / c_s^2$ , $c_s = \\sqrt{RT /\\mu}$ is the sound speed, $\\Phi$ is the gravitational potential, $G =\n",
      "6.67 \\cdot 10^{\u221211}$ m$^3$ kg$^{\u22121}$ s$^{\u22122}$ is the gravitational constant, $R = 8.31 \\cdot 10^7$ erg g$^{\u22121}$ K$^{\u22121}$ is the\n",
      "gas constant, $\\mu$ is the mean molecular weight, $T$ is the gas temperature, and $\\rho_c$ is the\n",
      "central density.\n",
      "\n",
      "Let $\\mu = 2$, $T = 25$ K, $\\rho_c = 7.5\\cdot 10^{\u221220}$ g cm$^{\u22123}$ and assume the equation of state\n",
      "$P = \\rho c_s^2$ , where $P$ is the pressure and $\\rho$ the density. Assume an external pressure of\n",
      "$P_{\\text{ext}} = 8.0 \\cdot 10^{\u221213}$ Pa from the interstellar medium is being applied on the sphere.\n",
      "\n",
      "(a) What is the sound speed?\n",
      "\n",
      "(b) What is the mass of the sphere? You may use Figs. 1 & 2 to read out values\n",
      "derived from the solution of the differential equation.\n",
      "\n",
      "(c) Imagine that the external pressure starts to rise. How high can it rise before the\n",
      "sphere becomes unstable?\n",
      "\n",
      "(d) Assume instead that the clouds starts to (isothermally) cool. How much can it\n",
      "cool before the sphere becomes unstable?\n",
      "\n",
      "(e) Solve the isothermal Lane-Emden equation numerically, and reproduce Figs. 1 & 2.\n",
      "To solve the differential equation, show that it is equivalent to solve the non-linear\n",
      "system of ordinary first-order differential equations\n",
      "\n",
      "$$\n",
      "y'_0 = y_1\n",
      "$$\n",
      "\n",
      "$$\n",
      "y'_1 = \\exp(-y_0) - \\frac{2}{\\xi} y_1\n",
      "$$\n",
      "\n",
      "where the prime signifies derivation with respect to $\\xi$ , $y_0 = \\psi $, and the initial\n",
      "condition is $y_0 = y_1 = 0$. This may then be solved by e.g. Euler\u2019s method, i.e.\n",
      "start from the initial condition, and iteratively compute\n",
      "\n",
      "$$\n",
      "y_i(\\xi_{n+1}) = y_i(\\xi_n) + y'_i\\left[\\xi_n , y_1(\\xi_n), y_2(\\xi_n)\\right]\\Delta \\xi_n\n",
      "$$\n",
      "\n",
      "where $\\Delta \\xi_n = \\xi_{n+1} \u2212 \\xi_n$ is the length step and $i \\in \\lbrace 1, 2\\rbrace$. Check that the solution\n",
      "converges as $\\Delta \\xi \\rightarrow 0$ $(\\forall n)$. You are of course welcome to solve the differential\n",
      "equation by other means (e.g. by using Mathematica, Maple, or MATLAB)."
     ]
    },
    {
     "cell_type": "markdown",
     "metadata": {},
     "source": [
      "a)\n",
      "\n",
      "The sound speed is defined as $c_s = \\sqrt{RT /\\mu}$. I make a small calculation below with given constants"
     ]
    },
    {
     "cell_type": "code",
     "collapsed": false,
     "input": [
      "import astropy.units as u\n",
      "\n",
      "mu = 2\n",
      "T = 25*u.Kelvin\n",
      "R = 8.31*10**7 *(u.erg*u.gram**-1 *u.Kelvin**-1)\n",
      "\n",
      "cs = np.sqrt(R*T/mu)\n",
      "cs"
     ],
     "language": "python",
     "metadata": {},
     "outputs": [
      {
       "latex": [
        "$32229.6 \\; \\mathrm{\\frac{erg^{1/2}}{g^{1/2}}}$"
       ],
       "metadata": {},
       "output_type": "pyout",
       "prompt_number": 116,
       "text": [
        "<Quantity 32229.64473896664 erg(1/2) / g(1/2)>"
       ]
      }
     ],
     "prompt_number": 116
    },
    {
     "cell_type": "markdown",
     "metadata": {},
     "source": [
      "Lets turn it into SI units"
     ]
    },
    {
     "cell_type": "code",
     "collapsed": false,
     "input": [
      "cs.decompose()"
     ],
     "language": "python",
     "metadata": {},
     "outputs": [
      {
       "latex": [
        "$322.296 \\; \\mathrm{\\frac{m}{s}}$"
       ],
       "metadata": {},
       "output_type": "pyout",
       "prompt_number": 117,
       "text": [
        "<Quantity 322.2964473896664 m / s>"
       ]
      }
     ],
     "prompt_number": 117
    },
    {
     "cell_type": "markdown",
     "metadata": {},
     "source": [
      "Before moving on to the next questions i choose to solve the differential equation right away; reproducing plots 1 and 2.\n"
     ]
    },
    {
     "cell_type": "markdown",
     "metadata": {},
     "source": [
      "e) and  b)\n",
      "\n",
      "To solve the differential equation I use a ODE solver in scipy. \n"
     ]
    },
    {
     "cell_type": "code",
     "collapsed": false,
     "input": [
      "%matplotlib inline\n",
      "from __future__ import division\n",
      "from scipy import integrate\n",
      "\n",
      "P_ext = 8*10**-12\t\t# -13 in Pa, -12 in cgs units (bary 'barr-ee')\n",
      "rho_ext = P_ext/(cs.value**2)\t\t#7.7*10^-22 g cm^-3\n",
      "rho_c = 7.5*10**-20\n",
      "rho_ratio = rho_ext/rho_c\t#0.1\n",
      "psi_ext = -sp.log(P_ext/(rho_c*cs.value**2))\n",
      "\n",
      "\n",
      "def f(y, t):\n",
      "    y0 = y[0]\n",
      "    y1 = y[1]\n",
      "\n",
      "    f0 = y1\n",
      "    f1 = sp.exp(-y0) - (2/t)*y1\n",
      "    return [f0, f1]\n",
      "\n",
      "y_init = [0, 0]         #create a list with initial conditions\n",
      "t = sp.linspace(0.0001, 6, 5000)         #create a list with equidistant integration \"steps\" (start,stop, nr of steps)\n",
      "\n",
      "#Python ODE solver. Takes the function f, inital conditions y_init and steps t as input\n",
      "solu = sp.integrate.odeint(f, y_init, t)\n",
      "psi = solu[:,0]          #saves the psi values in list psi\n",
      "psi_diff = solu[:,1]     #saves the derivative of psi in list psi_diff\n",
      "\n",
      "\n",
      "rho_frac = sp.exp(-psi)     #calculates the fraction rho/rho_c\n",
      "\n",
      "xi_ext_index_list = sp.where(rho_frac < rho_ratio)     #selects the indexes from the list of rho/rho_c values that are < rho_ratio \n",
      "xi_ext_index = xi_ext_index_list[0][0]         #select first element in list.\n",
      "xi_ext = t[xi_ext_index]         #uses the selected index to pick out the radius where the bonnor-evert sphere ends \n",
      "\n",
      "# plot the results\n",
      "font = {'family' : 'ubuntu',\n",
      "        'size'   : 13}\n",
      "\n",
      "plt.rc('font', **font)\n",
      "plt.figure(1)\n",
      "plt.plot(t, psi, color='blue', linewidth = 2, label='$\\psi$')\n",
      "plt.plot(t, rho_frac, color='red', linewidth = 2,label='$\\\\rho$/$\\\\rho_c$')\n",
      "plt.xlabel('Nondimentsional radius $\\\\xi$')\n",
      "plt.legend()\n",
      "plt.show()"
     ],
     "language": "python",
     "metadata": {},
     "outputs": [
      {
       "metadata": {},
       "output_type": "display_data",
       "png": "[encoded data removed]",
       "text": [
        "<matplotlib.figure.Figure at 0x4f26ed0>"
       ]
      }
     ],
     "prompt_number": 118
    },
    {
     "cell_type": "markdown",
     "metadata": {},
     "source": [
      "This reproduces plot one perfectly. To produce the Second plot I create a for-loop that loops over a list with different external pressures from $10^{-10}$ to $10^{-15}$ Ba (barye). In each loop the differential equation is solved and the dimensionless mass $m$ is calculated from\n",
      "\n",
      "$$\n",
      "m = \\sqrt{\\frac{\\rho_{\\text{ext}}}{4\\pi \\rho_c}} \\left( \\xi^2 \\frac{d\\psi}{d\\xi}\\right) \\vert_{\\xi = \\xi-ext}.\n",
      "$$\n",
      "\n",
      "which can be found from integrating shells as\n",
      "\n",
      "$$\n",
      "M = \\int \\rho 4\\pi r^2 dr = 4\\pi \\rho_c \\left( \\frac{c_S^2}{4\\pi G \\rho_c} \\right)^{3/2} \\left[\\xi^2 \\frac{d\\psi}{d\\xi} \\right]_0^{\\xi_{ext}}\n",
      "$$"
     ]
    },
    {
     "cell_type": "code",
     "collapsed": false,
     "input": [
      "m = np.array([])         #create an empty array for storing dimensionless mass values\n",
      "rho_ext_frac = np.array([])         #create an empty array for storing values of the fraction rho_c/rho_ext\n",
      "PextList = np.linspace(10**-10,10**-15,10000)         #make a list of external pressures\n",
      "\n",
      "##########################\n",
      "#\n",
      "# this for-loop loopes over the list of external pressures creating a\n",
      "# different endpoint on the bonnor-ebert sphere in each loop.\n",
      "#\n",
      "#########################\n",
      "for P_ext in PextList:\n",
      "    rho_ext = P_ext/(cs.value**2)\n",
      "    rho_c = 7.5*10**-20\n",
      "    rho_ratio = rho_ext/rho_c\t#0.1\n",
      "    psi_ext = -sp.log(P_ext/(rho_c*cs.value**2))\n",
      "\n",
      "    def f(y, t):\n",
      "        y0 = y[0]\n",
      "        y1 = y[1]\n",
      "\n",
      "        f0 = y1\n",
      "        f1 = sp.exp(-y0) - (2/t)*y1\n",
      "        return [f0, f1]\n",
      "\n",
      "    \n",
      "    \n",
      "    y_init = [0, 0]         #create a list with initial conditions\n",
      "    t = sp.linspace(0.0001, 500, 10000)         #create a list with equidistant integration \"steps\" (start,stop, nr of steps)\n",
      "\n",
      "    #Python ODE solver. Takes the function f, inital conditions y_init and steps t as input\n",
      "    solu = sp.integrate.odeint(f, y_init, t)\n",
      "    psi = solu[:,0]          #saves the psi values in list psi\n",
      "    psi_diff = solu[:,1]     #saves the derivative of psi in list psi_diff\n",
      "\n",
      "\n",
      "    rho_frac = sp.exp(-psi)     #calculates the fraction rho/rho_c\n",
      "\n",
      "    xi_ext_index_1ist = sp.where(rho_frac < rho_ratio)     #selects the indexes from the list of rho/rho_c values that are < rho_ratio \n",
      "    xi_ext_index = xi_ext_index_1ist[0][0]         #select first element in list.\n",
      "    xi_ext = t[xi_ext_index]         #uses the selected index to pick out the radius where the bonnor-evert sphere ends \n",
      "    \n",
      "    m_calc = np.sqrt(rho_ext/(4*np.pi*rho_c))*((xi_ext**2)*psi_diff[xi_ext_index])     #calculates the dimensionless mass\n",
      "    rho_ext_frac = np.append(rho_ext_frac, np.log10((rho_c/rho_ext)))     #calculates rho_c/rho_ext and appends it to an array\n",
      "    m = np.append(m,m_calc)     #append calculated dimensionless mass to array\n",
      "    \n",
      "    \n",
      "    \n",
      "# plot the results\n",
      "font = {'family' : 'ubuntu',\n",
      "        'weight' : 'bold',\n",
      "        'size'   : 13}\n",
      "\n",
      "plt.rc('font', **font)\n",
      "plt.figure(2)\n",
      "plt.plot(rho_ext_frac, m, color='blue', linewidth = 2)\n",
      "plt.xlabel('Density Contrast $\\log(\\\\rho_c/\\\\rho_0)$')\n",
      "plt.ylabel('Cloud mass $m$')\n",
      "plt.show()"
     ],
     "language": "python",
     "metadata": {},
     "outputs": [
      {
       "metadata": {},
       "output_type": "display_data",
       "png": "[encoded data removed]",
       "text": [
        "<matplotlib.figure.Figure at 0x4f0c1d0>"
       ]
      }
     ],
     "prompt_number": 119
    },
    {
     "cell_type": "markdown",
     "metadata": {},
     "source": [
      "c)\n",
      "\n",
      "As we increase the external pressure this causes a compression that in turn causes an increase in the internal pressure. This pressure then makes the cloud expand and we have a kind of oscillatory motion of the cloud. However after a certain increase the cloud has a harder time expanding. To the right of the cloud mass maximum of $\\approx 1.2$ gravity is dominating and the cloud no longer is stable. We therefore have a maximum pressure where we have a maximum cloud mass $m$.\n",
      "\n",
      "To find the maximum I simply selects the maximum value of the curve and selects the corresponding external pressure with the following code."
     ]
    },
    {
     "cell_type": "code",
     "collapsed": false,
     "input": [
      "mMax = np.max(m)  #selects the maximum value in the list of saved masses\n",
      "index = sp.where(m == mMax) #selects the index for the maximum mass\n",
      "pressureLimit = PextList[index]"
     ],
     "language": "python",
     "metadata": {},
     "outputs": [],
     "prompt_number": 120
    },
    {
     "cell_type": "code",
     "collapsed": false,
     "input": [
      "print pressureLimit[0]"
     ],
     "language": "python",
     "metadata": {},
     "outputs": [
      {
       "output_type": "stream",
       "stream": "stdout",
       "text": [
        "5.76151845185e-12\n"
       ]
      }
     ],
     "prompt_number": 121
    },
    {
     "cell_type": "markdown",
     "metadata": {},
     "source": [
      "We therefore have the limit where the cloud becomes gravitationally unstabe at roughly $P_{ext} = 5.762 \\cdot 10^{-13}$ Pa"
     ]
    },
    {
     "cell_type": "markdown",
     "metadata": {},
     "source": [
      "d)\n",
      "\n",
      "To investigate how much the cloud can cool before it becomes unstable i solve it in a similar way as in c) but instead of iterating over different pressures I iterate over different temperatures."
     ]
    },
    {
     "cell_type": "code",
     "collapsed": false,
     "input": [
      "m = np.array([])         #create an empty array for storing dimensionless mass values\n",
      "rho_ext_frac = np.array([])         #create an empty array for storing values of the fraction rho_c/rho_ext\n",
      "tempList = np.linspace(1,100,10000)         #make a list of temperatures\n",
      "\n",
      "##########################\n",
      "#\n",
      "# this for-loop loopes over the list of temperatures creating a\n",
      "# different endpoint on the bonnor-ebert sphere in each loop.\n",
      "#\n",
      "#########################\n",
      "for T in tempList:\n",
      "    P_ext = 8*10**-12\n",
      "    cs = np.sqrt(R*T/mu)\n",
      "    rho_ext = P_ext/(cs.value**2)\t\t#7.7*10^-22 g cm^-3\n",
      "    rho_c = 7.5*10**-20\n",
      "    rho_ratio = rho_ext/rho_c\t#0.1\n",
      "    psi_ext = -sp.log(P_ext/(rho_c*cs.value**2))\n",
      "\n",
      "    #defining a function that takes input argument y? explanation needed!\n",
      "    def f(y, t):\n",
      "        y0 = y[0]\n",
      "        y1 = y[1]\n",
      "\n",
      "        f0 = y1\n",
      "        f1 = sp.exp(-y0) - (2/t)*y1\n",
      "        return [f0, f1]\n",
      "\n",
      "    \n",
      "    \n",
      "    y_init = [0, 0]         #create a list with initial conditions\n",
      "    t = sp.linspace(0.0001, 500, 10000)         #create a list with equidistant integration \"steps\" (start,stop, nr of steps)\n",
      "\n",
      "    #Python ODE solver. Takes the function f, inital conditions y_init and steps t as input\n",
      "    solu = sp.integrate.odeint(f, y_init, t)\n",
      "    psi = solu[:,0]          #saves the psi values in list psi\n",
      "    psi_diff = solu[:,1]     #saves the derivative of psi in list psi_diff\n",
      "\n",
      "\n",
      "    rho_frac = sp.exp(-psi)     #calculates the fraction rho/rho_c\n",
      "\n",
      "    xi_ext_index_1ist = sp.where(rho_frac < rho_ratio)     #selects the indexes from the list of rho/rho_c values that are < rho_ratio \n",
      "    xi_ext_index = xi_ext_index_1ist[0][0]         #select first element in list.\n",
      "    xi_ext = t[xi_ext_index]         #uses the selected index to pick out the radius where the bonnor-evert sphere ends \n",
      "    \n",
      "    m_calc = np.sqrt(rho_ext/(4*np.pi*rho_c))*((xi_ext**2)*psi_diff[xi_ext_index])     #calculates the dimensionless mass\n",
      "    rho_ext_frac = np.append(rho_ext_frac, np.log10((rho_c/rho_ext)))     #calculates rho_c/rho_ext and appends it to an array\n",
      "    m = np.append(m,m_calc)     #append calculated dimensionless mass to array\n",
      "    \n",
      "    \n",
      "# plot the results\n",
      "font = {'family' : 'ubuntu',\n",
      "        'weight' : 'bold',\n",
      "        'size'   : 13}\n",
      "\n",
      "plt.rc('font', **font)\n",
      "plt.figure(2)\n",
      "plt.plot(rho_ext_frac, m, color='blue', linewidth = 2)\n",
      "plt.xlabel('Density Contrast $\\log(\\\\rho_c/\\\\rho_0)$')\n",
      "plt.ylabel('Cloud mass $m$')\n",
      "plt.show()"
     ],
     "language": "python",
     "metadata": {},
     "outputs": [
      {
       "metadata": {},
       "output_type": "display_data",
       "png": "[encoded data removed]",
       "text": [
        "<matplotlib.figure.Figure at 0x4f3a2d0>"
       ]
      }
     ],
     "prompt_number": 122
    },
    {
     "cell_type": "code",
     "collapsed": false,
     "input": [
      "mMax = np.max(m)  #selects the maximum value in the list of saved masses\n",
      "index = sp.where(m == mMax) #selects the index for the maximum mass\n",
      "tempLimit = tempList[index]"
     ],
     "language": "python",
     "metadata": {},
     "outputs": [],
     "prompt_number": 123
    },
    {
     "cell_type": "code",
     "collapsed": false,
     "input": [
      "print tempLimit[0]"
     ],
     "language": "python",
     "metadata": {},
     "outputs": [
      {
       "output_type": "stream",
       "stream": "stdout",
       "text": [
        "35.3762376238\n"
       ]
      }
     ],
     "prompt_number": 124
    },
    {
     "cell_type": "markdown",
     "metadata": {},
     "source": [
      "From this we can see that the cloud can cool to a temperature of roughly $T = 35 K$ before it becomes unstable."
     ]
    },
    {
     "cell_type": "code",
     "collapsed": false,
     "input": [],
     "language": "python",
     "metadata": {},
     "outputs": [],
     "prompt_number": 124
    }
   ],
   "metadata": {}
  }
 ]
}