{
 "metadata": {
  "name": "",
  "signature": "sha256:96df009d383a630c557ce4aea7c170e090333ac7dcf1e29aab730d64028e3bff"
 },
 "nbformat": 3,
 "nbformat_minor": 0,
 "worksheets": [
  {
   "cells": [
    {
     "cell_type": "heading",
     "level": 1,
     "metadata": {},
     "source": [
      "Star and planet formation - Problem set 2"
     ]
    },
    {
     "cell_type": "markdown",
     "metadata": {},
     "source": [
      "Simon Karlsson\n",
      "\n",
      "E-mail: skrotupplag@hotmail.com\n",
      "\n",
      "Date: 140518"
     ]
    },
    {
     "cell_type": "code",
     "collapsed": false,
     "input": [
      "from __future__ import division\n",
      "from astropy import constants as con\n",
      "import scipy as sp\n",
      "import matplotlib.pyplot as plt\n",
      "from scipy.integrate import odeint\n",
      "import numpy as np\n",
      "from astropy import units as u\n",
      "from IPython.display import Image"
     ],
     "language": "python",
     "metadata": {},
     "outputs": [],
     "prompt_number": 33
    },
    {
     "cell_type": "heading",
     "level": 2,
     "metadata": {},
     "source": [
      "\n",
      "1.  Dust temperatures"
     ]
    },
    {
     "cell_type": "markdown",
     "metadata": {},
     "source": [
      "**Q:**\n",
      "\n",
      "(a) \n",
      "\n",
      "Consider relatively large (about 50 \u03bcm in radius) grains that have a grey (e.g.\n",
      "constant) absorption opacity: $\\kappa_{abs} = \\kappa_{\u03baabs}$ ,0 = 100 cm2 g$^{\u22121}$ . Let\u2019s say this dust\n",
      "grain is an olivine grain which will evaporate at temperatures above 1400 K. At\n",
      "what distance from the centre of a star will the grain start to evaporate, consid-\n",
      "ering first the Sun ($T$ = 5777 K) and secondly a nice and fresh white dwarf ($T$\n",
      "= 150 000 K, $R$ = 0.01 R ). Give your answer in AU and stellar radii. Are these\n",
      "distances dependent on the values of the opacities? How would this change if the\n",
      "opacities were not constant?\n"
     ]
    },
    {
     "cell_type": "markdown",
     "metadata": {},
     "source": [
      "(b)\n",
      "\n",
      "Now imagine a particle that has a high absorption in the optical\n",
      "\n",
      "\\begin{equation}\n",
      "\\kappa(\\lambda)_{abs,1}=\\begin{cases}\n",
      "    500 \\text{ cm}^2 \\text{g}^{-1} \\quad \\lambda(\\mu m) < 3.0 \\\\\n",
      "    100 \\text{ cm}^2 \\text{g}^{-1} \\quad \\lambda(\\mu m) < 3.0 \\\\\n",
      "      \\end{cases}\n",
      "\\end{equation} \n",
      "\n",
      "And another one that has a very low absorption in the optical:\n",
      "\n",
      "\\begin{equation}\n",
      "\\kappa(\\lambda)_{abs,2}=\\begin{cases}\n",
      "    0.0 \\text{ cm}^2 \\text{g}^{-1} \\quad \\lambda(\\mu m) < 3.0 \\\\\n",
      "    100 \\text{ cm}^2 \\text{g}^{-1} \\quad \\lambda(\\mu m) < 3.0 \\\\\n",
      "      \\end{cases}\n",
      "\\end{equation} \n",
      "\n",
      "At the same distance to the Sun, which particle is hotter? Explain why."
     ]
    },
    {
     "cell_type": "markdown",
     "metadata": {},
     "source": [
      "(c)\n",
      "\n",
      "So far we have only considered dust grains in an optically thin medium, meaning\n",
      "the dust grains are not influenced significantly by the radiation of their surround-\n",
      "ing dust grains. Now let\u2019s consider a region densely filled with dust grains so\n",
      "that the radiation field of the star heating this region does not reach into this\n",
      "region directly. A dust grain in this dense region is then only heated by the dust\n",
      "grains closely around itself. Now the temperature of the dust is coupled to the\n",
      "temperature of its surrounding dust grains in a complicated way. Let\u2019s consider\n",
      "a simple thought experiment. Consider a dust grain surrounded by many other\n",
      "dust grains (with the same opacity) that have a fixed temperature of $T$ = 100 K.\n",
      "What is the temperature of this surrounded dust grain? Explain.\n"
     ]
    },
    {
     "cell_type": "markdown",
     "metadata": {},
     "source": [
      "**A:**\n",
      "\n",
      "a)\n",
      "\n",
      "To solve this problem we consider the power absorbed and emitted from the grain at a radius $r$ from the star. We have that\n",
      "\n",
      "$$\n",
      "P_{abs} = \\int_0^{\\infty} F_{\\nu}(r) \\kappa_{\\nu} d\\nu\n",
      "$$\n",
      "\n",
      "where $F_{\\nu}(r)$ is the flux of the star at radius $r$ and $\\kappa$ is the absorption opacity. We can approximetly consider the sun as a blackbody emmitting with a temperature $T_{\\odot}$ as\n",
      "\n",
      "$$\n",
      "F_{\\nu}(r) = \\frac{\\pi B_{\\nu}(T_{\\odot}) R_{\\odot}^2}{r^2}\n",
      "$$\n",
      "\n",
      "and by assuming a constant opacity we and using boltzmans law to get\n",
      "\n",
      "$$\n",
      "P_{abs} = \\pi \\frac{R_{\\odot}^2}{r^2} = \\int_ 0^{\\infty} B_{\\nu}(T_{\\odot}) \\kappa_{nu} = \\pi \\frac{R_{\\odot}^2}{r^2} \\kappa_{abs} \\sigma T_{\\odot}^4\n",
      "$$\n",
      "\n",
      "Now we conider the emission of the grain, where we assume that the grain emmits as a blackbody. We then have\n",
      "\n",
      "$$\n",
      "P_{em} = 4\\pi \\int_0^{\\infty} B_{\\nu}(T_d) \\epsilon_{\\nu} d\\nu.\n",
      "$$\n",
      "\n",
      "If we can aproximate the emissivity with $\\epsilon = \\kappa_{em} = \\pi r_d^2, where $r_d$ is the radius of the dust grain we have\n",
      "\n",
      "$$\n",
      "P_{em} = 4\\pi^2 r_d^2 \\sigma T_d^4.\n",
      "$$\n",
      "\n",
      "If we now put $P_{em} = P_{abs}$ we have\n",
      "\n",
      "$$\n",
      "4\\pi^2 r_d^2 \\sigma T_d^4 = \\pi \\frac{R_{\\odot}^2}{r^2} \\kappa_{abs} \\sigma T_{\\odot}^4\n",
      "$$\n",
      "\n",
      "which we can simplify to\n",
      "\n",
      "$$\n",
      "r = \\frac{R_{\\odot} T_{\\odot}^2}{T_d^2}\\sqrt{\\frac{\\kappa_{abs}}{4\\pi r_d^2}}.\n",
      "$$\n",
      "\n",
      "To calculate this I make a small program below:"
     ]
    },
    {
     "cell_type": "code",
     "collapsed": false,
     "input": [
      "#initialising values\n",
      "rd = 50*10**-4 * u.centimeter\n",
      "kappaAbs = 100 * u.centimeter**2 *u.gram**-1\n",
      "kappaEm = np.pi*rd**2 *u.gram**-1\n",
      "Tdust = 1400 * u.Kelvin\n",
      "TSun = 5777 * u.Kelvin\n",
      "TDwarf = 150000 * u.Kelvin\n",
      "RSun = con.R_sun.cgs\n",
      "RDwarf = 0.01*RSun\n",
      "\n",
      "#calculating radius for sun\n",
      "r = np.sqrt(kappaAbs/kappaEm) * (RSun*TSun**2) /(2*Tdust**2)\n",
      "#converting to AU units\n",
      "rAU = r/con.au.cgs\n",
      "\n",
      "#calculating radius for white dwarf \n",
      "rDwarf = np.sqrt(kappaAbs/kappaEm) * (RDwarf*TDwarf**2) /(2*Tdust**2)\n",
      "rDwarfAU = rDwarf/con.au.cgs"
     ],
     "language": "python",
     "metadata": {},
     "outputs": [],
     "prompt_number": 34
    },
    {
     "cell_type": "markdown",
     "metadata": {},
     "source": [
      "By using the given values I calculate:"
     ]
    },
    {
     "cell_type": "code",
     "collapsed": false,
     "input": [
      "r"
     ],
     "language": "python",
     "metadata": {},
     "outputs": [
      {
       "latex": [
        "$6.68153\\times 10^{+14} \\; \\mathrm{cm}$"
       ],
       "metadata": {},
       "output_type": "pyout",
       "prompt_number": 35,
       "text": [
        "<Quantity 668152899124864.5 cm>"
       ]
      }
     ],
     "prompt_number": 35
    },
    {
     "cell_type": "code",
     "collapsed": false,
     "input": [
      "rAU"
     ],
     "language": "python",
     "metadata": {},
     "outputs": [
      {
       "latex": [
        "$44.6633 \\; \\mathrm{}$"
       ],
       "metadata": {},
       "output_type": "pyout",
       "prompt_number": 36,
       "text": [
        "<Quantity 44.66326265196397 >"
       ]
      }
     ],
     "prompt_number": 36
    },
    {
     "cell_type": "code",
     "collapsed": false,
     "input": [
      "rDwarf"
     ],
     "language": "python",
     "metadata": {},
     "outputs": [
      {
       "latex": [
        "$4.50457\\times 10^{+15} \\; \\mathrm{cm}$"
       ],
       "metadata": {},
       "output_type": "pyout",
       "prompt_number": 37,
       "text": [
        "<Quantity 4504573112075505.0 cm>"
       ]
      }
     ],
     "prompt_number": 37
    },
    {
     "cell_type": "code",
     "collapsed": false,
     "input": [
      "rDwarfAU"
     ],
     "language": "python",
     "metadata": {},
     "outputs": [
      {
       "latex": [
        "$301.112 \\; \\mathrm{}$"
       ],
       "metadata": {},
       "output_type": "pyout",
       "prompt_number": 38,
       "text": [
        "<Quantity 301.1121141629662 >"
       ]
      }
     ],
     "prompt_number": 38
    },
    {
     "cell_type": "markdown",
     "metadata": {},
     "source": [
      "This means that for the case of the solar system, the grain would start to evaporate at roughly 44.66 AU and in the white dwarf system at 301.11 AU. From\n",
      "\n",
      "$$\n",
      "r = \\frac{R_{\\odot} T_{\\odot}^2}{T_d^2}\\sqrt{\\frac{\\kappa_{abs}}{4\\pi r_d^2}}.\n",
      "$$\n",
      "\n",
      "we also see that the radius at which the grains start to evaporate is dependent on both the absorption opacity and emission opacity. For example if the absorption opacity where an linearly increasing function, this would mean that r would increase. In other words, the absorption would be increasing which means that the dust would increase its heating efficiency and therefore we would have to move it further awayfrom the star to place it in the sweet spot where it just starts to evaporate. "
     ]
    },
    {
     "cell_type": "markdown",
     "metadata": {},
     "source": [
      "b)\n",
      "\n",
      "Since the sun is emitting most of its energy in the optical part, it is rather clear that if both particles where to be put at the same distance from the sun and assuming they have an equal cooling efficiency, then the grain with the higher absorption opacity will be hotter. As Illustrated below, the grain with zero absorption in the optical will not be heated much since most of the suns photon will just pass through it. The grain with high absorption on the other hand will absorb much of the suns photons and will therefore have a much higher temperature."
     ]
    },
    {
     "cell_type": "code",
     "collapsed": false,
     "input": [
      "Image('opacityGraphs.png')"
     ],
     "language": "python",
     "metadata": {},
     "outputs": [
      {
       "metadata": {},
       "output_type": "pyout",
       "png": "[encoded data removed]",
       "prompt_number": 39,
       "text": [
        "<IPython.core.display.Image at 0x35564d0>"
       ]
      }
     ],
     "prompt_number": 39
    },
    {
     "cell_type": "markdown",
     "metadata": {},
     "source": [
      "c)\n",
      "\n",
      "The problem is completely dependent upon the form of the absorption and emission opacity of the grains. The problem is also completely dependent on whether the system is fed new energy or not. If the grains have a constant cross section and the system is not feed new energy the emitted radiation from the surrounding dust will be absorbed by the enclosed grain and then be reemitted. On the other hand if new energy is constantly feed into the system so that the surrounding dust emits continuously, then the surrounded dust grain will probably reach some equilibrium at a higher temperature than the other grains.\n",
      "\n"
     ]
    },
    {
     "cell_type": "heading",
     "level": 2,
     "metadata": {},
     "source": [
      "2. Scattering"
     ]
    },
    {
     "cell_type": "markdown",
     "metadata": {},
     "source": [
      "**Q:**\n",
      "\n",
      "(a) \n",
      "\n",
      "Sub-micron particles scatter dominantly in the forward direction. How much\n",
      "momentum would a photon of $\\lambda = 1 \\mu \\text{m}$  transfer to a grain if it was scattered this\n",
      "way?\n"
     ]
    },
    {
     "cell_type": "markdown",
     "metadata": {},
     "source": [
      "(b) \n",
      "\n",
      "Imagine a $\\lambda = 1 \\mu \\text{m}$ photon that is perfectly scattered backwards (reversal of its\n",
      "moving direction) on a dust grain. How much momentum is transferred to the\n",
      "grain by one such a scattering event?\n"
     ]
    },
    {
     "cell_type": "markdown",
     "metadata": {},
     "source": [
      "(c) Spherical particles have a more complicated scattering behaviour. The probability\n",
      "of scattering a photon in the direction that makes an angle $\\theta$ to the original\n",
      "direction of the photon is\n",
      "\n",
      "$$\n",
      "P(\\theta) d\\theta = \\frac{(1-\\cos(\\theta))}{2} d\\theta\n",
      "$$\n",
      "\n",
      "\n",
      "Would a grain that scatters this way feel any netto acceleration when it scatters\n",
      "$\\lambda = 1 \\mu \\text{m}$ photons? If so, in what direction? Explain.\n"
     ]
    },
    {
     "cell_type": "markdown",
     "metadata": {},
     "source": [
      "**A:**\n",
      "\n",
      "a)\n",
      "\n",
      "When a photon scatters with a sub-micron dust particle the momentum transfer can be described by\n",
      "\n",
      "$$\n",
      "\\Delta p = \\sqrt{2 m_d h \\nu} \\cos(\\theta)\n",
      "$$\n",
      "\n",
      "where $m_d$ is the mass of the dust particle, $h\\nu$ is the energy of the photon and $\\theta$ is the scattering angle. A forward scattering then corresponds to an angle $\\pi$. I calculate the momentum transfer with the small code below:"
     ]
    },
    {
     "cell_type": "code",
     "collapsed": false,
     "input": [
      "#initialising values\n",
      "c = con.c.cgs\n",
      "h = con.h.cgs\n",
      "Lambda = 10**-4 *u.centimeter\n",
      "nu = c/Lambda\n",
      "rhoDust = 3*u.gram * u.centimeter**-3 #assume density of 3 g cm-3\n",
      "rDust = 10**-4 *u.centimeter\n",
      "VolDust = (4/3)*np.pi*rDust**3 #calculate volume of dust grain\n",
      "mDust = rhoDust*VolDust #calculate mass of dust grain\n",
      "\n",
      "theta = np.pi #select angle (pi)\n",
      "deltapForward = (2*mDust*h*nu)**(1/2) * np.cos(theta) #calculates momentum transfer"
     ],
     "language": "python",
     "metadata": {},
     "outputs": [],
     "prompt_number": 40
    },
    {
     "cell_type": "markdown",
     "metadata": {},
     "source": [
      "I have assumed here a density of the grain of 3 g cm$^{-3}$"
     ]
    },
    {
     "cell_type": "code",
     "collapsed": false,
     "input": [
      "deltapForward.decompose().cgs"
     ],
     "language": "python",
     "metadata": {},
     "outputs": [
      {
       "latex": [
        "$-7.06575\\times 10^{-12} \\; \\mathrm{dyn\\,s}$"
       ],
       "metadata": {},
       "output_type": "pyout",
       "prompt_number": 41,
       "text": [
        "<Quantity -7.065750159927251e-12 dyn s>"
       ]
      }
     ],
     "prompt_number": 41
    },
    {
     "cell_type": "markdown",
     "metadata": {},
     "source": [
      "This then makes the photon transfer the momentum in the opposite direction with a magnitude of $7.06575 \\cdot 10^{-12}$ cm g s$^{-1}$"
     ]
    },
    {
     "cell_type": "markdown",
     "metadata": {},
     "source": [
      "b)\n",
      "\n",
      "A backwards scatter can be calculated by:"
     ]
    },
    {
     "cell_type": "code",
     "collapsed": false,
     "input": [
      "theta = 0\n",
      "deltapBackward = (2*mDust*h*nu)**(1/2) * np.cos(theta)"
     ],
     "language": "python",
     "metadata": {},
     "outputs": [],
     "prompt_number": 42
    },
    {
     "cell_type": "code",
     "collapsed": false,
     "input": [
      "deltapBackward"
     ],
     "language": "python",
     "metadata": {},
     "outputs": [
      {
       "latex": [
        "$7.06575\\times 10^{-12} \\; \\mathrm{erg^{1/2}\\,g^{1/2}}$"
       ],
       "metadata": {},
       "output_type": "pyout",
       "prompt_number": 43,
       "text": [
        "<Quantity 7.0657501599272526e-12 erg(1/2) g(1/2)>"
       ]
      }
     ],
     "prompt_number": 43
    },
    {
     "cell_type": "markdown",
     "metadata": {},
     "source": [
      "We see from this that the magnitude of the momentum change is the same but the direction is reversed."
     ]
    },
    {
     "cell_type": "markdown",
     "metadata": {},
     "source": [
      "c)\n",
      "\n",
      "The given probability is not normalized. By doing a quick integration from 0 to $2\\pi$ we have that\n",
      "\n",
      "$$\n",
      "\\int_0^{2\\pi} \\frac{(1-\\cos(\\theta))}{2} d\\theta = \\pi.\n",
      "$$\n",
      "\n",
      "By dividing with $\\pi$ we get a normalized probability density. Let us plot it:"
     ]
    },
    {
     "cell_type": "code",
     "collapsed": false,
     "input": [
      "%matplotlib inline\n",
      "theta = np.linspace(0,2*np.pi,1000) #make a list of angles\n",
      "P = (1-np.cos(theta))/(2*np.pi) #calculates Probability\n",
      "\n",
      "#plotting result\n",
      "plt.plot(theta, P, linewidth=2, color='#FF7373')\n",
      "plt.xlabel('$\\\\theta$')\n",
      "plt.ylabel('P')\n",
      "plt.grid()\n",
      "plt.show()"
     ],
     "language": "python",
     "metadata": {},
     "outputs": [
      {
       "metadata": {},
       "output_type": "display_data",
       "png": "[encoded data removed]",
       "text": [
        "<matplotlib.figure.Figure at 0x30fb9d0>"
       ]
      }
     ],
     "prompt_number": 44
    },
    {
     "cell_type": "markdown",
     "metadata": {},
     "source": [
      "If the photon is approaching the dust at an angle $\\theta = 0$, then we can see from this plot that the most probable scattering angle is $\\theta = \\pi$. Since the curve is symmetric around the mean $\\theta = \\pi$, in the limit of infinitely many scattering events, all the momentum transfers from scattering of $\\theta < \\pi$ will cancel all momentum transfers from scattering of \n",
      "$\\theta > \\pi$. Therefore we only have forward scattering contributing to the nett acceleration of the dust grain. The net acceleration will then be in the opposite direction of the incoming photon."
     ]
    },
    {
     "cell_type": "heading",
     "level": 2,
     "metadata": {},
     "source": [
      "3. Radiation pressure and gas drag"
     ]
    },
    {
     "cell_type": "markdown",
     "metadata": {},
     "source": [
      "**Q:**\n",
      "\n",
      "(a) \n",
      "\n",
      "Consider again grains with grey opacities ($\\kappa_{abs} = \\kappa_{abs,0} = 200$ cm$^2$ g$^{\u22121}$ ). Calculate\n",
      "the $\\beta = F_{rad} / F_{grav}$ due to absorption of light for both these grains around the\n",
      "Sun. Will they fall towards the sun?\n"
     ]
    },
    {
     "cell_type": "markdown",
     "metadata": {},
     "source": [
      "(b)\n",
      "\n",
      "Now consider the same grey grains, but embedded in a hydrogen gas with density\n",
      "$\\rho = 1$ g cm$^{\u22123}$. The particles will now feel a drag force when moving through the\n",
      "gas that we will take as:\n",
      "\n",
      "$$\n",
      "F_{drag} = \\pi a^2 \\rho v_{dust}^2\n",
      "$$\n",
      "\n",
      "Where a is the radius of the dust grain (we take them spherical), $\\rho$ the density of\n",
      "the gas and $v_{dust}$ the velocity of the dust particle. (Note this is the magnitude,\n",
      "the direction of the drag force is opposite to the movement of the dust grain)\n",
      "Consider MgFeSiO$_4$ grains with a mean density of 3.7 g cm$^{\u22123}$ , a spherical shape\n",
      "and a radius of 50.0 $\\mu$m. Calculate the maximum velocity these particles would\n",
      "reach when the forces have balanced out.\n"
     ]
    },
    {
     "cell_type": "markdown",
     "metadata": {},
     "source": [
      "**A:**\n",
      "\n",
      "a)\n",
      "\n",
      "If we consider the simplest case with a stationary dust particle and the forces are affecting the dust particle as in the schematic picture below, then the dust particle will fall towards the sun when $\\beta < 1$."
     ]
    },
    {
     "cell_type": "code",
     "collapsed": false,
     "input": [
      "Image('radGrav.png')"
     ],
     "language": "python",
     "metadata": {},
     "outputs": [
      {
       "metadata": {},
       "output_type": "pyout",
       "png": "[encoded data removed]",
       "prompt_number": 45,
       "text": [
        "<IPython.core.display.Image at 0x30f7a10>"
       ]
      }
     ],
     "prompt_number": 45
    },
    {
     "cell_type": "markdown",
     "metadata": {},
     "source": [
      " The radiation pressure on the dust grain can be expressed as\n",
      "\n",
      "$$\n",
      "F_{rad} = \\frac{d p}{dt} = \\frac{1}{c} \\frac{d E}{dt} = \\frac{1}{c} \\int_0^\\infty F_{\\nu} \\kappa_{abs} d\\nu = \\frac{1}{c} \\int_0^\\infty \\frac{L_{\\nu}}{4 \\pi r^2} \\kappa_{abs} d\\nu = \\frac{L_{\\odot} \\kappa_{abs}}{4\\pi r^2 c}\n",
      "$$\n",
      "\n",
      "and the gravitational force on the dust grain can be expressed as\n",
      "\n",
      "$$\n",
      "F_{grav} = \\frac{G M_{\\odot} m_{dust}}{r^2}.\n",
      "$$\n",
      "\n",
      "To find out when the dust grain starts to fall towards the sun I plot $\\beta$ as a function of grain mass with the following program:"
     ]
    },
    {
     "cell_type": "code",
     "collapsed": false,
     "input": [
      "#initialising values\n",
      "LSun = con.L_sun.cgs\n",
      "MSun = con.M_sun.cgs\n",
      "G = con.G.cgs\n",
      "c = con.c.cgs\n",
      "AU = con.au.cgs\n",
      "kappaAbs = 200 * u.centimeter**2\n",
      "rDust = 10**-4 * u.centimeter\n",
      "r = AU\n",
      "\n",
      "mDust = np.linspace(10**-2, 0.1, 2000) *u.gram # makes a list of masses\n",
      "FRad = (LSun*kappaAbs) /(4*np.pi*c*r**2) #calculate radiation pressure force\n",
      "FGrav = (G*MSun*mDust) / r**2 # calculates gravitaional force\n",
      "beta = FRad/FGrav #calculates beta\n",
      "\n",
      "#selects index closest to beta = 1 and finds mass limit.\n",
      "index=sp.where(beta < 1)\n",
      "mDustLimit = mDust[index[0][0]]\n",
      "\n",
      "#plots reslusts\n",
      "fig = plt.figure()\n",
      "ax = fig.add_subplot(111)\n",
      "line, = ax.plot(mDust.value, beta.value, linewidth=2, color='#FF7373')\n",
      "plt.xlabel('mass of dust [g]')\n",
      "plt.ylabel('$\\\\beta$')\n",
      "plt.grid()\n",
      "ax.annotate('Mass limit', xy=(mDust[index[0][0]].value, beta[index[0][0]].value),\n",
      "                xytext=(0.8, 0.95), textcoords='axes fraction',\n",
      "                arrowprops=dict(facecolor='black', shrink=0.05, width=0.3, headwidth =10),\n",
      "                horizontalalignment='right', verticalalignment='top',\n",
      "                )\n",
      "\n",
      "\n",
      "plt.show()"
     ],
     "language": "python",
     "metadata": {},
     "outputs": [
      {
       "metadata": {},
       "output_type": "display_data",
       "png": "[encoded data removed]",
       "text": [
        "<matplotlib.figure.Figure at 0x31a1250>"
       ]
      }
     ],
     "prompt_number": 46
    },
    {
     "cell_type": "markdown",
     "metadata": {},
     "source": [
      "In this calculation I have assumed that the dust grain is located at 1 AU."
     ]
    },
    {
     "cell_type": "code",
     "collapsed": false,
     "input": [
      "mDustLimit"
     ],
     "language": "python",
     "metadata": {},
     "outputs": [
      {
       "latex": [
        "$0.0154027 \\; \\mathrm{g}$"
       ],
       "metadata": {},
       "output_type": "pyout",
       "prompt_number": 47,
       "text": [
        "<Quantity 0.015402701350675337 g>"
       ]
      }
     ],
     "prompt_number": 47
    },
    {
     "cell_type": "markdown",
     "metadata": {},
     "source": [
      "For masses larger than 0.0154027 g the dust grain starts to fall towards the sun."
     ]
    },
    {
     "cell_type": "markdown",
     "metadata": {},
     "source": [
      "b)\n",
      "\n",
      "I start to calculate $\\beta$ so that I know which of the forces, $F_{grav}$ and $F_{rad}$, are the strongest.\n"
     ]
    },
    {
     "cell_type": "code",
     "collapsed": false,
     "input": [
      "#initialasing values\n",
      "rhoGas = 1 *u.gram * u.centimeter**-3\n",
      "rDust = 50*10**-4 *u.centimeter\n",
      "rhoDust = 3.7*u.gram * u.centimeter**-3\n",
      "VolDust = (4/3)*np.pi*rDust**3 #calculates volume\n",
      "mDust = rhoDust*VolDust #calculates mass\n",
      "\n",
      "FRad = (LSun*kappaAbs) /(4*np.pi*c*r**2) #calculates radiation pressure\n",
      "FGrav = (G*MSun*mDust) / r**2 #calculates gravitation\n",
      "beta = FRad/FGrav #calculates beta"
     ],
     "language": "python",
     "metadata": {},
     "outputs": [],
     "prompt_number": 48
    },
    {
     "cell_type": "code",
     "collapsed": false,
     "input": [
      "np.round(beta.value)"
     ],
     "language": "python",
     "metadata": {},
     "outputs": [
      {
       "metadata": {},
       "output_type": "pyout",
       "prompt_number": 49,
       "text": [
        "7939.0"
       ]
      }
     ],
     "prompt_number": 49
    },
    {
     "cell_type": "markdown",
     "metadata": {},
     "source": [
      "From this we see that at these small masses the radiation pressure is dominating. We should therefore expect the dust grain to move outwards, away from the star, making the drag force be directed towards the sun. We should have something that looks like:"
     ]
    },
    {
     "cell_type": "code",
     "collapsed": false,
     "input": [
      "Image('radGrav2.png')"
     ],
     "language": "python",
     "metadata": {},
     "outputs": [
      {
       "metadata": {},
       "output_type": "pyout",
       "png": "[encoded data removed]",
       "prompt_number": 50,
       "text": [
        "<IPython.core.display.Image at 0x44f06d0>"
       ]
      }
     ],
     "prompt_number": 50
    },
    {
     "cell_type": "markdown",
     "metadata": {},
     "source": [
      "To find $v_{dust}$ we balance the forces and solve for $v_{dust}$ as\n",
      "\n",
      "$$\n",
      "F_{grav} + F_{drag} = F_{rad} \\Leftrightarrow \\pi a^2 \\rho v_{dust}^2 = \\frac{L_{\\odot} \\kappa_{abs}}{4 \\pi r^2 c} - \\frac{G M_{\\odot} m_{dust}}{r^2}\n",
      "$$\n",
      "\n",
      "$$\n",
      "\\Rightarrow v_{dust} = \\sqrt{\\frac{L_{\\odot} \\kappa_{abs}}{4 \\pi r^2 c} - \\frac{G M_{\\odot} m_{dust}}{r^2}}.\n",
      "$$\n",
      "\n",
      "Putting in numbers and calculating: "
     ]
    },
    {
     "cell_type": "code",
     "collapsed": false,
     "input": [
      "vDust = np.sqrt(( (LSun*kappaAbs)/ (c *rDust**2 * 4 *np.pi**2 *r**2 *rhoGas) )\n",
      "                - ( (G *MSun *mDust)/ ( np.pi*rDust**2 *rhoGas *r**2) )) #calculates dust speed"
     ],
     "language": "python",
     "metadata": {},
     "outputs": [],
     "prompt_number": 51
    },
    {
     "cell_type": "code",
     "collapsed": false,
     "input": [
      "vDust.decompose().cgs"
     ],
     "language": "python",
     "metadata": {},
     "outputs": [
      {
       "latex": [
        "$10.7772 \\; \\mathrm{\\frac{cm}{s}}$"
       ],
       "metadata": {},
       "output_type": "pyout",
       "prompt_number": 52,
       "text": [
        "<Quantity 10.777217522070245 cm / s>"
       ]
      }
     ],
     "prompt_number": 52
    },
    {
     "cell_type": "markdown",
     "metadata": {},
     "source": [
      "When all the forces have balanced, the dust grain will move at a speed of 10.7772 cm s$^{-1}$"
     ]
    },
    {
     "cell_type": "heading",
     "level": 2,
     "metadata": {},
     "source": [
      "4. Triple star"
     ]
    },
    {
     "cell_type": "markdown",
     "metadata": {},
     "source": [
      "**Q:**\n",
      "\n",
      "A triple star with components $a$, $b$, and $c$, is observed with adaptive optics in\n",
      "a star forming region. The extinction for the region in various wavebands is related\n",
      "through $A_V = 2.90A_J$ , $A_I = 1.83A_J$ , and $A_K = 0.37A_J$ . The observed magnitudes in\n",
      "the different bands are $I_a = 10.53$, $I_{b+c} = 11.23$ (the $b$ and $c$ components are unresolved\n",
      "in the $I$-band), $J_a = 8.71$, $J_b = 10.05$, $J_c = 10.37$, $K_a = 6.53$, $K_b = 8.42$, $K_c = 8.82$.\n",
      "The a component is of spectral type $K5$, while $b$ and $c$ are of spectral type $\\sim K7$.\n",
      "The intrinsic $I \u2212 J$ colours of $K5$ and $K7$ atmospheres are $(I \u2212 J)_0 = 0.80$ and $0.92$,\n",
      "respectively.\n",
      "\n",
      "(a) Estimate the extinction $A_V$ towards the $b$ and $c$ components.\n",
      "\n",
      "(b) Assume the extinction $A_V$ is the same towards component $a$, and compute the\n",
      "excess of $a$ in the $J$ and $K$ bands.\n",
      "\n",
      "(c) The bolometric correction in $J$ for $K5$ and $K7$ is $BC(J) = 1.41$ and $1.37$, respec-\n",
      "tively. The distance modulus to the star forming region is $5.5$, and the absolute\n",
      "bolometric magnitude of the Sun is $M_{bol} = 4.5$. Compute the luminosities of\n",
      "the three components.\n",
      "\n",
      "\n",
      "(d) Using the temperature calibration $T_{eff} = 4340$ K for $K5$ and $T_{eff} = 4040$ K for\n",
      "$K7$, derive ages for the three components separately using evolutionary models by\n",
      "Baraffe et al. (1998), assuming solar metallicity. The models are available from\n",
      "Vizier, [http://cdsarc.u-strasbg.fr/viz-bin/Cat?J/A%2bA/337/403](http://cdsarc.u-strasbg.fr/viz-bin/Cat?J/A%2bA/337/403)."
     ]
    },
    {
     "cell_type": "markdown",
     "metadata": {},
     "source": [
      "**A:**\n",
      "\n",
      "a)\n",
      "\n",
      "We first note that the relation between monochromatic apparent magnitude and absolute magnitude is\n",
      "\n",
      "$$\n",
      "m_{\\lambda_1} = M_{\\lambda_1} +5\\log\\left(\\frac{r}{10 \\text{pc}}\\right) + A_{\\lambda_1}.\n",
      "$$\n",
      "\n",
      "Taking the difference between two wavelengths we have\n",
      "\n",
      "$$\n",
      "(m_{\\lambda_1} - m_{\\lambda_2})= (M_{\\lambda_1} - M_{\\lambda_2}) + (A_{\\lambda_1} - A_{\\lambda_2})\n",
      "$$\n",
      "\n",
      "where $(m_{\\lambda_1} - m_{\\lambda_2}) \\equiv C_{12}$ is the observed color index, $(M_{\\lambda_1} - M_{\\lambda_2}) \\equiv C_{12}^o$ is the intrinsic color index and $(A_{\\lambda_1} - A_{\\lambda_2}) \\equiv E_{12}$ is the color excess. Assuming the extinction is the same towards $a$, $b$ and $c$, we can find the extinction towards $b$ and $c$ if we note that for $a$ we have\n",
      "\n",
      "$$\n",
      "(I_a-J_a) - (I_a-J_a)_0 = (10.53 - 8.71) - 0.8 = 1.82 - 0.8 = 1.02 = A_I -A_J \n",
      "$$\n",
      "\n",
      "and\n",
      "\n",
      "$$\n",
      "A_I = 1.83A_J.\n",
      "$$\n",
      "\n",
      "I now solve these two equations:"
     ]
    },
    {
     "cell_type": "code",
     "collapsed": false,
     "input": [
      "from sympy import *\n",
      "AJ = Symbol('AJ') #link variable to symbol\n",
      "AI = Symbol('AI') #link variable to symbol\n",
      "solution = solve([Eq(AI-AJ, 1.02), Eq(AI -1.83*AJ, 0)], [AJ, AI]) #equation solver"
     ],
     "language": "python",
     "metadata": {},
     "outputs": [],
     "prompt_number": 53
    },
    {
     "cell_type": "code",
     "collapsed": false,
     "input": [
      "solution"
     ],
     "language": "python",
     "metadata": {},
     "outputs": [
      {
       "metadata": {},
       "output_type": "pyout",
       "prompt_number": 54,
       "text": [
        "{AJ: 1.22891566265060, AI: 2.24891566265060}"
       ]
      }
     ],
     "prompt_number": 54
    },
    {
     "cell_type": "code",
     "collapsed": false,
     "input": [
      "AJ = solution[AJ]\n",
      "AI = solution[AI]"
     ],
     "language": "python",
     "metadata": {},
     "outputs": [],
     "prompt_number": 55
    },
    {
     "cell_type": "code",
     "collapsed": false,
     "input": [
      "AK = 0.37*AJ\n",
      "AV = 2.90*AJ"
     ],
     "language": "python",
     "metadata": {},
     "outputs": [],
     "prompt_number": 56
    },
    {
     "cell_type": "code",
     "collapsed": false,
     "input": [
      "print AJ, AI, AK, AV"
     ],
     "language": "python",
     "metadata": {},
     "outputs": [
      {
       "output_type": "stream",
       "stream": "stdout",
       "text": [
        "1.22891566265060 2.24891566265060 0.454698795180723 3.56385542168675\n"
       ]
      }
     ],
     "prompt_number": 57
    },
    {
     "cell_type": "markdown",
     "metadata": {},
     "source": [
      "From this we see that $A_V = 3.5639$"
     ]
    },
    {
     "cell_type": "markdown",
     "metadata": {},
     "source": [
      "b)\n",
      "\n",
      "To compute the excess for a in the J and K bands we simply compute\n",
      "\n",
      "$$\n",
      "E_{JK} = (J-K) - (J-K)_0 = A_{J} -A_{K}\n",
      "$$"
     ]
    },
    {
     "cell_type": "code",
     "collapsed": false,
     "input": [
      "AJ-AK"
     ],
     "language": "python",
     "metadata": {},
     "outputs": [
      {
       "metadata": {},
       "output_type": "pyout",
       "prompt_number": 58,
       "text": [
        "0.774216867469879"
       ]
      }
     ],
     "prompt_number": 58
    },
    {
     "cell_type": "markdown",
     "metadata": {},
     "source": [
      "c)\n",
      "\n",
      "To calculate the luminosities for the three stars we first note that the distance modulus says\n",
      "\n",
      "$$\n",
      "\\mu = m_J -M_J \\Leftrightarrow M_J = m_J -\\mu\n",
      "$$\n",
      "\n",
      "and the bolometric magnitude is related to the J-magnitude as\n",
      "\n",
      "$$\n",
      "M_{bol} = M_J + \\text{BC(J)}.\n",
      "$$\n",
      "\n",
      "Combining these two equations gives\n",
      "\n",
      "$$\n",
      "M_{bol} = m_J -\\mu + \\text{BC(J)}\n",
      "$$\n",
      "\n",
      "which we can use to calculate the absolute magnitude of the stars:"
     ]
    },
    {
     "cell_type": "code",
     "collapsed": false,
     "input": [
      "#initialasing values\n",
      "BCJa = 1.41\n",
      "BCJbc = 1.37\n",
      "mu = 5.5\n",
      "Ja = 8.71\n",
      "Jb = 10.05\n",
      "Jc = 10.37\n",
      "\n",
      "#calculating magnitudes\n",
      "Mbola = Ja - mu + BCJa\n",
      "Mbolb = Jb - mu + BCJbc\n",
      "Mbolc = Jc - mu + BCJbc"
     ],
     "language": "python",
     "metadata": {},
     "outputs": [],
     "prompt_number": 59
    },
    {
     "cell_type": "code",
     "collapsed": false,
     "input": [
      "print Mbola, Mbolb, Mbolc"
     ],
     "language": "python",
     "metadata": {},
     "outputs": [
      {
       "output_type": "stream",
       "stream": "stdout",
       "text": [
        "4.62 5.92 6.24\n"
       ]
      }
     ],
     "prompt_number": 60
    },
    {
     "cell_type": "markdown",
     "metadata": {},
     "source": [
      "This gives\n",
      "\n",
      "$M_a = 4.62$\n",
      "\n",
      "$M_b = 5.92$\n",
      "\n",
      "$M_c = 6.24$"
     ]
    },
    {
     "cell_type": "markdown",
     "metadata": {},
     "source": [
      "To find the luminosities we can use\n",
      "\n",
      "$$\n",
      "L_{star} = 10^{-(M_{bol}-M_{Sun})/2.5} L_{sun}\n",
      "$$\n",
      "\n",
      "which I use in the following calculation:"
     ]
    },
    {
     "cell_type": "code",
     "collapsed": false,
     "input": [
      "#initialises values\n",
      "MbolSun = 4.5\n",
      "\n",
      "#calculates luminosities\n",
      "La = 10**(-(Mbola-MbolSun)/2.5) * LSun\n",
      "Lb = 10**(-(Mbolb-MbolSun)/2.5) * LSun\n",
      "Lc = 10**(-(Mbolc-MbolSun)/2.5) * LSun"
     ],
     "language": "python",
     "metadata": {},
     "outputs": [],
     "prompt_number": 61
    },
    {
     "cell_type": "code",
     "collapsed": false,
     "input": [
      "La"
     ],
     "language": "python",
     "metadata": {},
     "outputs": [
      {
       "latex": [
        "$3.44357\\times 10^{+33} \\; \\mathrm{\\frac{erg}{s}}$"
       ],
       "metadata": {},
       "output_type": "pyout",
       "prompt_number": 62,
       "text": [
        "<Quantity 3.443572888303735e+33 erg / s>"
       ]
      }
     ],
     "prompt_number": 62
    },
    {
     "cell_type": "code",
     "collapsed": false,
     "input": [
      "Lb"
     ],
     "language": "python",
     "metadata": {},
     "outputs": [
      {
       "latex": [
        "$1.03994\\times 10^{+33} \\; \\mathrm{\\frac{erg}{s}}$"
       ],
       "metadata": {},
       "output_type": "pyout",
       "prompt_number": 63,
       "text": [
        "<Quantity 1.0399423868362607e+33 erg / s>"
       ]
      }
     ],
     "prompt_number": 63
    },
    {
     "cell_type": "code",
     "collapsed": false,
     "input": [
      "Lc"
     ],
     "language": "python",
     "metadata": {},
     "outputs": [
      {
       "latex": [
        "$7.74478\\times 10^{+32} \\; \\mathrm{\\frac{erg}{s}}$"
       ],
       "metadata": {},
       "output_type": "pyout",
       "prompt_number": 64,
       "text": [
        "<Quantity 7.74478346497075e+32 erg / s>"
       ]
      }
     ],
     "prompt_number": 64
    },
    {
     "cell_type": "markdown",
     "metadata": {},
     "source": [
      "d)\n",
      "\n",
      "I finally use this information together with $T_{eff} = 4340$ K for $K5$ and $T_{eff} = 4040$ K for $K7$ and the models on [http://cdsarc.u-strasbg.fr/viz-bin/Cat?J/A%2bA/337/403](http://cdsarc.u-strasbg.fr/viz-bin/Cat?J/A%2bA/337/403) to find the ages\n",
      "\n",
      "a ~ 0.002 Gyear = 2 Myear\n",
      "\n",
      "b ~  0.00636 Gyear = 6.36 Myear\n",
      "\n",
      "c ~  0.02005 Gyear = 20.05 Myear"
     ]
    }
   ],
   "metadata": {}
  }
 ]
}