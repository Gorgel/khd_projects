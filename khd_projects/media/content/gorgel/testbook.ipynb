{
 "metadata": {
  "name": "",
  "signature": "sha256:4611b8411e4338ba3e1cddc1bb20f1441a17abc9169d84a51e0a7f76ee7f4423"
 },
 "nbformat": 3,
 "nbformat_minor": 0,
 "worksheets": [
  {
   "cells": [
    {
     "cell_type": "code",
     "collapsed": false,
     "input": [],
     "language": "python",
     "metadata": {},
     "outputs": []
    }
   ],
   "metadata": {}
  }
 ]
}